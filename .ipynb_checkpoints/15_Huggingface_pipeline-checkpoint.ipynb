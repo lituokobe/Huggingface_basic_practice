{
 "cells": [
  {
   "cell_type": "markdown",
   "id": "4848a1c6-7c60-4108-850f-0a70185ed74b",
   "metadata": {},
   "source": [
    "In Hugging Face, a pipeline is a high-level tool that lets you use powerful machine learning models with just a few lines of code—no need to worry about tokenization, model loading, or postprocessing.\n",
    "\n",
    "A pipeline wraps all the steps needed to perform a task like:\n",
    "- Text classification (e.g. sentiment analysis)\n",
    "- Named entity recognition (NER)\n",
    "- Question answering\n",
    "- Text generation\n",
    "- Translation\n",
    "- Summarization\n",
    "- Image classification, speech recognition, and more\n",
    "\n",
    "It handles:\n",
    "- Preprocessing: Tokenizing or transforming input data\n",
    "- Model inference: Running the model\n",
    "- Postprocessing: Converting outputs into human-readable results"
   ]
  },
  {
   "cell_type": "markdown",
   "id": "ce46f953-bbbc-45e3-93a8-df7993f5e38a",
   "metadata": {},
   "source": [
    "A pipeline wraps together:\n",
    "\n",
    "- A pretrained model\n",
    "- Its tokenizer\n",
    "- The task-specific logic (e.g., classification, translation, summarization)\n",
    "\n",
    "Why Use It?\n",
    "- **Beginner-friendly**: No need to understand model internals\n",
    "- **Fast prototyping**: Great for demos, experiments, and testing\n",
    "- **Customizable**: You can plug in your own models from the Hugging Face Hub"
   ]
  },
  {
   "cell_type": "code",
   "execution_count": 1,
   "id": "f0bedd7e-95be-4b03-a58a-f38458fb128e",
   "metadata": {},
   "outputs": [],
   "source": [
    "from transformers import pipeline"
   ]
  },
  {
   "cell_type": "markdown",
   "id": "73167960-2cf4-49f6-89d0-11f163acc46c",
   "metadata": {},
   "source": [
    "## Text classification"
   ]
  },
  {
   "cell_type": "code",
   "execution_count": 2,
   "id": "b2fbc37e-0149-4f24-b036-ea43bfd07a60",
   "metadata": {},
   "outputs": [
    {
     "name": "stderr",
     "output_type": "stream",
     "text": [
      "No model was supplied, defaulted to distilbert/distilbert-base-uncased-finetuned-sst-2-english and revision 714eb0f (https://huggingface.co/distilbert/distilbert-base-uncased-finetuned-sst-2-english).\n",
      "Using a pipeline without specifying a model name and revision in production is not recommended.\n",
      "Device set to use mps:0\n"
     ]
    }
   ],
   "source": [
    "classifier = pipeline('sentiment-analysis')"
   ]
  },
  {
   "cell_type": "code",
   "execution_count": 4,
   "id": "40ae26bd-9a07-40f9-8bae-8d56832ae6f4",
   "metadata": {},
   "outputs": [
    {
     "data": {
      "text/plain": [
       "[{'label': 'POSITIVE', 'score': 0.9998867511749268}]"
      ]
     },
     "execution_count": 4,
     "metadata": {},
     "output_type": "execute_result"
    }
   ],
   "source": [
    "classifier('That is a wonderful day!')"
   ]
  },
  {
   "cell_type": "code",
   "execution_count": 6,
   "id": "3341a4fc-ad94-4fdf-b491-36a1e2b0e5c1",
   "metadata": {},
   "outputs": [
    {
     "data": {
      "text/plain": [
       "[{'label': 'POSITIVE', 'score': 0.5297845602035522}]"
      ]
     },
     "execution_count": 6,
     "metadata": {},
     "output_type": "execute_result"
    }
   ],
   "source": [
    "classifier('你真是个恶心的臭婊子')"
   ]
  },
  {
   "cell_type": "code",
   "execution_count": 7,
   "id": "1035d86c-ec90-4543-8a2c-ad74d7c12dc3",
   "metadata": {},
   "outputs": [
    {
     "data": {
      "text/plain": [
       "[{'label': 'NEGATIVE', 'score': 0.9278761148452759}]"
      ]
     },
     "execution_count": 7,
     "metadata": {},
     "output_type": "execute_result"
    }
   ],
   "source": [
    "classifier('eres una perra asquerosa.')"
   ]
  },
  {
   "cell_type": "markdown",
   "id": "d9665b72-a0b4-43ce-86f5-219699eba557",
   "metadata": {},
   "source": [
    "## Reading comprehension"
   ]
  },
  {
   "cell_type": "code",
   "execution_count": 8,
   "id": "5142534e-9c06-4407-92cd-ff1971be3425",
   "metadata": {},
   "outputs": [
    {
     "name": "stderr",
     "output_type": "stream",
     "text": [
      "No model was supplied, defaulted to distilbert/distilbert-base-cased-distilled-squad and revision 564e9b5 (https://huggingface.co/distilbert/distilbert-base-cased-distilled-squad).\n",
      "Using a pipeline without specifying a model name and revision in production is not recommended.\n",
      "huggingface/tokenizers: The current process just got forked, after parallelism has already been used. Disabling parallelism to avoid deadlocks...\n",
      "To disable this warning, you can either:\n",
      "\t- Avoid using `tokenizers` before the fork if possible\n",
      "\t- Explicitly set the environment variable TOKENIZERS_PARALLELISM=(true | false)\n"
     ]
    },
    {
     "data": {
      "application/vnd.jupyter.widget-view+json": {
       "model_id": "9557ea192ea147ec947c4fb8fd3d4a2c",
       "version_major": 2,
       "version_minor": 0
      },
      "text/plain": [
       "config.json:   0%|          | 0.00/473 [00:00<?, ?B/s]"
      ]
     },
     "metadata": {},
     "output_type": "display_data"
    },
    {
     "data": {
      "application/vnd.jupyter.widget-view+json": {
       "model_id": "dd2c6be6a42a47cdaf30b6af14f2223f",
       "version_major": 2,
       "version_minor": 0
      },
      "text/plain": [
       "model.safetensors:   0%|          | 0.00/261M [00:00<?, ?B/s]"
      ]
     },
     "metadata": {},
     "output_type": "display_data"
    },
    {
     "data": {
      "application/vnd.jupyter.widget-view+json": {
       "model_id": "a2e71668af4f4b0cb3a7fe8d9a6910ae",
       "version_major": 2,
       "version_minor": 0
      },
      "text/plain": [
       "tokenizer_config.json:   0%|          | 0.00/49.0 [00:00<?, ?B/s]"
      ]
     },
     "metadata": {},
     "output_type": "display_data"
    },
    {
     "data": {
      "application/vnd.jupyter.widget-view+json": {
       "model_id": "44d2c22baa2e4e079c5462db4ae5fead",
       "version_major": 2,
       "version_minor": 0
      },
      "text/plain": [
       "vocab.txt: 0.00B [00:00, ?B/s]"
      ]
     },
     "metadata": {},
     "output_type": "display_data"
    },
    {
     "data": {
      "application/vnd.jupyter.widget-view+json": {
       "model_id": "0005b3a7d7e3469bb8a9ec2f14a8c2c7",
       "version_major": 2,
       "version_minor": 0
      },
      "text/plain": [
       "tokenizer.json: 0.00B [00:00, ?B/s]"
      ]
     },
     "metadata": {},
     "output_type": "display_data"
    },
    {
     "name": "stderr",
     "output_type": "stream",
     "text": [
      "Device set to use mps:0\n"
     ]
    }
   ],
   "source": [
    "question_answer = pipeline('question-answering')"
   ]
  },
  {
   "cell_type": "code",
   "execution_count": 31,
   "id": "313790c3-e66a-4048-9833-4910ae3a8386",
   "metadata": {},
   "outputs": [],
   "source": [
    "context = \"\"\"Napoleon P, born in June 3rd, 1765, was a shoe maker in Moscow. His parents sent him to school while he was 6 years old.\n",
    "But he could not study well and were obssessed with mechanics brought from Lain America.\n",
    "He traveled to China at age 32 and learnt how to cook Kun Pao Chicken.\n",
    "When he returns to Europe, it was the revolution time and he devoted himself to the rebellion in Hugary.\"\"\""
   ]
  },
  {
   "cell_type": "code",
   "execution_count": 32,
   "id": "8d60360d-ebbc-4c85-b396-25177fc872bd",
   "metadata": {},
   "outputs": [
    {
     "data": {
      "text/plain": [
       "{'score': 0.9794514775276184,\n",
       " 'start': 20,\n",
       " 'end': 34,\n",
       " 'answer': 'June 3rd, 1765'}"
      ]
     },
     "execution_count": 32,
     "metadata": {},
     "output_type": "execute_result"
    }
   ],
   "source": [
    "question_answer(\n",
    "    question = 'When was Napoleon born?',\n",
    "    context = context\n",
    "               )"
   ]
  },
  {
   "cell_type": "code",
   "execution_count": 33,
   "id": "315d39d6-2186-4df3-98f7-3ecca2cab5c2",
   "metadata": {},
   "outputs": [
    {
     "data": {
      "text/plain": [
       "{'score': 0.28134778141975403,\n",
       " 'start': 128,\n",
       " 'end': 148,\n",
       " 'answer': 'could not study well'}"
      ]
     },
     "execution_count": 33,
     "metadata": {},
     "output_type": "execute_result"
    }
   ],
   "source": [
    "question_answer(\n",
    "    question = \"Did Napolean study well at school?\",\n",
    "    context = context\n",
    "               )"
   ]
  },
  {
   "cell_type": "code",
   "execution_count": 34,
   "id": "52d45e2f-3fb0-4c3f-a848-74a1d930e5cd",
   "metadata": {},
   "outputs": [
    {
     "data": {
      "text/plain": [
       "{'score': 0.5448819398880005,\n",
       " 'start': 259,\n",
       " 'end': 279,\n",
       " 'answer': 'cook Kun Pao Chicken'}"
      ]
     },
     "execution_count": 34,
     "metadata": {},
     "output_type": "execute_result"
    }
   ],
   "source": [
    "question_answer(\n",
    "    question = \"What did Napolean do in China?\",\n",
    "    context = context\n",
    "               )"
   ]
  },
  {
   "cell_type": "markdown",
   "id": "ac181a79-d1b9-4165-99b9-76ffd5c1ffc1",
   "metadata": {},
   "source": [
    "## Fill mask"
   ]
  },
  {
   "cell_type": "code",
   "execution_count": 35,
   "id": "bc9a869a-219b-4e11-9e83-48b5ede03f35",
   "metadata": {},
   "outputs": [
    {
     "name": "stderr",
     "output_type": "stream",
     "text": [
      "No model was supplied, defaulted to distilbert/distilroberta-base and revision fb53ab8 (https://huggingface.co/distilbert/distilroberta-base).\n",
      "Using a pipeline without specifying a model name and revision in production is not recommended.\n"
     ]
    },
    {
     "data": {
      "application/vnd.jupyter.widget-view+json": {
       "model_id": "1266dfd7cc7047bd80eb1242a7d6eff3",
       "version_major": 2,
       "version_minor": 0
      },
      "text/plain": [
       "config.json:   0%|          | 0.00/480 [00:00<?, ?B/s]"
      ]
     },
     "metadata": {},
     "output_type": "display_data"
    },
    {
     "data": {
      "application/vnd.jupyter.widget-view+json": {
       "model_id": "3afa4970f3c04d98b742f4f0da44c2d1",
       "version_major": 2,
       "version_minor": 0
      },
      "text/plain": [
       "model.safetensors:   0%|          | 0.00/331M [00:00<?, ?B/s]"
      ]
     },
     "metadata": {},
     "output_type": "display_data"
    },
    {
     "name": "stderr",
     "output_type": "stream",
     "text": [
      "Some weights of the model checkpoint at distilbert/distilroberta-base were not used when initializing RobertaForMaskedLM: ['roberta.pooler.dense.bias', 'roberta.pooler.dense.weight']\n",
      "- This IS expected if you are initializing RobertaForMaskedLM from the checkpoint of a model trained on another task or with another architecture (e.g. initializing a BertForSequenceClassification model from a BertForPreTraining model).\n",
      "- This IS NOT expected if you are initializing RobertaForMaskedLM from the checkpoint of a model that you expect to be exactly identical (initializing a BertForSequenceClassification model from a BertForSequenceClassification model).\n"
     ]
    },
    {
     "data": {
      "application/vnd.jupyter.widget-view+json": {
       "model_id": "2ae2d166770d4795a4dcb0248c47981d",
       "version_major": 2,
       "version_minor": 0
      },
      "text/plain": [
       "tokenizer_config.json:   0%|          | 0.00/25.0 [00:00<?, ?B/s]"
      ]
     },
     "metadata": {},
     "output_type": "display_data"
    },
    {
     "data": {
      "application/vnd.jupyter.widget-view+json": {
       "model_id": "568cbaf0babc47b4b200c6c8d1486a7b",
       "version_major": 2,
       "version_minor": 0
      },
      "text/plain": [
       "vocab.json: 0.00B [00:00, ?B/s]"
      ]
     },
     "metadata": {},
     "output_type": "display_data"
    },
    {
     "data": {
      "application/vnd.jupyter.widget-view+json": {
       "model_id": "bab1825efa0442569975948725194172",
       "version_major": 2,
       "version_minor": 0
      },
      "text/plain": [
       "merges.txt: 0.00B [00:00, ?B/s]"
      ]
     },
     "metadata": {},
     "output_type": "display_data"
    },
    {
     "data": {
      "application/vnd.jupyter.widget-view+json": {
       "model_id": "d80374d03c864ccc9bca930694bef9c5",
       "version_major": 2,
       "version_minor": 0
      },
      "text/plain": [
       "tokenizer.json: 0.00B [00:00, ?B/s]"
      ]
     },
     "metadata": {},
     "output_type": "display_data"
    },
    {
     "name": "stderr",
     "output_type": "stream",
     "text": [
      "Device set to use mps:0\n"
     ]
    }
   ],
   "source": [
    "unmasker = pipeline('fill-mask')"
   ]
  },
  {
   "cell_type": "code",
   "execution_count": 36,
   "id": "661e0ea2-5a5d-499c-a7b2-8e4f04be5afe",
   "metadata": {},
   "outputs": [],
   "source": [
    "sentence = 'We were supposed to leave in the <mask> before the sunrise so that it will not be too hot for hiking.'"
   ]
  },
  {
   "cell_type": "code",
   "execution_count": 38,
   "id": "40d1c166-29cd-4140-83ef-6f99b43476c1",
   "metadata": {},
   "outputs": [
    {
     "data": {
      "text/plain": [
       "[{'score': 0.32960236072540283,\n",
       "  'token': 662,\n",
       "  'token_str': ' morning',\n",
       "  'sequence': 'We were supposed to leave in the morning before the sunrise so that it will not be too hot for hiking.'},\n",
       " {'score': 0.2961837649345398,\n",
       "  'token': 1390,\n",
       "  'token_str': ' afternoon',\n",
       "  'sequence': 'We were supposed to leave in the afternoon before the sunrise so that it will not be too hot for hiking.'},\n",
       " {'score': 0.08541944622993469,\n",
       "  'token': 1559,\n",
       "  'token_str': ' evening',\n",
       "  'sequence': 'We were supposed to leave in the evening before the sunrise so that it will not be too hot for hiking.'},\n",
       " {'score': 0.06957598030567169,\n",
       "  'token': 13686,\n",
       "  'token_str': ' shade',\n",
       "  'sequence': 'We were supposed to leave in the shade before the sunrise so that it will not be too hot for hiking.'},\n",
       " {'score': 0.049729593098163605,\n",
       "  'token': 2933,\n",
       "  'token_str': ' dark',\n",
       "  'sequence': 'We were supposed to leave in the dark before the sunrise so that it will not be too hot for hiking.'}]"
      ]
     },
     "execution_count": 38,
     "metadata": {},
     "output_type": "execute_result"
    }
   ],
   "source": [
    "unmasker(sentence)"
   ]
  },
  {
   "cell_type": "markdown",
   "id": "9da0937d-ceda-4950-8017-8571d8218735",
   "metadata": {},
   "source": [
    "## Text generation"
   ]
  },
  {
   "cell_type": "code",
   "execution_count": 40,
   "id": "eb16da66-2cf3-45d6-ac14-f5c2639ce6eb",
   "metadata": {},
   "outputs": [
    {
     "name": "stderr",
     "output_type": "stream",
     "text": [
      "No model was supplied, defaulted to openai-community/gpt2 and revision 607a30d (https://huggingface.co/openai-community/gpt2).\n",
      "Using a pipeline without specifying a model name and revision in production is not recommended.\n"
     ]
    },
    {
     "data": {
      "application/vnd.jupyter.widget-view+json": {
       "model_id": "71da2e3dca184bec9b3cfa323a4f7de5",
       "version_major": 2,
       "version_minor": 0
      },
      "text/plain": [
       "config.json:   0%|          | 0.00/665 [00:00<?, ?B/s]"
      ]
     },
     "metadata": {},
     "output_type": "display_data"
    },
    {
     "data": {
      "application/vnd.jupyter.widget-view+json": {
       "model_id": "c911873732584c2d8b1679a020d79eeb",
       "version_major": 2,
       "version_minor": 0
      },
      "text/plain": [
       "model.safetensors:   0%|          | 0.00/548M [00:00<?, ?B/s]"
      ]
     },
     "metadata": {},
     "output_type": "display_data"
    },
    {
     "data": {
      "application/vnd.jupyter.widget-view+json": {
       "model_id": "10d0f3f1902c4c3ebd31dcff8dd8becb",
       "version_major": 2,
       "version_minor": 0
      },
      "text/plain": [
       "generation_config.json:   0%|          | 0.00/124 [00:00<?, ?B/s]"
      ]
     },
     "metadata": {},
     "output_type": "display_data"
    },
    {
     "data": {
      "application/vnd.jupyter.widget-view+json": {
       "model_id": "b0650bfdaa1f46a3ab11ac1b5918eb65",
       "version_major": 2,
       "version_minor": 0
      },
      "text/plain": [
       "tokenizer_config.json:   0%|          | 0.00/26.0 [00:00<?, ?B/s]"
      ]
     },
     "metadata": {},
     "output_type": "display_data"
    },
    {
     "data": {
      "application/vnd.jupyter.widget-view+json": {
       "model_id": "543a5480ad4a49c98caac1a144631b51",
       "version_major": 2,
       "version_minor": 0
      },
      "text/plain": [
       "vocab.json: 0.00B [00:00, ?B/s]"
      ]
     },
     "metadata": {},
     "output_type": "display_data"
    },
    {
     "data": {
      "application/vnd.jupyter.widget-view+json": {
       "model_id": "8d737c50f5a74235ad760e7caa182803",
       "version_major": 2,
       "version_minor": 0
      },
      "text/plain": [
       "merges.txt: 0.00B [00:00, ?B/s]"
      ]
     },
     "metadata": {},
     "output_type": "display_data"
    },
    {
     "data": {
      "application/vnd.jupyter.widget-view+json": {
       "model_id": "c17eb102792446c0ae0fa5885559cb3e",
       "version_major": 2,
       "version_minor": 0
      },
      "text/plain": [
       "tokenizer.json: 0.00B [00:00, ?B/s]"
      ]
     },
     "metadata": {},
     "output_type": "display_data"
    },
    {
     "name": "stderr",
     "output_type": "stream",
     "text": [
      "Device set to use mps:0\n"
     ]
    }
   ],
   "source": [
    "text_generator = pipeline('text-generation')"
   ]
  },
  {
   "cell_type": "code",
   "execution_count": 41,
   "id": "5c83e717-3c26-4e3d-acdb-14830ba25923",
   "metadata": {},
   "outputs": [
    {
     "name": "stderr",
     "output_type": "stream",
     "text": [
      "Truncation was not explicitly activated but `max_length` is provided a specific value, please use `truncation=True` to explicitly truncate examples to max length. Defaulting to 'longest_first' truncation strategy. If you encode pairs of sequences (GLUE-style) with the tokenizer you can select this strategy more precisely by providing a specific strategy to `truncation`.\n",
      "The following generation flags are not valid and may be ignored: ['temperature']. Set `TRANSFORMERS_VERBOSITY=info` for more details.\n",
      "Setting `pad_token_id` to `eos_token_id`:50256 for open-end generation.\n",
      "Both `max_new_tokens` (=256) and `max_length`(=50) seem to have been set. `max_new_tokens` will take precedence. Please refer to the documentation for more information. (https://huggingface.co/docs/transformers/main/en/main_classes/text_generation)\n"
     ]
    },
    {
     "data": {
      "text/plain": [
       "[{'generated_text': 'Based on what you have descirbed, I should say that the most important thing to remember is that you should not be afraid to use your own judgement.\\n\\nIf you are going to use your own judgement, you should not be afraid to use your own judgement.\\n\\nIf you are going to use your own judgement, you should not be afraid to use your own judgement.\\n\\nIf you are going to use your own judgement, you should not be afraid to use your own judgement.\\n\\nIf you are going to use your own judgement, you should not be afraid to use your own judgement.\\n\\nIf you are going to use your own judgement, you should not be afraid to use your own judgement.\\n\\nIf you are going to use your own judgement, you should not be afraid to use your own judgement.\\n\\nIf you are going to use your own judgement, you should not be afraid to use your own judgement.\\n\\nIf you are going to use your own judgement, you should not be afraid to use your own judgement.\\n\\nIf you are going to use your own judgement, you should not be afraid to use your own judgement.\\n\\nIf you are going to use your own judgement, you should not be afraid to use your own judgement.\\n\\nIf you are'}]"
      ]
     },
     "execution_count": 41,
     "metadata": {},
     "output_type": "execute_result"
    }
   ],
   "source": [
    "text_generator('Based on what you have descirbed, I should', max_length = 50, do_sample = False)"
   ]
  },
  {
   "cell_type": "code",
   "execution_count": 42,
   "id": "0088c6c0-5e52-41dc-ac88-3d2969b33b8d",
   "metadata": {},
   "outputs": [
    {
     "name": "stderr",
     "output_type": "stream",
     "text": [
      "The following generation flags are not valid and may be ignored: ['temperature']. Set `TRANSFORMERS_VERBOSITY=info` for more details.\n",
      "Setting `pad_token_id` to `eos_token_id`:50256 for open-end generation.\n",
      "Both `max_new_tokens` (=256) and `max_length`(=50) seem to have been set. `max_new_tokens` will take precedence. Please refer to the documentation for more information. (https://huggingface.co/docs/transformers/main/en/main_classes/text_generation)\n"
     ]
    },
    {
     "data": {
      "text/plain": [
       "[{'generated_text': 'As she has left, we cannot say that she is a victim of the same kind of violence that she has been subjected to.\\n\\n\"I am not a victim of the same kind of violence that she has been subjected to. I am a victim of the same kind of violence that she has been subjected to. I am not a victim of the same kind of violence that she has been subjected to. I am not a victim of the same kind of violence that she has been subjected to. I am not a victim of the same kind of violence that she has been subjected to. I am not a victim of the same kind of violence that she has been subjected to. I am not a victim of the same kind of violence that she has been subjected to. I am not a victim of the same kind of violence that she has been subjected to. I am not a victim of the same kind of violence that she has been subjected to. I am not a victim of the same kind of violence that she has been subjected to. I am not a victim of the same kind of violence that she has been subjected to. I am not a victim of the same kind of violence that she has been subjected to. I am not a victim of the same kind of violence that she has been subjected to. I'}]"
      ]
     },
     "execution_count": 42,
     "metadata": {},
     "output_type": "execute_result"
    }
   ],
   "source": [
    "text_generator('As she has left, we cannot', max_length = 50, do_sample = False)"
   ]
  },
  {
   "cell_type": "markdown",
   "id": "26334329-5b7d-45ea-a2b8-314032896a04",
   "metadata": {},
   "source": [
    "## Identifying object"
   ]
  },
  {
   "cell_type": "code",
   "execution_count": 43,
   "id": "05239955-0719-457f-81c1-f53ef6d4c693",
   "metadata": {},
   "outputs": [],
   "source": [
    "sequence = \"\"\"Luis Migueal is a Mexican song-writer born in Shijiazhuang, China.\n",
    "He studied chemical science in La Univerdad de Lima in Peru and got an PhD degree 5 years later.\n",
    "He has a dog called Kevin and feed it with his own poop.\"\"\""
   ]
  },
  {
   "cell_type": "code",
   "execution_count": null,
   "id": "0cc6ae77-1acf-4ef6-81eb-47595e048f3b",
   "metadata": {},
   "outputs": [
    {
     "name": "stderr",
     "output_type": "stream",
     "text": [
      "No model was supplied, defaulted to dbmdz/bert-large-cased-finetuned-conll03-english and revision 4c53496 (https://huggingface.co/dbmdz/bert-large-cased-finetuned-conll03-english).\n",
      "Using a pipeline without specifying a model name and revision in production is not recommended.\n"
     ]
    },
    {
     "data": {
      "application/vnd.jupyter.widget-view+json": {
       "model_id": "9d939bcb977e4980a6d1526fc7a9ce6b",
       "version_major": 2,
       "version_minor": 0
      },
      "text/plain": [
       "config.json:   0%|          | 0.00/998 [00:00<?, ?B/s]"
      ]
     },
     "metadata": {},
     "output_type": "display_data"
    },
    {
     "data": {
      "application/vnd.jupyter.widget-view+json": {
       "model_id": "4615e0faa6ea47dc8ed7c3773145a142",
       "version_major": 2,
       "version_minor": 0
      },
      "text/plain": [
       "model.safetensors:   0%|          | 0.00/1.33G [00:00<?, ?B/s]"
      ]
     },
     "metadata": {},
     "output_type": "display_data"
    }
   ],
   "source": [
    "pipeline('ner')"
   ]
  },
  {
   "cell_type": "markdown",
   "id": "261839c9-2d76-424d-a6ec-f47cef4db988",
   "metadata": {},
   "source": [
    "## Text summarization"
   ]
  },
  {
   "cell_type": "code",
   "execution_count": 4,
   "id": "b29432a2-3a90-4c9d-8055-f1e4d945de6f",
   "metadata": {},
   "outputs": [],
   "source": [
    "article = \"\"\"\n",
    "A marathon voting session on President Donald Trump’s sweeping domestic policy bill is underway in the Senate and has stretched overnight into the early hours of Tuesday morning after a weekend of negotiations and delays.\n",
    "The vote-a-rama – an open-ended series of votes on amendments, some political, some substantive – started around 9:35 a.m. on Monday and is still going with no end in sight.\n",
    "The extended voting session provides an opportunity for Republicans to make any eleventh-hour adjustments to the package and Democrats to push on GOP weak points in the bill and put their colleagues on the spot.\n",
    "Those politically tough votes are likely to provide fodder for campaign ads down the line.\n",
    "Senate Majority Leader John Thune told reporters around 1 a.m. on Tuesday that “progress is a very elusive term” when asked if lawmakers are making progress toward a final vote.\n",
    "Trump’s multitrillion-dollar bill would lower federal taxes and infuse more money into the Pentagon and border security agencies, while downsizing government safety-net programs including Medicaid.\n",
    "Democrats have zeroed in on Medicaid and other safety-net programs, such as food stamps, as they message against the president’s agenda.\n",
    "The vote-a-rama comes after Senate Democrats employed a major delay tactic over the weekend that forced clerks to spend more than a dozen hours reading aloud the entire bill.\n",
    "Lawmakers are up against an extremely tight timeline to pass the legislation. The president has demanded Congress deliver the bill to his desk by the Fourth of July, but the measure must still go back to the House if it passes the Senate.\n",
    "In the House, Speaker Mike Johnson is confronting growing levels of consternation in his ranks about the final product, raising questions about that measure’s fate in his chamber.\n",
    "Around 3:30 a.m. on Tuesday, the Senate adopted its first amendment to the bill during the vote-a-rama.\n",
    "The amendment, offered by Republican Sen. Joni Ernst of Iowa, bars federal funds from being used for unemployment benefits to individuals whose wages are at least $1 million.\n",
    "\"\"\""
   ]
  },
  {
   "cell_type": "code",
   "execution_count": 2,
   "id": "64256e6b-600a-41cf-8b5d-a43231508e73",
   "metadata": {},
   "outputs": [
    {
     "name": "stderr",
     "output_type": "stream",
     "text": [
      "No model was supplied, defaulted to sshleifer/distilbart-cnn-12-6 and revision a4f8f3e (https://huggingface.co/sshleifer/distilbart-cnn-12-6).\n",
      "Using a pipeline without specifying a model name and revision in production is not recommended.\n"
     ]
    },
    {
     "data": {
      "application/vnd.jupyter.widget-view+json": {
       "model_id": "71109fcc26ce4fb9bc86329d27325d8a",
       "version_major": 2,
       "version_minor": 0
      },
      "text/plain": [
       "config.json: 0.00B [00:00, ?B/s]"
      ]
     },
     "metadata": {},
     "output_type": "display_data"
    },
    {
     "data": {
      "application/vnd.jupyter.widget-view+json": {
       "model_id": "303143faa77c49828611185b21b6563b",
       "version_major": 2,
       "version_minor": 0
      },
      "text/plain": [
       "pytorch_model.bin:   0%|          | 0.00/1.22G [00:00<?, ?B/s]"
      ]
     },
     "metadata": {},
     "output_type": "display_data"
    },
    {
     "data": {
      "application/vnd.jupyter.widget-view+json": {
       "model_id": "0486e16ca6824192a30911be931e1e32",
       "version_major": 2,
       "version_minor": 0
      },
      "text/plain": [
       "tokenizer_config.json:   0%|          | 0.00/26.0 [00:00<?, ?B/s]"
      ]
     },
     "metadata": {},
     "output_type": "display_data"
    },
    {
     "data": {
      "application/vnd.jupyter.widget-view+json": {
       "model_id": "1b4acba3b0fd41deab8a017106af1946",
       "version_major": 2,
       "version_minor": 0
      },
      "text/plain": [
       "model.safetensors:   0%|          | 0.00/1.22G [00:00<?, ?B/s]"
      ]
     },
     "metadata": {},
     "output_type": "display_data"
    },
    {
     "data": {
      "application/vnd.jupyter.widget-view+json": {
       "model_id": "07a2369fe8ef4c21aac5e4261fb9bd93",
       "version_major": 2,
       "version_minor": 0
      },
      "text/plain": [
       "vocab.json: 0.00B [00:00, ?B/s]"
      ]
     },
     "metadata": {},
     "output_type": "display_data"
    },
    {
     "data": {
      "application/vnd.jupyter.widget-view+json": {
       "model_id": "94847a1c8edf4016a70b7c82da225780",
       "version_major": 2,
       "version_minor": 0
      },
      "text/plain": [
       "merges.txt: 0.00B [00:00, ?B/s]"
      ]
     },
     "metadata": {},
     "output_type": "display_data"
    },
    {
     "name": "stderr",
     "output_type": "stream",
     "text": [
      "Device set to use mps:0\n"
     ]
    }
   ],
   "source": [
    "summarizer = pipeline('summarization')"
   ]
  },
  {
   "cell_type": "code",
   "execution_count": 4,
   "id": "273cb321-fa51-4f93-a87f-08b5d42283b2",
   "metadata": {},
   "outputs": [
    {
     "data": {
      "text/plain": [
       "[{'summary_text': ' The vote-a-rama started around 9:35 a.m. on Monday and is still going with no end in sight . Democrats have zeroed in on Medicaid and other safety-net programs, such as food stamps . The bill would lower federal taxes and infuse more money into the Pentagon and border security agencies .'}]"
      ]
     },
     "execution_count": 4,
     "metadata": {},
     "output_type": "execute_result"
    }
   ],
   "source": [
    "summarizer(article, max_length = 200, min_length = 30, do_sample = False)"
   ]
  },
  {
   "cell_type": "code",
   "execution_count": 5,
   "id": "95b8f683-f891-4aa7-9617-25224ec8c4b2",
   "metadata": {},
   "outputs": [
    {
     "data": {
      "text/plain": [
       "[{'summary_text': ' The vote-a-rama started around 9:35 a.m. Monday and is still going with no end in sight . It is an open-ended series of votes on amendments, some political, some substantive . Democrats have zeroed in on Medicaid and other safety-net programs, such as food stamps . The president has demanded Congress deliver the bill to his desk by the Fourth of July .'}]"
      ]
     },
     "execution_count": 5,
     "metadata": {},
     "output_type": "execute_result"
    }
   ],
   "source": [
    "summarizer(article, max_length = 200, min_length = 30, do_sample = True)"
   ]
  },
  {
   "cell_type": "markdown",
   "id": "67dc3493-95dc-4ce8-bb31-9d2b3ea4924a",
   "metadata": {},
   "source": [
    "#### `do_sample=False`: uses greedy decoding or beam search → deterministic summaries\n",
    "\n",
    "#### `do_sample=True`: enables random sampling → more diverse or creative summaries (especially when paired with top_k, top_p, or temperature)"
   ]
  },
  {
   "cell_type": "markdown",
   "id": "ae694608-11c0-4fb6-be8b-0e13ff379fb6",
   "metadata": {},
   "source": [
    "## Translation"
   ]
  },
  {
   "cell_type": "code",
   "execution_count": 2,
   "id": "69108e56-97da-41ba-940b-a0726c1e935a",
   "metadata": {},
   "outputs": [
    {
     "data": {
      "application/vnd.jupyter.widget-view+json": {
       "model_id": "984c17ae3e7d4a7186fbc8274b148c3f",
       "version_major": 2,
       "version_minor": 0
      },
      "text/plain": [
       "source.spm:   0%|          | 0.00/802k [00:00<?, ?B/s]"
      ]
     },
     "metadata": {},
     "output_type": "display_data"
    },
    {
     "data": {
      "application/vnd.jupyter.widget-view+json": {
       "model_id": "92d788cd20914aba97cdb521bf9966df",
       "version_major": 2,
       "version_minor": 0
      },
      "text/plain": [
       "target.spm:   0%|          | 0.00/826k [00:00<?, ?B/s]"
      ]
     },
     "metadata": {},
     "output_type": "display_data"
    },
    {
     "data": {
      "application/vnd.jupyter.widget-view+json": {
       "model_id": "1ed6d8c7d16243869843f57e6cb8c055",
       "version_major": 2,
       "version_minor": 0
      },
      "text/plain": [
       "vocab.json: 0.00B [00:00, ?B/s]"
      ]
     },
     "metadata": {},
     "output_type": "display_data"
    },
    {
     "name": "stderr",
     "output_type": "stream",
     "text": [
      "/opt/anaconda3/envs/Advanced_AI/lib/python3.10/site-packages/transformers/models/marian/tokenization_marian.py:175: UserWarning: Recommended: pip install sacremoses.\n",
      "  warnings.warn(\"Recommended: pip install sacremoses.\")\n",
      "Device set to use mps:0\n"
     ]
    }
   ],
   "source": [
    "translator = pipeline(\"translation\", model=\"Helsinki-NLP/opus-mt-en-es\")"
   ]
  },
  {
   "cell_type": "code",
   "execution_count": 5,
   "id": "945e9b6f-e948-4923-933e-0b43b9ebef80",
   "metadata": {},
   "outputs": [
    {
     "data": {
      "text/plain": [
       "[{'translation_text': 'En el Senado está en marcha una sesión de votación maratónica sobre el proyecto de ley de política interna del presidente Donald Trump, que se ha extendido hasta las primeras horas del martes por la mañana después de un fin de semana de negociaciones y retrasos. La sesión de votación prolongada ofrece a los republicanos la oportunidad de hacer ajustes de undécima hora al paquete y a los demócratas para impulsar puntos débiles de GOP en el proyecto de ley y poner a sus colegas en el acto. Es probable que esos votos políticamente duros proporcionen forraje para los anuncios de campaña en la línea. El líder de la mayoría del Senado, John Thune, dijo a los periodistas alrededor de 1 a.m. el martes que “el progreso es un término muy difícil” cuando se les preguntó si los legisladores están haciendo progresos hacia una votación final. La ley multimillonaria de Trump reduciría los impuestos federales y aumentaría el dinero en el penúltimo caso en las agencias de seguridad del Pentágono y en las que la Cámara de Representantes aún debe aprobar su ley el martes.'}]"
      ]
     },
     "execution_count": 5,
     "metadata": {},
     "output_type": "execute_result"
    }
   ],
   "source": [
    "translator(article)"
   ]
  },
  {
   "cell_type": "markdown",
   "id": "5dc0269e-3c10-412f-a654-e498e8a7295c",
   "metadata": {},
   "source": [
    "# Change model for task"
   ]
  },
  {
   "cell_type": "code",
   "execution_count": 7,
   "id": "f4749eb8-501c-4123-9ea2-a7b560b69d45",
   "metadata": {},
   "outputs": [],
   "source": [
    "from transformers import AutoTokenizer, AutoModelForSeq2SeqLM"
   ]
  },
  {
   "cell_type": "code",
   "execution_count": 8,
   "id": "0b006bc3-2491-4b28-bd9c-749ba955908e",
   "metadata": {},
   "outputs": [
    {
     "data": {
      "application/vnd.jupyter.widget-view+json": {
       "model_id": "6349f4fc390d4efdbb28361b5fe7396e",
       "version_major": 2,
       "version_minor": 0
      },
      "text/plain": [
       "tokenizer_config.json:   0%|          | 0.00/44.0 [00:00<?, ?B/s]"
      ]
     },
     "metadata": {},
     "output_type": "display_data"
    },
    {
     "data": {
      "application/vnd.jupyter.widget-view+json": {
       "model_id": "af194898c9c0495c9ba27481bafdcb7c",
       "version_major": 2,
       "version_minor": 0
      },
      "text/plain": [
       "config.json: 0.00B [00:00, ?B/s]"
      ]
     },
     "metadata": {},
     "output_type": "display_data"
    },
    {
     "data": {
      "application/vnd.jupyter.widget-view+json": {
       "model_id": "76662d099db742e6a9c99cce87974bcf",
       "version_major": 2,
       "version_minor": 0
      },
      "text/plain": [
       "source.spm:   0%|          | 0.00/805k [00:00<?, ?B/s]"
      ]
     },
     "metadata": {},
     "output_type": "display_data"
    },
    {
     "data": {
      "application/vnd.jupyter.widget-view+json": {
       "model_id": "516eb8937a664716807289d7b2f1b69b",
       "version_major": 2,
       "version_minor": 0
      },
      "text/plain": [
       "target.spm:   0%|          | 0.00/807k [00:00<?, ?B/s]"
      ]
     },
     "metadata": {},
     "output_type": "display_data"
    },
    {
     "data": {
      "application/vnd.jupyter.widget-view+json": {
       "model_id": "ade3ef3e35824cc695746af3eee7d687",
       "version_major": 2,
       "version_minor": 0
      },
      "text/plain": [
       "vocab.json: 0.00B [00:00, ?B/s]"
      ]
     },
     "metadata": {},
     "output_type": "display_data"
    },
    {
     "data": {
      "application/vnd.jupyter.widget-view+json": {
       "model_id": "dbfe0b58debd45dfa428b077e93f9705",
       "version_major": 2,
       "version_minor": 0
      },
      "text/plain": [
       "pytorch_model.bin:   0%|          | 0.00/312M [00:00<?, ?B/s]"
      ]
     },
     "metadata": {},
     "output_type": "display_data"
    },
    {
     "data": {
      "application/vnd.jupyter.widget-view+json": {
       "model_id": "584fa4dee5de4f60bebdd7a270990dfd",
       "version_major": 2,
       "version_minor": 0
      },
      "text/plain": [
       "generation_config.json:   0%|          | 0.00/293 [00:00<?, ?B/s]"
      ]
     },
     "metadata": {},
     "output_type": "display_data"
    },
    {
     "data": {
      "application/vnd.jupyter.widget-view+json": {
       "model_id": "bb87d30d8ea5478d8d72c14dc69768df",
       "version_major": 2,
       "version_minor": 0
      },
      "text/plain": [
       "model.safetensors:   0%|          | 0.00/312M [00:00<?, ?B/s]"
      ]
     },
     "metadata": {},
     "output_type": "display_data"
    }
   ],
   "source": [
    "tokenizer = AutoTokenizer.from_pretrained('Helsinki-NLP/opus-mt-zh-en')\n",
    "model = AutoModelForSeq2SeqLM.from_pretrained('Helsinki-NLP/opus-mt-zh-en')"
   ]
  },
  {
   "cell_type": "code",
   "execution_count": 30,
   "id": "51b019a4-06b7-413d-91b7-c78f829c215e",
   "metadata": {},
   "outputs": [],
   "source": [
    "article_cn = \"\"\"人定胜天说的是在充分了解客观规律的情况下，发挥人的主观能动性，积极思考利用规则去达成一个对人类更有利的结果\n",
    "中国足球的现状恰恰就是没有尊重足球发展的客观规律，没有认真一步步去做发展足球需要的基本功导致的结果。\"\"\""
   ]
  },
  {
   "cell_type": "code",
   "execution_count": 31,
   "id": "df303893-7b9a-4d30-98e7-d4bba2631483",
   "metadata": {},
   "outputs": [
    {
     "name": "stderr",
     "output_type": "stream",
     "text": [
      "Device set to use mps:0\n"
     ]
    }
   ],
   "source": [
    "translator2 = pipeline(task = 'translation_zh_to_en', model = model, tokenizer = tokenizer)"
   ]
  },
  {
   "cell_type": "code",
   "execution_count": 32,
   "id": "e707d9f1-7e45-420e-98fa-317e0ee291ee",
   "metadata": {},
   "outputs": [
    {
     "data": {
      "text/plain": [
       "[{'translation_text': 'The point of the winning day is to use the subjective energy of the human person, with full knowledge of the principles of objectivity, and to actively think about the use of the rules to achieve a more human-friendly outcome. The reality of football in China is precisely the lack of respect for the objective rules of football development and the failure to take serious steps to achieve the results of the basic work needed to develop football.'}]"
      ]
     },
     "execution_count": 32,
     "metadata": {},
     "output_type": "execute_result"
    }
   ],
   "source": [
    "translator2(article_cn, max_length = 20000)"
   ]
  },
  {
   "cell_type": "code",
   "execution_count": 33,
   "id": "f717284d-e26f-4174-a50c-358608cb79ff",
   "metadata": {},
   "outputs": [
    {
     "name": "stderr",
     "output_type": "stream",
     "text": [
      "Device set to use mps:0\n"
     ]
    }
   ],
   "source": [
    "translator3 = pipeline(\"translation\", model=\"Helsinki-NLP/opus-mt-zh-en\")"
   ]
  },
  {
   "cell_type": "code",
   "execution_count": 34,
   "id": "6a53a687-de3d-4524-b36f-d2af79823587",
   "metadata": {},
   "outputs": [
    {
     "data": {
      "text/plain": [
       "[{'translation_text': 'The point of the winning day is to use the subjective energy of the human person, with full knowledge of the principles of objectivity, and to actively think about the use of the rules to achieve a more human-friendly outcome. The reality of football in China is precisely the lack of respect for the objective rules of football development and the failure to take serious steps to achieve the results of the basic work needed to develop football.'}]"
      ]
     },
     "execution_count": 34,
     "metadata": {},
     "output_type": "execute_result"
    }
   ],
   "source": [
    "translator3(article_cn, max_length = 20000)"
   ]
  }
 ],
 "metadata": {
  "kernelspec": {
   "display_name": "Python 3 (ipykernel)",
   "language": "python",
   "name": "python3"
  },
  "language_info": {
   "codemirror_mode": {
    "name": "ipython",
    "version": 3
   },
   "file_extension": ".py",
   "mimetype": "text/x-python",
   "name": "python",
   "nbconvert_exporter": "python",
   "pygments_lexer": "ipython3",
   "version": "3.10.18"
  }
 },
 "nbformat": 4,
 "nbformat_minor": 5
}
