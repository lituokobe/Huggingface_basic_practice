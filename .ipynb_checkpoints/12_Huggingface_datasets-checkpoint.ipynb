{
 "cells": [
  {
   "cell_type": "markdown",
   "id": "f9563fac-0a23-47be-abf8-ca55818c2e3c",
   "metadata": {},
   "source": [
    "### You will see the downloaded data has .arrow format, which refers to the Apache Arrow columnar data format, which is designed for high-performance analytics and efficient data interchange between systems. ###\n",
    "\n",
    "- Columnar Storage: Unlike row-based formats (like CSV), Arrow stores data in columns. This makes it much faster for operations like filtering or aggregating over specific fields—especially useful in machine learning and analytics.\n",
    "\n",
    "- Memory Mapping: Hugging Face’s datasets library uses Arrow to cache datasets on disk in a way that allows them to be accessed as if they were in memory. This means you can work with large datasets without loading everything into RAM.\n",
    "\n",
    "- Zero-Copy Reads: Arrow enables zero-copy reads, which means data can be accessed without being copied into memory—speeding up processing and reducing overhead.\n",
    "\n",
    "- Interoperability: Arrow is language-agnostic and integrates well with tools like NumPy, Pandas, PyTorch, and TensorFlow."
   ]
  },
  {
   "cell_type": "markdown",
   "id": "b3b2234f-0efe-4ba7-b228-2008575ed1f6",
   "metadata": {},
   "source": [
    "### Load dataset from internet"
   ]
  },
  {
   "cell_type": "code",
   "execution_count": 1,
   "id": "0f8a0625-cb3c-4a6e-86ba-c97698818dbd",
   "metadata": {},
   "outputs": [],
   "source": [
    "from datasets import load_dataset"
   ]
  },
  {
   "cell_type": "code",
   "execution_count": null,
   "id": "d66aa6b3-9e4d-4ef0-a328-4a100654e3e1",
   "metadata": {},
   "outputs": [],
   "source": [
    "# Activate VPN \n",
    "# import os\n",
    "# os.environ['http_proxy'] = 'XXX.XXX.XX'"
   ]
  },
  {
   "cell_type": "code",
   "execution_count": 4,
   "id": "32b0ba77-69f8-4afd-ad7e-4b405ec7e2ac",
   "metadata": {},
   "outputs": [],
   "source": [
    "# dataset = load_dataset('seamew/ChnSentiCorp')\n",
    "#this data set has some problem, we need to load the one in the local machine, saved for the course"
   ]
  },
  {
   "cell_type": "code",
   "execution_count": 5,
   "id": "6b8e89aa-83ca-4306-a3a3-762e693ed550",
   "metadata": {},
   "outputs": [],
   "source": [
    "from datasets import load_from_disk"
   ]
  },
  {
   "cell_type": "code",
   "execution_count": 6,
   "id": "164584a8-0620-4e00-a22d-97449fb3f59b",
   "metadata": {},
   "outputs": [],
   "source": [
    "dataset = load_from_disk('../ChnSentiCorp/')"
   ]
  },
  {
   "cell_type": "code",
   "execution_count": 7,
   "id": "4d462acb-20f5-4834-81dd-fafb9ea69f7c",
   "metadata": {},
   "outputs": [
    {
     "data": {
      "text/plain": [
       "DatasetDict({\n",
       "    train: Dataset({\n",
       "        features: ['text', 'label'],\n",
       "        num_rows: 9600\n",
       "    })\n",
       "    validation: Dataset({\n",
       "        features: ['text', 'label'],\n",
       "        num_rows: 0\n",
       "    })\n",
       "    test: Dataset({\n",
       "        features: ['text', 'label'],\n",
       "        num_rows: 1200\n",
       "    })\n",
       "})"
      ]
     },
     "execution_count": 7,
     "metadata": {},
     "output_type": "execute_result"
    }
   ],
   "source": [
    "dataset"
   ]
  },
  {
   "cell_type": "markdown",
   "id": "70c766ff-fc0b-43cf-a08a-fbb589726fc9",
   "metadata": {},
   "source": [
    "### Load another dataset from internet"
   ]
  },
  {
   "cell_type": "code",
   "execution_count": 8,
   "id": "3d9ab3d3-4210-42dd-8470-a43406866566",
   "metadata": {},
   "outputs": [
    {
     "data": {
      "application/vnd.jupyter.widget-view+json": {
       "model_id": "852f9b70dd9c4f06941ff88e46369113",
       "version_major": 2,
       "version_minor": 0
      },
      "text/plain": [
       "ChnSentiCorp_htl_all.csv: 0.00B [00:00, ?B/s]"
      ]
     },
     "metadata": {},
     "output_type": "display_data"
    },
    {
     "data": {
      "application/vnd.jupyter.widget-view+json": {
       "model_id": "57cdb80a16ae4cd2be7a06ad74e7ce4e",
       "version_major": 2,
       "version_minor": 0
      },
      "text/plain": [
       "Generating train split:   0%|          | 0/7766 [00:00<?, ? examples/s]"
      ]
     },
     "metadata": {},
     "output_type": "display_data"
    },
    {
     "data": {
      "text/plain": [
       "DatasetDict({\n",
       "    train: Dataset({\n",
       "        features: ['label', 'review'],\n",
       "        num_rows: 7766\n",
       "    })\n",
       "})"
      ]
     },
     "execution_count": 8,
     "metadata": {},
     "output_type": "execute_result"
    }
   ],
   "source": [
    "dataset = load_dataset('dirtycomputer/ChnSentiCorp_htl_all')\n",
    "dataset"
   ]
  },
  {
   "cell_type": "code",
   "execution_count": 9,
   "id": "8efc4563-a4b0-4c5c-b60a-120af7b8c5e7",
   "metadata": {},
   "outputs": [
    {
     "data": {
      "application/vnd.jupyter.widget-view+json": {
       "model_id": "96d33a4ebdcf4960bdd2f4f701214db3",
       "version_major": 2,
       "version_minor": 0
      },
      "text/plain": [
       "Saving the dataset (0/1 shards):   0%|          | 0/7766 [00:00<?, ? examples/s]"
      ]
     },
     "metadata": {},
     "output_type": "display_data"
    }
   ],
   "source": [
    "dataset.save_to_disk('./data/ChnSentiCorp_htl_all')"
   ]
  },
  {
   "cell_type": "markdown",
   "id": "d3a695a1-713d-402a-8bfd-157a855c2cfb",
   "metadata": {},
   "source": [
    "### Loads the GLUE benchmark dataset collection, which contains multiple NLP tasks."
   ]
  },
  {
   "cell_type": "code",
   "execution_count": 10,
   "id": "e9b15f1d-8ef9-464e-bd92-188f048f2177",
   "metadata": {},
   "outputs": [
    {
     "data": {
      "application/vnd.jupyter.widget-view+json": {
       "model_id": "00871d843258437eb143ec497e5b6060",
       "version_major": 2,
       "version_minor": 0
      },
      "text/plain": [
       "README.md: 0.00B [00:00, ?B/s]"
      ]
     },
     "metadata": {},
     "output_type": "display_data"
    },
    {
     "data": {
      "application/vnd.jupyter.widget-view+json": {
       "model_id": "6d3f96b28e4c4c40a1aa78ca3e99c34b",
       "version_major": 2,
       "version_minor": 0
      },
      "text/plain": [
       "glue.py: 0.00B [00:00, ?B/s]"
      ]
     },
     "metadata": {},
     "output_type": "display_data"
    },
    {
     "data": {
      "application/vnd.jupyter.widget-view+json": {
       "model_id": "27ebaf082dfa42faaaf3a4cc27c3af37",
       "version_major": 2,
       "version_minor": 0
      },
      "text/plain": [
       "dataset_infos.json: 0.00B [00:00, ?B/s]"
      ]
     },
     "metadata": {},
     "output_type": "display_data"
    },
    {
     "name": "stdin",
     "output_type": "stream",
     "text": [
      "The repository for glue contains custom code which must be executed to correctly load the dataset. You can inspect the repository content at https://hf.co/datasets/glue.\n",
      "You can avoid this prompt in future by passing the argument `trust_remote_code=True`.\n",
      "\n",
      "Do you wish to run the custom code? [y/N]  y\n"
     ]
    },
    {
     "data": {
      "application/vnd.jupyter.widget-view+json": {
       "model_id": "c4e69595d169490ab1256f72217c15b3",
       "version_major": 2,
       "version_minor": 0
      },
      "text/plain": [
       "Downloading data:   0%|          | 0.00/7.44M [00:00<?, ?B/s]"
      ]
     },
     "metadata": {},
     "output_type": "display_data"
    },
    {
     "data": {
      "application/vnd.jupyter.widget-view+json": {
       "model_id": "cc64d6d34d614424b0f56e4aa83bb5fb",
       "version_major": 2,
       "version_minor": 0
      },
      "text/plain": [
       "Generating train split:   0%|          | 0/67349 [00:00<?, ? examples/s]"
      ]
     },
     "metadata": {},
     "output_type": "display_data"
    },
    {
     "data": {
      "application/vnd.jupyter.widget-view+json": {
       "model_id": "f23170705e3b4bc7a129d82d4f598fe0",
       "version_major": 2,
       "version_minor": 0
      },
      "text/plain": [
       "Generating validation split:   0%|          | 0/872 [00:00<?, ? examples/s]"
      ]
     },
     "metadata": {},
     "output_type": "display_data"
    },
    {
     "data": {
      "application/vnd.jupyter.widget-view+json": {
       "model_id": "32dbe2f1f40946d4a23239943dbe8979",
       "version_major": 2,
       "version_minor": 0
      },
      "text/plain": [
       "Generating test split:   0%|          | 0/1821 [00:00<?, ? examples/s]"
      ]
     },
     "metadata": {},
     "output_type": "display_data"
    },
    {
     "data": {
      "text/plain": [
       "Dataset({\n",
       "    features: ['sentence', 'label', 'idx'],\n",
       "    num_rows: 67349\n",
       "})"
      ]
     },
     "execution_count": 10,
     "metadata": {},
     "output_type": "execute_result"
    }
   ],
   "source": [
    "load_dataset(path='glue', name='sst2', split='train', revision=\"script\")"
   ]
  },
  {
   "cell_type": "markdown",
   "id": "0f46d237-5ed3-428d-8310-35366caa197f",
   "metadata": {},
   "source": [
    "## Besic operations on dataset"
   ]
  },
  {
   "cell_type": "code",
   "execution_count": 12,
   "id": "58cb2936-e901-4ca3-9b0f-ab8ffc256fe8",
   "metadata": {},
   "outputs": [],
   "source": [
    "dataset = load_from_disk('../ChnSentiCorp/')"
   ]
  },
  {
   "cell_type": "code",
   "execution_count": 13,
   "id": "6a1fc1e4-ca42-4bf4-94de-c54d1ff5badd",
   "metadata": {},
   "outputs": [
    {
     "data": {
      "text/plain": [
       "DatasetDict({\n",
       "    train: Dataset({\n",
       "        features: ['text', 'label'],\n",
       "        num_rows: 9600\n",
       "    })\n",
       "    validation: Dataset({\n",
       "        features: ['text', 'label'],\n",
       "        num_rows: 0\n",
       "    })\n",
       "    test: Dataset({\n",
       "        features: ['text', 'label'],\n",
       "        num_rows: 1200\n",
       "    })\n",
       "})"
      ]
     },
     "execution_count": 13,
     "metadata": {},
     "output_type": "execute_result"
    }
   ],
   "source": [
    "dataset"
   ]
  },
  {
   "cell_type": "code",
   "execution_count": 15,
   "id": "989fcda8-ee98-413d-a01b-1b586181d803",
   "metadata": {},
   "outputs": [],
   "source": [
    "#it's like a dictionary\n",
    "dataset = dataset['train']"
   ]
  },
  {
   "cell_type": "code",
   "execution_count": 16,
   "id": "ee6304f3-b3d0-4ded-93ed-58f72a4d08b9",
   "metadata": {},
   "outputs": [
    {
     "data": {
      "text/plain": [
       "Dataset({\n",
       "    features: ['text', 'label'],\n",
       "    num_rows: 9600\n",
       "})"
      ]
     },
     "execution_count": 16,
     "metadata": {},
     "output_type": "execute_result"
    }
   ],
   "source": [
    "dataset"
   ]
  },
  {
   "cell_type": "code",
   "execution_count": 20,
   "id": "b59e3b88-31ba-4869-abc9-93a431968177",
   "metadata": {},
   "outputs": [
    {
     "data": {
      "text/plain": [
       "{'text': '轻便，方便携带，性能也不错，能满足平时的工作需要，对出差人员来说非常不错', 'label': 1}"
      ]
     },
     "execution_count": 20,
     "metadata": {},
     "output_type": "execute_result"
    }
   ],
   "source": [
    "#it can be sliced\n",
    "dataset[12]"
   ]
  },
  {
   "cell_type": "code",
   "execution_count": 21,
   "id": "b7a9a0d8-408e-45b3-8bac-e9fbe3aa76a1",
   "metadata": {},
   "outputs": [
    {
     "name": "stdout",
     "output_type": "stream",
     "text": [
      "{'text': '选择珠江花园的原因就是方便，有电动扶梯直接到达海边，周围餐馆、食廊、商场、超市、摊位一应俱全。酒店装修一般，但还算整洁。 泳池在大堂的屋顶，因此很小，不过女儿倒是喜欢。 包的早餐是西式的，还算丰富。 服务吗，一般', 'label': 1}\n",
      "{'text': '15.4寸笔记本的键盘确实爽，基本跟台式机差不多了，蛮喜欢数字小键盘，输数字特方便，样子也很美观，做工也相当不错', 'label': 1}\n",
      "{'text': '房间太小。其他的都一般。。。。。。。。。', 'label': 0}\n",
      "{'text': '1.接电源没有几分钟,电源适配器热的不行. 2.摄像头用不起来. 3.机盖的钢琴漆，手不能摸，一摸一个印. 4.硬盘分区不好办.', 'label': 0}\n",
      "{'text': '今天才知道这书还有第6卷,真有点郁闷:为什么同一套书有两种版本呢?当当网是不是该跟出版社商量商量,单独出个第6卷,让我们的孩子不会有所遗憾。', 'label': 1}\n",
      "{'text': '机器背面似乎被撕了张什么标签，残胶还在。但是又看不出是什么标签不见了，该有的都在，怪', 'label': 0}\n",
      "{'text': '呵呵，虽然表皮看上去不错很精致，但是我还是能看得出来是盗的。但是里面的内容真的不错，我妈爱看，我自己也学着找一些穴位。', 'label': 0}\n",
      "{'text': '这本书实在是太烂了,以前听浙大的老师说这本书怎么怎么不对,哪些地方都是误导的还不相信,终于买了一本看一下,发现真是~~~无语,这种书都写得出来', 'label': 0}\n",
      "{'text': '地理位置佳，在市中心。酒店服务好、早餐品种丰富。我住的商务数码房电脑宽带速度满意,房间还算干净，离湖南路小吃街近。', 'label': 1}\n",
      "{'text': '5.1期间在这住的，位置还可以，在市委市政府附近，要去商业区和步行街得打车，屋里有蚊子，虽然空间挺大，晚上熄灯后把窗帘拉上简直是伸手不见五指，很适合睡觉，但是会被该死的蚊子吵醒！打死了两只，第二天早上还是发现又没打死的，卫生间挺大，但是设备很老旧。', 'label': 1}\n"
     ]
    }
   ],
   "source": [
    "for i in range(10):\n",
    "    print(dataset[i])"
   ]
  },
  {
   "cell_type": "code",
   "execution_count": 22,
   "id": "28380c7e-7e27-4fc4-bfdc-16ba8e6f05dc",
   "metadata": {},
   "outputs": [
    {
     "name": "stdout",
     "output_type": "stream",
     "text": [
      "[1, 1, 0, 0, 1, 0, 0, 0, 1, 1]\n"
     ]
    }
   ],
   "source": [
    "print(dataset['label'][:10])"
   ]
  },
  {
   "cell_type": "markdown",
   "id": "16963598-dfe2-4c85-bb28-e9f2539ab1cd",
   "metadata": {},
   "source": [
    "#### sort the data"
   ]
  },
  {
   "cell_type": "markdown",
   "id": "87ebe5cf-c300-4630-a379-6a3837565a0f",
   "metadata": {},
   "source": [
    "Checking the lable, 1 seems to be positive, 0 is negative."
   ]
  },
  {
   "cell_type": "code",
   "execution_count": 23,
   "id": "8bbcc6ff-6eee-4696-aa1a-d5d78eaa046a",
   "metadata": {},
   "outputs": [],
   "source": [
    "sorted_dataset = dataset.sort('label')"
   ]
  },
  {
   "cell_type": "code",
   "execution_count": 24,
   "id": "8b02ca08-78b0-48dd-a358-c019bbb828b1",
   "metadata": {},
   "outputs": [
    {
     "name": "stdout",
     "output_type": "stream",
     "text": [
      "[0, 0, 0, 0, 0, 0, 0, 0, 0, 0]\n"
     ]
    }
   ],
   "source": [
    "print(sorted_dataset['label'][:10])"
   ]
  },
  {
   "cell_type": "code",
   "execution_count": 25,
   "id": "4f3532f7-1613-4a7e-8fb3-7f599e6b6c11",
   "metadata": {},
   "outputs": [
    {
     "name": "stdout",
     "output_type": "stream",
     "text": [
      "[1, 1, 1, 1, 1, 1, 1, 1, 1, 1]\n"
     ]
    }
   ],
   "source": [
    "print(sorted_dataset['label'][-10:])"
   ]
  },
  {
   "cell_type": "markdown",
   "id": "8c659d5c-7e66-4092-94cf-939c9228b12c",
   "metadata": {},
   "source": [
    "#### shuffle the data"
   ]
  },
  {
   "cell_type": "code",
   "execution_count": 26,
   "id": "d1409c07-6f18-4d9c-990d-a2d99273a1b2",
   "metadata": {},
   "outputs": [
    {
     "data": {
      "text/plain": [
       "[0, 1, 0, 0, 0, 1, 1, 1, 0, 0]"
      ]
     },
     "execution_count": 26,
     "metadata": {},
     "output_type": "execute_result"
    }
   ],
   "source": [
    "shuffled_dataset = sorted_dataset.shuffle(seed=10)\n",
    "shuffled_dataset['label'][:10]"
   ]
  },
  {
   "cell_type": "code",
   "execution_count": 27,
   "id": "0a0ebb23-c723-4632-8b3c-444a5b38cb0f",
   "metadata": {},
   "outputs": [
    {
     "data": {
      "text/plain": [
       "Dataset({\n",
       "    features: ['text', 'label'],\n",
       "    num_rows: 6\n",
       "})"
      ]
     },
     "execution_count": 27,
     "metadata": {},
     "output_type": "execute_result"
    }
   ],
   "source": [
    "# Sample the data\n",
    "dataset.select([0, 10, 20, 30, 40, 50])"
   ]
  },
  {
   "cell_type": "markdown",
   "id": "513de282-5b90-45b5-a2e6-2083523cb8f4",
   "metadata": {},
   "source": [
    "#### filter the data"
   ]
  },
  {
   "cell_type": "code",
   "execution_count": 31,
   "id": "05d7d549-74e3-411c-a0db-1f2a4deb18fb",
   "metadata": {},
   "outputs": [
    {
     "data": {
      "text/plain": [
       "Dataset({\n",
       "    features: ['text', 'label'],\n",
       "    num_rows: 13\n",
       "})"
      ]
     },
     "execution_count": 31,
     "metadata": {},
     "output_type": "execute_result"
    }
   ],
   "source": [
    "def f(data):\n",
    "    return data['text'].startswith('非常不错')\n",
    "    \n",
    "dataset.filter(f)"
   ]
  },
  {
   "cell_type": "markdown",
   "id": "52b39c75-c348-4db9-acbf-0fc736ad6f8b",
   "metadata": {},
   "source": [
    "#### split train/test data"
   ]
  },
  {
   "cell_type": "code",
   "execution_count": 32,
   "id": "32f2e28e-c2ef-4f5a-8e62-b3d4151f0802",
   "metadata": {},
   "outputs": [
    {
     "data": {
      "text/plain": [
       "DatasetDict({\n",
       "    train: Dataset({\n",
       "        features: ['text', 'label'],\n",
       "        num_rows: 7680\n",
       "    })\n",
       "    test: Dataset({\n",
       "        features: ['text', 'label'],\n",
       "        num_rows: 1920\n",
       "    })\n",
       "})"
      ]
     },
     "execution_count": 32,
     "metadata": {},
     "output_type": "execute_result"
    }
   ],
   "source": [
    "dataset.train_test_split(test_size = 0.2)"
   ]
  },
  {
   "cell_type": "markdown",
   "id": "ac8aefd7-8d66-4743-ab89-e7c4a46ad470",
   "metadata": {},
   "source": [
    "split the data to N shares evenly"
   ]
  },
  {
   "cell_type": "code",
   "execution_count": 35,
   "id": "749a434e-4538-4f8f-97d3-09e0b7b1c463",
   "metadata": {},
   "outputs": [
    {
     "data": {
      "text/plain": [
       "Dataset({\n",
       "    features: ['text', 'label'],\n",
       "    num_rows: 2400\n",
       "})"
      ]
     },
     "execution_count": 35,
     "metadata": {},
     "output_type": "execute_result"
    }
   ],
   "source": [
    "dataset.shard(num_shards = 4, index = 0)"
   ]
  },
  {
   "cell_type": "markdown",
   "id": "b6ce31a4-3df9-4093-bb51-a5f138e940ad",
   "metadata": {},
   "source": [
    "#### rename the column"
   ]
  },
  {
   "cell_type": "code",
   "execution_count": 36,
   "id": "95b34d76-85f7-4002-a94f-b8890d2a29cd",
   "metadata": {},
   "outputs": [
    {
     "data": {
      "text/plain": [
       "Dataset({\n",
       "    features: ['text2', 'label'],\n",
       "    num_rows: 9600\n",
       "})"
      ]
     },
     "execution_count": 36,
     "metadata": {},
     "output_type": "execute_result"
    }
   ],
   "source": [
    "dataset.rename_column('text', 'text2')"
   ]
  },
  {
   "cell_type": "markdown",
   "id": "6438c49c-1444-4a36-9f3b-a48ac19fe680",
   "metadata": {},
   "source": [
    "#### delete columns"
   ]
  },
  {
   "cell_type": "code",
   "execution_count": 37,
   "id": "5e37f648-2529-4a8a-8368-7d489dcdc950",
   "metadata": {},
   "outputs": [
    {
     "data": {
      "text/plain": [
       "Dataset({\n",
       "    features: ['label'],\n",
       "    num_rows: 9600\n",
       "})"
      ]
     },
     "execution_count": 37,
     "metadata": {},
     "output_type": "execute_result"
    }
   ],
   "source": [
    "dataset.remove_columns(['text'])"
   ]
  },
  {
   "cell_type": "markdown",
   "id": "849b9a76-c6a7-48b7-8935-5700d819f2b6",
   "metadata": {},
   "source": [
    "#### mapping function"
   ]
  },
  {
   "cell_type": "code",
   "execution_count": 38,
   "id": "132905c6-3f84-4218-8af7-1e9ac8f634a0",
   "metadata": {},
   "outputs": [
    {
     "data": {
      "application/vnd.jupyter.widget-view+json": {
       "model_id": "89fc1a3ccb91435eabbba26c592d10f1",
       "version_major": 2,
       "version_minor": 0
      },
      "text/plain": [
       "Map:   0%|          | 0/9600 [00:00<?, ? examples/s]"
      ]
     },
     "metadata": {},
     "output_type": "display_data"
    }
   ],
   "source": [
    "def f2(data):\n",
    "    data['text'] = 'My sentence: ' + data['text']\n",
    "    return data\n",
    "\n",
    "maped_dataset = dataset.map(f2)"
   ]
  },
  {
   "cell_type": "code",
   "execution_count": 39,
   "id": "9dbcf7d5-81d5-4d77-948a-a1b141cefd3d",
   "metadata": {},
   "outputs": [
    {
     "data": {
      "text/plain": [
       "'机器背面似乎被撕了张什么标签，残胶还在。但是又看不出是什么标签不见了，该有的都在，怪'"
      ]
     },
     "execution_count": 39,
     "metadata": {},
     "output_type": "execute_result"
    }
   ],
   "source": [
    "dataset['text'][5]"
   ]
  },
  {
   "cell_type": "code",
   "execution_count": 40,
   "id": "c2b93693-3d17-44bd-93f9-1de0b2e212df",
   "metadata": {},
   "outputs": [
    {
     "data": {
      "text/plain": [
       "'My sentence: 机器背面似乎被撕了张什么标签，残胶还在。但是又看不出是什么标签不见了，该有的都在，怪'"
      ]
     },
     "execution_count": 40,
     "metadata": {},
     "output_type": "execute_result"
    }
   ],
   "source": [
    "maped_dataset['text'][5]"
   ]
  },
  {
   "cell_type": "markdown",
   "id": "a773fece-7fd6-400e-baa1-d1abdb6ebac0",
   "metadata": {},
   "source": [
    "#### batch acceleration"
   ]
  },
  {
   "cell_type": "code",
   "execution_count": 41,
   "id": "f080b22e-5a0e-4171-b639-5c0fafc8494a",
   "metadata": {},
   "outputs": [
    {
     "data": {
      "application/vnd.jupyter.widget-view+json": {
       "model_id": "248239b0aff949c597422bf679358e10",
       "version_major": 2,
       "version_minor": 0
      },
      "text/plain": [
       "Map (num_proc=4):   0%|          | 0/9600 [00:00<?, ? examples/s]"
      ]
     },
     "metadata": {},
     "output_type": "display_data"
    }
   ],
   "source": [
    "def f3(data):\n",
    "    text = data['text']\n",
    "    text = ['My sentence: ' + i for i in text]\n",
    "    data['text'] = text\n",
    "    return data\n",
    "\n",
    "maped_dataset2 = dataset.map(f3, batched = True, batch_size = 10000, num_proc = 4)"
   ]
  },
  {
   "cell_type": "code",
   "execution_count": 42,
   "id": "519e467a-4821-4ad5-9d51-c9409f3f93d7",
   "metadata": {},
   "outputs": [
    {
     "data": {
      "text/plain": [
       "'My sentence: 机器背面似乎被撕了张什么标签，残胶还在。但是又看不出是什么标签不见了，该有的都在，怪'"
      ]
     },
     "execution_count": 42,
     "metadata": {},
     "output_type": "execute_result"
    }
   ],
   "source": [
    "maped_dataset2['text'][5]"
   ]
  },
  {
   "cell_type": "markdown",
   "id": "831080bc-3341-44be-b150-ee1907830acf",
   "metadata": {},
   "source": [
    "#### configure data format"
   ]
  },
  {
   "cell_type": "code",
   "execution_count": null,
   "id": "ecd473a9-5bbf-4728-b04c-5a7fb3dfaeb1",
   "metadata": {},
   "outputs": [],
   "source": []
  }
 ],
 "metadata": {
  "kernelspec": {
   "display_name": "Python 3 (ipykernel)",
   "language": "python",
   "name": "python3"
  },
  "language_info": {
   "codemirror_mode": {
    "name": "ipython",
    "version": 3
   },
   "file_extension": ".py",
   "mimetype": "text/x-python",
   "name": "python",
   "nbconvert_exporter": "python",
   "pygments_lexer": "ipython3",
   "version": "3.10.18"
  }
 },
 "nbformat": 4,
 "nbformat_minor": 5
}
