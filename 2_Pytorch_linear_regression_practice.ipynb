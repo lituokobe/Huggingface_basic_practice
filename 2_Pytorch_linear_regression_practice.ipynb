{
 "cells": [
  {
   "cell_type": "markdown",
   "id": "7dba81ec-269d-4a4d-8941-6e0147f87ae5",
   "metadata": {},
   "source": [
    "## 1. Build the model"
   ]
  },
  {
   "cell_type": "code",
   "execution_count": 53,
   "id": "bc838d53-a6da-4b5c-b1ae-f86bd86cb108",
   "metadata": {},
   "outputs": [],
   "source": [
    "import torch"
   ]
  },
  {
   "cell_type": "code",
   "execution_count": 54,
   "id": "3bc4d0a3-7634-4a41-9e33-672fa4c3688b",
   "metadata": {},
   "outputs": [],
   "source": [
    "import numpy as np\n",
    "import pandas as pd\n",
    "import matplotlib.pyplot as plt"
   ]
  },
  {
   "cell_type": "code",
   "execution_count": 55,
   "id": "3391070e-85a3-4f33-a68a-794cd8098c88",
   "metadata": {},
   "outputs": [],
   "source": [
    "data = pd.read_csv('./data/income1.csv')"
   ]
  },
  {
   "cell_type": "code",
   "execution_count": 56,
   "id": "2e7ed6c5-5709-458b-94fc-570dfcd55d2a",
   "metadata": {},
   "outputs": [
    {
     "data": {
      "text/html": [
       "<div>\n",
       "<style scoped>\n",
       "    .dataframe tbody tr th:only-of-type {\n",
       "        vertical-align: middle;\n",
       "    }\n",
       "\n",
       "    .dataframe tbody tr th {\n",
       "        vertical-align: top;\n",
       "    }\n",
       "\n",
       "    .dataframe thead th {\n",
       "        text-align: right;\n",
       "    }\n",
       "</style>\n",
       "<table border=\"1\" class=\"dataframe\">\n",
       "  <thead>\n",
       "    <tr style=\"text-align: right;\">\n",
       "      <th></th>\n",
       "      <th>Unnamed: 0</th>\n",
       "      <th>Education</th>\n",
       "      <th>Income</th>\n",
       "    </tr>\n",
       "  </thead>\n",
       "  <tbody>\n",
       "    <tr>\n",
       "      <th>0</th>\n",
       "      <td>1</td>\n",
       "      <td>10.000000</td>\n",
       "      <td>26.658839</td>\n",
       "    </tr>\n",
       "    <tr>\n",
       "      <th>1</th>\n",
       "      <td>2</td>\n",
       "      <td>10.401338</td>\n",
       "      <td>27.306435</td>\n",
       "    </tr>\n",
       "    <tr>\n",
       "      <th>2</th>\n",
       "      <td>3</td>\n",
       "      <td>10.842809</td>\n",
       "      <td>22.132410</td>\n",
       "    </tr>\n",
       "    <tr>\n",
       "      <th>3</th>\n",
       "      <td>4</td>\n",
       "      <td>11.244147</td>\n",
       "      <td>21.169841</td>\n",
       "    </tr>\n",
       "    <tr>\n",
       "      <th>4</th>\n",
       "      <td>5</td>\n",
       "      <td>11.645485</td>\n",
       "      <td>15.192634</td>\n",
       "    </tr>\n",
       "  </tbody>\n",
       "</table>\n",
       "</div>"
      ],
      "text/plain": [
       "   Unnamed: 0  Education     Income\n",
       "0           1  10.000000  26.658839\n",
       "1           2  10.401338  27.306435\n",
       "2           3  10.842809  22.132410\n",
       "3           4  11.244147  21.169841\n",
       "4           5  11.645485  15.192634"
      ]
     },
     "execution_count": 56,
     "metadata": {},
     "output_type": "execute_result"
    }
   ],
   "source": [
    "data.head()"
   ]
  },
  {
   "cell_type": "code",
   "execution_count": 57,
   "id": "e90c75ce-a9e7-4f3b-a26a-82383fe864ca",
   "metadata": {},
   "outputs": [
    {
     "data": {
      "text/plain": [
       "Text(0, 0.5, 'Income')"
      ]
     },
     "execution_count": 57,
     "metadata": {},
     "output_type": "execute_result"
    },
    {
     "data": {
      "image/png": "[encoded data removed]",
      "text/plain": [
       "<Figure size 640x480 with 1 Axes>"
      ]
     },
     "metadata": {},
     "output_type": "display_data"
    }
   ],
   "source": [
    "plt.scatter(data.Education, data.Income)\n",
    "plt.xlabel('Education')\n",
    "plt.ylabel('Income')"
   ]
  },
  {
   "cell_type": "code",
   "execution_count": 58,
   "id": "74543a84-a0ff-4f79-9cdd-3750fa09e4cc",
   "metadata": {},
   "outputs": [],
   "source": [
    "# create y = wx + b\n",
    "#initialize weights\n",
    "w = torch.randn(1, requires_grad = True)\n",
    "b = torch.zeros(1, requires_grad = True)"
   ]
  },
  {
   "cell_type": "code",
   "execution_count": 59,
   "id": "1f359b98-e745-4027-9ae3-adc909330c89",
   "metadata": {},
   "outputs": [
    {
     "data": {
      "text/plain": [
       "array([0.24822491], dtype=float32)"
      ]
     },
     "execution_count": 59,
     "metadata": {},
     "output_type": "execute_result"
    }
   ],
   "source": [
    "w.detach().numpy()"
   ]
  },
  {
   "cell_type": "code",
   "execution_count": 60,
   "id": "444690c3-80d0-4466-adf1-f34b3660a82a",
   "metadata": {},
   "outputs": [
    {
     "data": {
      "text/plain": [
       "tensor([0.2482])"
      ]
     },
     "execution_count": 60,
     "metadata": {},
     "output_type": "execute_result"
    }
   ],
   "source": [
    "w.data"
   ]
  },
  {
   "cell_type": "code",
   "execution_count": 61,
   "id": "ab49439a-ddcc-4581-b305-49933f32abc1",
   "metadata": {},
   "outputs": [],
   "source": [
    "#learning rate\n",
    "ls = 0.001"
   ]
  },
  {
   "cell_type": "code",
   "execution_count": 62,
   "id": "4c6ebef2-c5ca-4b70-ba94-9840d7a2c0e5",
   "metadata": {},
   "outputs": [],
   "source": [
    "#create tensor dataset\n",
    "X = torch.from_numpy(data.Education.values.reshape(-1,1)).type(torch.FloatTensor)\n",
    "#Reshapes the array into a 2D column vector. \n",
    "#The -1 automatically infers the number of rows based on the data’s length.\n",
    "y = torch.from_numpy(data.Income.values.reshape(-1,1)).type(torch.FloatTensor)"
   ]
  },
  {
   "cell_type": "code",
   "execution_count": 63,
   "id": "94c5c854-3e66-4b05-8205-52bce90ea0c4",
   "metadata": {},
   "outputs": [
    {
     "data": {
      "text/plain": [
       "tensor([[10.0000],\n",
       "        [10.4013],\n",
       "        [10.8428],\n",
       "        [11.2441],\n",
       "        [11.6455],\n",
       "        [12.0870],\n",
       "        [12.4883],\n",
       "        [12.8896],\n",
       "        [13.2910],\n",
       "        [13.7324],\n",
       "        [14.1338],\n",
       "        [14.5351],\n",
       "        [14.9766],\n",
       "        [15.3779],\n",
       "        [15.7793],\n",
       "        [16.2207],\n",
       "        [16.6221],\n",
       "        [17.0234],\n",
       "        [17.4649],\n",
       "        [17.8662],\n",
       "        [18.2676],\n",
       "        [18.7090],\n",
       "        [19.1104],\n",
       "        [19.5117],\n",
       "        [19.9130],\n",
       "        [20.3545],\n",
       "        [20.7559],\n",
       "        [21.1572],\n",
       "        [21.5987],\n",
       "        [22.0000]])"
      ]
     },
     "execution_count": 63,
     "metadata": {},
     "output_type": "execute_result"
    }
   ],
   "source": [
    "X"
   ]
  },
  {
   "cell_type": "code",
   "execution_count": 64,
   "id": "5e0d21b1-da75-4f23-8f1e-6434c075f3b8",
   "metadata": {},
   "outputs": [
    {
     "data": {
      "text/plain": [
       "tensor([0.2482], requires_grad=True)"
      ]
     },
     "execution_count": 64,
     "metadata": {},
     "output_type": "execute_result"
    }
   ],
   "source": [
    "w"
   ]
  },
  {
   "cell_type": "code",
   "execution_count": 65,
   "id": "cccd2aee-007a-4a76-aac1-44297445ca65",
   "metadata": {},
   "outputs": [
    {
     "data": {
      "text/plain": [
       "tensor([0.], requires_grad=True)"
      ]
     },
     "execution_count": 65,
     "metadata": {},
     "output_type": "execute_result"
    }
   ],
   "source": [
    "b"
   ]
  },
  {
   "cell_type": "code",
   "execution_count": 66,
   "id": "58641cfd-2502-4ec9-adc7-c3e7d913654a",
   "metadata": {},
   "outputs": [],
   "source": [
    "y_pred = X * w + b"
   ]
  },
  {
   "cell_type": "code",
   "execution_count": 67,
   "id": "10fde11d-9502-4147-8dbf-d8f1275fc8d6",
   "metadata": {},
   "outputs": [
    {
     "data": {
      "text/plain": [
       "tensor([[2.4822],\n",
       "        [2.5819],\n",
       "        [2.6915],\n",
       "        [2.7911],\n",
       "        [2.8907],\n",
       "        [3.0003],\n",
       "        [3.0999],\n",
       "        [3.1995],\n",
       "        [3.2991],\n",
       "        [3.4087],\n",
       "        [3.5084],\n",
       "        [3.6080],\n",
       "        [3.7176],\n",
       "        [3.8172],\n",
       "        [3.9168],\n",
       "        [4.0264],\n",
       "        [4.1260],\n",
       "        [4.2256],\n",
       "        [4.3352],\n",
       "        [4.4348],\n",
       "        [4.5345],\n",
       "        [4.6440],\n",
       "        [4.7437],\n",
       "        [4.8433],\n",
       "        [4.9429],\n",
       "        [5.0525],\n",
       "        [5.1521],\n",
       "        [5.2517],\n",
       "        [5.3613],\n",
       "        [5.4609]], grad_fn=<AddBackward0>)"
      ]
     },
     "execution_count": 67,
     "metadata": {},
     "output_type": "execute_result"
    }
   ],
   "source": [
    "y_pred"
   ]
  },
  {
   "cell_type": "code",
   "execution_count": 68,
   "id": "63faab24-6737-40df-ac31-f807d4d4dfc0",
   "metadata": {},
   "outputs": [],
   "source": [
    "loss = ((y-y_pred)**2).mean()"
   ]
  },
  {
   "cell_type": "code",
   "execution_count": 69,
   "id": "f232ac21-2f1c-4381-926d-9ba6ee11bf80",
   "metadata": {},
   "outputs": [
    {
     "data": {
      "text/plain": [
       "tensor(2529.2209, grad_fn=<MeanBackward0>)"
      ]
     },
     "execution_count": 69,
     "metadata": {},
     "output_type": "execute_result"
    }
   ],
   "source": [
    "loss"
   ]
  },
  {
   "cell_type": "code",
   "execution_count": 70,
   "id": "b40fa683-9aed-4009-bdab-9d955628cb18",
   "metadata": {},
   "outputs": [],
   "source": [
    "loss.backward()"
   ]
  },
  {
   "cell_type": "code",
   "execution_count": 71,
   "id": "2c3b0ac2-ba06-4b86-b592-9f823c930bbf",
   "metadata": {},
   "outputs": [
    {
     "data": {
      "text/plain": [
       "tensor(2529.2209, grad_fn=<MeanBackward0>)"
      ]
     },
     "execution_count": 71,
     "metadata": {},
     "output_type": "execute_result"
    }
   ],
   "source": [
    "loss"
   ]
  },
  {
   "cell_type": "code",
   "execution_count": 75,
   "id": "aa0a8c4e-0130-4956-bd03-89c6c898d64e",
   "metadata": {},
   "outputs": [
    {
     "data": {
      "text/plain": [
       "tensor([0.2482], requires_grad=True)"
      ]
     },
     "execution_count": 75,
     "metadata": {},
     "output_type": "execute_result"
    }
   ],
   "source": [
    "w"
   ]
  },
  {
   "cell_type": "code",
   "execution_count": 72,
   "id": "f59cc79a-a4d8-4c14-b55f-bcfdd6b41e5e",
   "metadata": {},
   "outputs": [
    {
     "data": {
      "text/plain": [
       "tensor([-1614.8645])"
      ]
     },
     "execution_count": 72,
     "metadata": {},
     "output_type": "execute_result"
    }
   ],
   "source": [
    "w.grad"
   ]
  },
  {
   "cell_type": "code",
   "execution_count": 73,
   "id": "f0a61310-6b27-4a05-9d9f-24eef763c63c",
   "metadata": {},
   "outputs": [],
   "source": [
    "X.grad"
   ]
  },
  {
   "cell_type": "code",
   "execution_count": 74,
   "id": "2007551c-992d-4e41-bdeb-38ef8e4c5676",
   "metadata": {},
   "outputs": [
    {
     "data": {
      "text/plain": [
       "tensor([-92.3477])"
      ]
     },
     "execution_count": 74,
     "metadata": {},
     "output_type": "execute_result"
    }
   ],
   "source": [
    "b.grad"
   ]
  },
  {
   "cell_type": "code",
   "execution_count": 36,
   "id": "c33a240d-75bd-4820-baa0-b564987d5813",
   "metadata": {},
   "outputs": [],
   "source": [
    "#define the training process\n",
    "for epoch in range(5000):\n",
    "    # in pytorch, the grad will accumulate if you keep differetiate\n",
    "    if w.grad is not None:\n",
    "        # w.grad.data.zero_()\n",
    "        w.grad.zero_()\n",
    "\n",
    "    if b.grad is not None:\n",
    "        # b.grad.data.zero_()\n",
    "        b.grad.zero_()\n",
    "\n",
    "    y_pred = X * w + b\n",
    "    loss = ((y-y_pred)**2).mean()\n",
    "\n",
    "    #backprapagation\n",
    "    loss.backward()\n",
    "\n",
    "    #update w,b\n",
    "    with torch.no_grad():\n",
    "        w-=w.grad*ls\n",
    "        b-=b.grad*ls\n",
    "        # w.data-=w.grad.data*ls\n",
    "        # b.data-=b.grad.data*ls\n",
    "    "
   ]
  },
  {
   "cell_type": "code",
   "execution_count": 37,
   "id": "7e001a3c-fb4c-4f0d-a82b-14466ad9c256",
   "metadata": {},
   "outputs": [
    {
     "data": {
      "text/plain": [
       "tensor([4.1326], requires_grad=True)"
      ]
     },
     "execution_count": 37,
     "metadata": {},
     "output_type": "execute_result"
    }
   ],
   "source": [
    "w"
   ]
  },
  {
   "cell_type": "code",
   "execution_count": 38,
   "id": "37ba6a81-75bd-4512-b591-b8604be44f6e",
   "metadata": {},
   "outputs": [
    {
     "data": {
      "text/plain": [
       "tensor([-14.8037], requires_grad=True)"
      ]
     },
     "execution_count": 38,
     "metadata": {},
     "output_type": "execute_result"
    }
   ],
   "source": [
    "b"
   ]
  },
  {
   "cell_type": "code",
   "execution_count": 39,
   "id": "f9e83810-2bdc-4c49-b632-06eba5c0b081",
   "metadata": {},
   "outputs": [
    {
     "data": {
      "text/plain": [
       "[<matplotlib.lines.Line2D at 0x1179145b0>]"
      ]
     },
     "execution_count": 39,
     "metadata": {},
     "output_type": "execute_result"
    },
    {
     "data": {
      "image/png": "[encoded data removed]",
      "text/plain": [
       "<Figure size 640x480 with 1 Axes>"
      ]
     },
     "metadata": {},
     "output_type": "display_data"
    }
   ],
   "source": [
    "plt.scatter(data.Education, data.Income)\n",
    "plt.plot(X.numpy(), (X*w+b).data.numpy(),c='r')"
   ]
  },
  {
   "cell_type": "markdown",
   "id": "875ddbad-2884-4b26-ba69-6152258a0d85",
   "metadata": {},
   "source": [
    "## 2. Encapsulation"
   ]
  },
  {
   "cell_type": "code",
   "execution_count": 152,
   "id": "d8f7527d-c8b5-4f44-b569-f3b5450874b6",
   "metadata": {},
   "outputs": [],
   "source": [
    "from torch import nn"
   ]
  },
  {
   "cell_type": "code",
   "execution_count": 208,
   "id": "68477640-886d-4bf0-b512-a96ddff265d4",
   "metadata": {},
   "outputs": [],
   "source": [
    "#linear layer in pytorch\n",
    "model = nn.Linear(1, 1) #input and output are all 1 dimension"
   ]
  },
  {
   "cell_type": "code",
   "execution_count": 154,
   "id": "366ce4b0-e7f6-4e3f-894d-22fd0113b762",
   "metadata": {},
   "outputs": [],
   "source": [
    "loss_fn = nn.MSELoss() #loss function is mean squared error"
   ]
  },
  {
   "cell_type": "code",
   "execution_count": 155,
   "id": "1d7eea93-d382-4b8a-b330-5d3d80a713bd",
   "metadata": {},
   "outputs": [
    {
     "data": {
      "text/plain": [
       "Linear(in_features=1, out_features=1, bias=True)"
      ]
     },
     "execution_count": 155,
     "metadata": {},
     "output_type": "execute_result"
    }
   ],
   "source": [
    "model"
   ]
  },
  {
   "cell_type": "code",
   "execution_count": 160,
   "id": "8275ffa7-2f87-4986-a543-4232c9e77b4c",
   "metadata": {},
   "outputs": [],
   "source": [
    "opt = torch.optim.SGD(model.parameters(), lr=0.001) #define the optimizer, fist input is the parameters to update"
   ]
  },
  {
   "cell_type": "code",
   "execution_count": 228,
   "id": "ef307121-f94c-458e-8e62-60f52b572a90",
   "metadata": {},
   "outputs": [],
   "source": [
    "#create tensor dataset\n",
    "X = torch.from_numpy(data.Education.values.reshape(-1,1)).type(torch.FloatTensor)\n",
    "#Reshapes the array into a 2D column vector. \n",
    "#The -1 automatically infers the number of rows based on the data’s length.\n",
    "y = torch.from_numpy(data.Income.values.reshape(-1,1)).type(torch.FloatTensor)"
   ]
  },
  {
   "cell_type": "code",
   "execution_count": 234,
   "id": "97ff4929-e17a-4837-b58a-9fda3a3fd07d",
   "metadata": {},
   "outputs": [
    {
     "data": {
      "text/plain": [
       "torch.Size([30, 1])"
      ]
     },
     "execution_count": 234,
     "metadata": {},
     "output_type": "execute_result"
    }
   ],
   "source": [
    "X.shape"
   ]
  },
  {
   "cell_type": "code",
   "execution_count": 235,
   "id": "7a458838-0e0c-4cd1-bd41-4e7629f58269",
   "metadata": {},
   "outputs": [
    {
     "data": {
      "text/plain": [
       "tensor([[10.0000],\n",
       "        [10.4013],\n",
       "        [10.8428],\n",
       "        [11.2441],\n",
       "        [11.6455],\n",
       "        [12.0870],\n",
       "        [12.4883],\n",
       "        [12.8896],\n",
       "        [13.2910],\n",
       "        [13.7324],\n",
       "        [14.1338],\n",
       "        [14.5351],\n",
       "        [14.9766],\n",
       "        [15.3779],\n",
       "        [15.7793],\n",
       "        [16.2207],\n",
       "        [16.6221],\n",
       "        [17.0234],\n",
       "        [17.4649],\n",
       "        [17.8662],\n",
       "        [18.2676],\n",
       "        [18.7090],\n",
       "        [19.1104],\n",
       "        [19.5117],\n",
       "        [19.9130],\n",
       "        [20.3545],\n",
       "        [20.7559],\n",
       "        [21.1572],\n",
       "        [21.5987],\n",
       "        [22.0000]])"
      ]
     },
     "execution_count": 235,
     "metadata": {},
     "output_type": "execute_result"
    }
   ],
   "source": [
    "X"
   ]
  },
  {
   "cell_type": "code",
   "execution_count": 236,
   "id": "acf48427-5eaa-41a1-a0a2-1a764af66be3",
   "metadata": {},
   "outputs": [
    {
     "data": {
      "text/plain": [
       "torch.Size([1])"
      ]
     },
     "execution_count": 236,
     "metadata": {},
     "output_type": "execute_result"
    }
   ],
   "source": [
    "y.shape"
   ]
  },
  {
   "cell_type": "code",
   "execution_count": 239,
   "id": "d0244603-3c70-42af-ac52-ab44fe5527c1",
   "metadata": {},
   "outputs": [
    {
     "data": {
      "text/plain": [
       "tensor([80.2606])"
      ]
     },
     "execution_count": 239,
     "metadata": {},
     "output_type": "execute_result"
    }
   ],
   "source": [
    "y"
   ]
  },
  {
   "cell_type": "code",
   "execution_count": 237,
   "id": "e4356f61-bed9-40dc-b7dc-d462e381b1e7",
   "metadata": {},
   "outputs": [],
   "source": [
    "#training\n",
    "for epoch in range(5000):\n",
    "    for x, y in zip(X,y):\n",
    "        x = x.view(1, -1)\n",
    "        y = y.view(1) \n",
    "        y_pred = model(x)\n",
    "        loss = loss_fn(y,y_pred)\n",
    "        opt.zero_grad()\n",
    "        loss.backward()\n",
    "        opt.step()"
   ]
  },
  {
   "cell_type": "code",
   "execution_count": 238,
   "id": "4041fdcd-1004-4923-8982-0cda385e1243",
   "metadata": {},
   "outputs": [
    {
     "name": "stdout",
     "output_type": "stream",
     "text": [
      "Parameter containing:\n",
      "tensor([[0.1086]], requires_grad=True) Parameter containing:\n",
      "tensor([-0.6348], requires_grad=True)\n"
     ]
    }
   ],
   "source": [
    "print(model.weight, model.bias)"
   ]
  },
  {
   "cell_type": "code",
   "execution_count": null,
   "id": "83cd4d37-1b1a-40aa-83ca-f615afdada45",
   "metadata": {},
   "outputs": [],
   "source": []
  }
 ],
 "metadata": {
  "kernelspec": {
   "display_name": "Python 3 (ipykernel)",
   "language": "python",
   "name": "python3"
  },
  "language_info": {
   "codemirror_mode": {
    "name": "ipython",
    "version": 3
   },
   "file_extension": ".py",
   "mimetype": "text/x-python",
   "name": "python",
   "nbconvert_exporter": "python",
   "pygments_lexer": "ipython3",
   "version": "3.10.18"
  }
 },
 "nbformat": 4,
 "nbformat_minor": 5
}
