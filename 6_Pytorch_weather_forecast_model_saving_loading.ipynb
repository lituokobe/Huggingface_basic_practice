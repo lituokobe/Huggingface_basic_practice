{
 "cells": [
  {
   "cell_type": "code",
   "execution_count": 34,
   "id": "a44bcfc6-54d8-4bb9-ad49-0dcf5e13e15a",
   "metadata": {},
   "outputs": [],
   "source": [
    "import torch\n",
    "import torch.nn as nn\n",
    "import torch.nn.functional as F\n",
    "import torch.optim as optim\n",
    "import numpy as np\n",
    "import matplotlib.pyplot as plt\n",
    "import torchvision\n",
    "import os"
   ]
  },
  {
   "cell_type": "code",
   "execution_count": 99,
   "id": "834e2b27-a256-45e1-9e57-b65bcc21320b",
   "metadata": {},
   "outputs": [],
   "source": [
    "from PIL import ImageFile\n",
    "ImageFile.LOAD_TRUNCATED_IMAGES = True\n",
    "#This tells PIL to load what it can, even from truncated images, rather than throwing an error"
   ]
  },
  {
   "cell_type": "code",
   "execution_count": 36,
   "id": "10c6c4dc-a98f-4367-89c0-dfaac2dd6784",
   "metadata": {},
   "outputs": [],
   "source": [
    "#create folders for train and test pictures\n",
    "base_dir = './data/weather_pics/'\n",
    "train_dir = os.path.join(base_dir, 'train')\n",
    "test_dir = os.path.join(base_dir, 'test')"
   ]
  },
  {
   "cell_type": "code",
   "execution_count": 37,
   "id": "d7778f76-141c-4ee4-a4ef-a8a69ef0a1f0",
   "metadata": {},
   "outputs": [
    {
     "data": {
      "text/plain": [
       "'./data/weather_pics/train'"
      ]
     },
     "execution_count": 37,
     "metadata": {},
     "output_type": "execute_result"
    }
   ],
   "source": [
    "train_dir"
   ]
  },
  {
   "cell_type": "code",
   "execution_count": 38,
   "id": "ac4609fb-3cf3-4409-9a62-244cd6d81b6e",
   "metadata": {},
   "outputs": [],
   "source": [
    "filenames = os.listdir('./data/weather_pics/')"
   ]
  },
  {
   "cell_type": "code",
   "execution_count": 39,
   "id": "a91eb624-0a6b-4800-8cfa-1ad96f302eda",
   "metadata": {},
   "outputs": [
    {
     "data": {
      "text/plain": [
       "1102"
      ]
     },
     "execution_count": 39,
     "metadata": {},
     "output_type": "execute_result"
    }
   ],
   "source": [
    "len(filenames)"
   ]
  },
  {
   "cell_type": "markdown",
   "id": "1c44018c-8422-4a33-b773-357b556e719d",
   "metadata": {},
   "source": [
    "#### Make the target species list"
   ]
  },
  {
   "cell_type": "code",
   "execution_count": 40,
   "id": "ee8e7dd1-61ad-4092-9ddd-23884ea7e6dd",
   "metadata": {},
   "outputs": [
    {
     "data": {
      "text/plain": [
       "['cloudy126.jpg', 'rain20.jpg', 'rain34.jpg', 'cloudy132.jpg', 'sunrise33.jpg']"
      ]
     },
     "execution_count": 40,
     "metadata": {},
     "output_type": "execute_result"
    }
   ],
   "source": [
    "filenames[:5]"
   ]
  },
  {
   "cell_type": "code",
   "execution_count": 41,
   "id": "aa2bea8e-c984-4356-a4a3-ee3d3c5ecb1b",
   "metadata": {},
   "outputs": [],
   "source": [
    "from collections import Counter\n",
    "counter = Counter([s[:4] for s in filenames])"
   ]
  },
  {
   "cell_type": "code",
   "execution_count": 42,
   "id": "fe5a5b7d-3d37-432b-a795-f8251fe4503f",
   "metadata": {},
   "outputs": [
    {
     "data": {
      "text/plain": [
       "Counter({'sunr': 349, 'clou': 294, 'shin': 248, 'rain': 210, '.DS_': 1})"
      ]
     },
     "execution_count": 42,
     "metadata": {},
     "output_type": "execute_result"
    }
   ],
   "source": [
    "counter"
   ]
  },
  {
   "cell_type": "code",
   "execution_count": 43,
   "id": "787f4c8f-a5e9-40b2-b542-0e88e364752f",
   "metadata": {},
   "outputs": [],
   "source": [
    "species = list(counter.keys()) "
   ]
  },
  {
   "cell_type": "code",
   "execution_count": 44,
   "id": "5a62442d-d020-4ca1-a1e7-3881b9383f00",
   "metadata": {},
   "outputs": [
    {
     "data": {
      "text/plain": [
       "['clou', 'rain', 'sunr', 'shin', '.DS_']"
      ]
     },
     "execution_count": 44,
     "metadata": {},
     "output_type": "execute_result"
    }
   ],
   "source": [
    "species"
   ]
  },
  {
   "cell_type": "markdown",
   "id": "d879e2f7-b726-428a-913a-b52d24ab4b99",
   "metadata": {},
   "source": [
    "#### Separate data by train/test and targets"
   ]
  },
  {
   "cell_type": "code",
   "execution_count": 45,
   "id": "6f0ae382-2401-40b4-93e1-8ba512b2ef5e",
   "metadata": {},
   "outputs": [
    {
     "data": {
      "text/plain": [
       "'./data/weather_pics/train'"
      ]
     },
     "execution_count": 45,
     "metadata": {},
     "output_type": "execute_result"
    }
   ],
   "source": [
    "train_dir"
   ]
  },
  {
   "cell_type": "code",
   "execution_count": 46,
   "id": "a2e69086-3155-4cf6-90b1-1a603be00bc4",
   "metadata": {},
   "outputs": [],
   "source": [
    "if not os.path.exists(train_dir):\n",
    "    os.mkdir(train_dir)\n",
    "if not os.path.exists(test_dir):\n",
    "    os.mkdir(test_dir)"
   ]
  },
  {
   "cell_type": "code",
   "execution_count": 47,
   "id": "47683280-c966-4fe5-8666-58582677bd63",
   "metadata": {},
   "outputs": [
    {
     "name": "stdout",
     "output_type": "stream",
     "text": [
      "./data/weather_pics/train/clou\n",
      "./data/weather_pics/train/rain\n",
      "./data/weather_pics/train/sunr\n",
      "./data/weather_pics/train/shin\n",
      "./data/weather_pics/train/.DS_\n",
      "./data/weather_pics/test/clou\n",
      "./data/weather_pics/test/rain\n",
      "./data/weather_pics/test/sunr\n",
      "./data/weather_pics/test/shin\n",
      "./data/weather_pics/test/.DS_\n"
     ]
    }
   ],
   "source": [
    "for train_or_test in ['train', 'test']:\n",
    "    for spec in species:\n",
    "        path = os.path.join(base_dir, train_or_test, spec)\n",
    "        os.mkdir(path)\n",
    "        print(path)"
   ]
  },
  {
   "cell_type": "code",
   "execution_count": 48,
   "id": "2b7e5a98-b1a1-45b4-846f-9c8193251f70",
   "metadata": {},
   "outputs": [],
   "source": [
    "import shutil"
   ]
  },
  {
   "cell_type": "code",
   "execution_count": 49,
   "id": "2a9d5ddb-99a7-459a-ad82-fc14774e4bf6",
   "metadata": {},
   "outputs": [],
   "source": [
    "for i, img in enumerate(filenames):\n",
    "    for spec in species:\n",
    "        if spec in img:\n",
    "            imag_path = os.path.join(base_dir, img)\n",
    "            if i%5 == 0:\n",
    "                path = os.path.join(base_dir, 'test', spec, img)\n",
    "            else:\n",
    "                path = os.path.join(base_dir, 'train', spec, img)\n",
    "            shutil.copy(imag_path, path)"
   ]
  },
  {
   "cell_type": "code",
   "execution_count": 50,
   "id": "b253cbeb-92a6-4152-a108-7a7a14b846b6",
   "metadata": {},
   "outputs": [
    {
     "name": "stdout",
     "output_type": "stream",
     "text": [
      "train clou 232\n",
      "train rain 167\n",
      "train sunr 286\n",
      "train shin 195\n",
      "train .DS_ 1\n",
      "test clou 62\n",
      "test rain 43\n",
      "test sunr 63\n",
      "test shin 53\n",
      "test .DS_ 0\n"
     ]
    },
    {
     "data": {
      "text/plain": [
       "<function print>"
      ]
     },
     "execution_count": 50,
     "metadata": {},
     "output_type": "execute_result"
    }
   ],
   "source": [
    "for train_or_test in ['train', 'test']:\n",
    "    for spec in species:\n",
    "        print(train_or_test, spec, len(os.listdir(os.path.join(base_dir, train_or_test, spec))))\n",
    "print"
   ]
  },
  {
   "cell_type": "markdown",
   "id": "88a27a90-633a-4e9f-ad98-5bce95dfc8c3",
   "metadata": {},
   "source": [
    "## Preprocess images"
   ]
  },
  {
   "cell_type": "code",
   "execution_count": 51,
   "id": "d567a973-dca8-4442-8042-6395bfaec636",
   "metadata": {},
   "outputs": [],
   "source": [
    "from torchvision import transforms"
   ]
  },
  {
   "cell_type": "code",
   "execution_count": 52,
   "id": "36bda0ae-e7e7-4afb-8f60-198a6083c08a",
   "metadata": {},
   "outputs": [],
   "source": [
    "transform = transforms.Compose([\n",
    "    transforms.Resize((96,96)),\n",
    "    transforms.ToTensor(),\n",
    "    transforms.Normalize(mean=[0.5,0.5,0.5], std=[0.5,0.5,0.5])\n",
    "])"
   ]
  },
  {
   "cell_type": "code",
   "execution_count": 53,
   "id": "941200a9-2bc3-4676-913f-c1f18f6668bc",
   "metadata": {},
   "outputs": [
    {
     "data": {
      "text/plain": [
       "'./data/weather_pics/train'"
      ]
     },
     "execution_count": 53,
     "metadata": {},
     "output_type": "execute_result"
    }
   ],
   "source": [
    "train_dir"
   ]
  },
  {
   "cell_type": "markdown",
   "id": "2efe55fb-dab4-4eb7-b4e3-46f989af155b",
   "metadata": {},
   "source": [
    " `torchvision.datasets.ImageFolder ` will:\n",
    "- Walk through all subfolders inside train_dir.\n",
    "- Treat each folder name as a class label.\n",
    "- Associate every image file inside a folder with that folder’s label."
   ]
  },
  {
   "cell_type": "code",
   "execution_count": 54,
   "id": "369c9742-6d7f-4326-9a91-3561e08e3d94",
   "metadata": {},
   "outputs": [],
   "source": [
    "from torchvision.datasets import ImageFolder"
   ]
  },
  {
   "cell_type": "code",
   "execution_count": 102,
   "id": "93d7e4a6-d3f4-430d-ab26-83c587a3c436",
   "metadata": {},
   "outputs": [],
   "source": [
    "import os\n",
    "\n",
    "def clean_classes(folder):\n",
    "    for item in os.listdir(folder):\n",
    "        full_path = os.path.join(folder, item)\n",
    "        if not os.path.isdir(full_path) or item.startswith('.'):\n",
    "            try:\n",
    "                if os.path.isfile(full_path):\n",
    "                    os.remove(full_path)\n",
    "                else:\n",
    "                    shutil.rmtree(full_path)\n",
    "            except Exception as e:\n",
    "                print(f\"Could not remove {full_path}: {e}\")\n",
    "\n",
    "clean_classes(train_dir)\n",
    "clean_classes(test_dir)"
   ]
  },
  {
   "cell_type": "code",
   "execution_count": 103,
   "id": "e3551a32-6c23-4c3d-bd0c-3229a89dcfef",
   "metadata": {},
   "outputs": [],
   "source": [
    "train_ds = torchvision.datasets.ImageFolder(train_dir, transform = transform)\n",
    "test_ds = torchvision.datasets.ImageFolder(test_dir, transform = transform)"
   ]
  },
  {
   "cell_type": "code",
   "execution_count": 104,
   "id": "3cd2631a-d5a7-4ca9-95d8-3caf7fc1b950",
   "metadata": {},
   "outputs": [
    {
     "data": {
      "text/plain": [
       "Dataset ImageFolder\n",
       "    Number of datapoints: 877\n",
       "    Root location: ./data/weather_pics/train\n",
       "    StandardTransform\n",
       "Transform: Compose(\n",
       "               Resize(size=(96, 96), interpolation=bilinear, max_size=None, antialias=True)\n",
       "               ToTensor()\n",
       "               Normalize(mean=[0.5, 0.5, 0.5], std=[0.5, 0.5, 0.5])\n",
       "           )"
      ]
     },
     "execution_count": 104,
     "metadata": {},
     "output_type": "execute_result"
    }
   ],
   "source": [
    "train_ds"
   ]
  },
  {
   "cell_type": "code",
   "execution_count": 105,
   "id": "f16baa89-dfaa-4016-b9d5-c71e2201a33b",
   "metadata": {},
   "outputs": [
    {
     "data": {
      "text/plain": [
       "877"
      ]
     },
     "execution_count": 105,
     "metadata": {},
     "output_type": "execute_result"
    }
   ],
   "source": [
    "len(train_ds)"
   ]
  },
  {
   "cell_type": "code",
   "execution_count": 106,
   "id": "32856b4e-f530-48eb-85aa-df382fe314d3",
   "metadata": {},
   "outputs": [
    {
     "data": {
      "text/plain": [
       "221"
      ]
     },
     "execution_count": 106,
     "metadata": {},
     "output_type": "execute_result"
    }
   ],
   "source": [
    "len(test_ds)"
   ]
  },
  {
   "cell_type": "code",
   "execution_count": 107,
   "id": "accf0271-a6db-429a-bc71-f4f676e33517",
   "metadata": {},
   "outputs": [
    {
     "data": {
      "text/plain": [
       "['clou', 'rain', 'shin', 'sunr']"
      ]
     },
     "execution_count": 107,
     "metadata": {},
     "output_type": "execute_result"
    }
   ],
   "source": [
    "train_ds.classes"
   ]
  },
  {
   "cell_type": "code",
   "execution_count": 108,
   "id": "999197f9-12ae-4602-9f44-047156051625",
   "metadata": {},
   "outputs": [
    {
     "data": {
      "text/plain": [
       "{'clou': 0, 'rain': 1, 'shin': 2, 'sunr': 3}"
      ]
     },
     "execution_count": 108,
     "metadata": {},
     "output_type": "execute_result"
    }
   ],
   "source": [
    "train_ds.class_to_idx"
   ]
  },
  {
   "cell_type": "markdown",
   "id": "16a51c38-3822-449b-bf38-a499e96c172c",
   "metadata": {},
   "source": [
    "The output of `torchvision.datasets.ImageFolder` is actually an instance of a custom Dataset class, specifically `torchvision.datasets.folder.ImageFolder`, which inherits from `torch.utils.data.Dataset`. You can directly convert it to DataLoader for following ML practices.  \n",
    "\n",
    "**Therefore to prepare data, especailly image data for Pytorch, simply put pictures in their repective class folders and name the folder the class.**"
   ]
  },
  {
   "cell_type": "code",
   "execution_count": 109,
   "id": "e62a90f3-eacb-453a-9aa2-04f5c478af56",
   "metadata": {},
   "outputs": [],
   "source": [
    "batch_size = 32"
   ]
  },
  {
   "cell_type": "code",
   "execution_count": 110,
   "id": "9fadda9d-0115-410e-a973-10b07e0e0848",
   "metadata": {},
   "outputs": [],
   "source": [
    "train_dl = torch.utils.data.DataLoader(train_ds, batch_size = batch_size, shuffle = True)\n",
    "test_dl = torch.utils.data.DataLoader(test_ds, batch_size = batch_size*2)"
   ]
  },
  {
   "cell_type": "code",
   "execution_count": 111,
   "id": "a50e7c10-784b-4d56-a902-d8bd2adaea3f",
   "metadata": {},
   "outputs": [],
   "source": [
    "imgs, lables = next(iter(train_dl))"
   ]
  },
  {
   "cell_type": "code",
   "execution_count": 112,
   "id": "ee6d3d75-2aba-4ff0-9c76-2acf25d6cc5e",
   "metadata": {},
   "outputs": [
    {
     "data": {
      "text/plain": [
       "torch.Size([32, 3, 96, 96])"
      ]
     },
     "execution_count": 112,
     "metadata": {},
     "output_type": "execute_result"
    }
   ],
   "source": [
    "imgs.shape"
   ]
  },
  {
   "cell_type": "code",
   "execution_count": 113,
   "id": "9d7aa151-6888-4057-9683-56519f842711",
   "metadata": {},
   "outputs": [
    {
     "data": {
      "text/plain": [
       "torch.Size([32])"
      ]
     },
     "execution_count": 113,
     "metadata": {},
     "output_type": "execute_result"
    }
   ],
   "source": [
    "lables.shape"
   ]
  },
  {
   "cell_type": "markdown",
   "id": "76af434d-787e-4bc8-a5f8-b91f03a2e4e1",
   "metadata": {},
   "source": [
    "#### Check one image for preview"
   ]
  },
  {
   "cell_type": "code",
   "execution_count": 114,
   "id": "fd974ad3-54e7-4217-a989-97fad8c3e8d9",
   "metadata": {},
   "outputs": [
    {
     "name": "stderr",
     "output_type": "stream",
     "text": [
      "Clipping input data to the valid range for imshow with RGB data ([0..1] for floats or [0..255] for integers). Got range [-0.78039217..0.8509804].\n"
     ]
    },
    {
     "data": {
      "text/plain": [
       "<matplotlib.image.AxesImage at 0x13ba959c0>"
      ]
     },
     "execution_count": 114,
     "metadata": {},
     "output_type": "execute_result"
    },
    {
     "data": {
      "image/png": "[encoded data removed]",
      "text/plain": [
       "<Figure size 640x480 with 1 Axes>"
      ]
     },
     "metadata": {},
     "output_type": "display_data"
    }
   ],
   "source": [
    "plt.imshow(imgs[2].permute(1,2,0))"
   ]
  },
  {
   "cell_type": "markdown",
   "id": "2aabf7a6-ecdd-4c1c-9f18-633c9e2ebc78",
   "metadata": {},
   "source": [
    "Because the pictures are normalized, lots of dark details are below 1. To see the pictures vividly, we can do a simply conversion."
   ]
  },
  {
   "cell_type": "code",
   "execution_count": 115,
   "id": "68223339-2db2-4e15-85c2-a8525e9e7b27",
   "metadata": {},
   "outputs": [
    {
     "data": {
      "text/plain": [
       "<matplotlib.image.AxesImage at 0x13bb1acb0>"
      ]
     },
     "execution_count": 115,
     "metadata": {},
     "output_type": "execute_result"
    },
    {
     "data": {
      "image/png": "[encoded data removed]",
      "text/plain": [
       "<Figure size 640x480 with 1 Axes>"
      ]
     },
     "metadata": {},
     "output_type": "display_data"
    }
   ],
   "source": [
    "img_test = (imgs[2] + 1)/2\n",
    "plt.imshow(img_test.permute(1,2,0))"
   ]
  },
  {
   "cell_type": "markdown",
   "id": "2eece215-74d9-4b4c-914f-64b28ac0a6f3",
   "metadata": {},
   "source": [
    "### Batch normalization\n",
    "$$x' = \\beta + \\gamma\\frac{x-\\mu}{\\sigma} $$\n",
    "$\\beta$ and $\\gamma$ are parameters that need to be learnt via back propagation."
   ]
  },
  {
   "cell_type": "code",
   "execution_count": 116,
   "id": "2f05e7c3-79f6-49bc-8e12-788effa7ee8b",
   "metadata": {},
   "outputs": [],
   "source": [
    "class Net(nn.Module):\n",
    "    def __init__(self):\n",
    "        super().__init__()\n",
    "        self.conv1 = nn.Conv2d(3, 16, 3) #16, 94, 94\n",
    "        #batch normalization\n",
    "        self.bn1 = nn.BatchNorm2d(16) #16 channles\n",
    "        self.pool = nn.MaxPool2d(2,2) # 16, 47, 47\n",
    "        self.conv2 = nn.Conv2d(16, 32, 3) #32, 45, 45\n",
    "        self.bn2 = nn.BatchNorm2d(32) #32 channles\n",
    "        #another layer of pooling 32, 22, 22\n",
    "        self.conv3 = nn.Conv2d(32, 64, 3) # 64, 20, 20\n",
    "        self.bn3 = nn.BatchNorm2d(64) #64 channles\n",
    "        #another layer of pooling 64, 10, 10\n",
    "        \n",
    "        self.dropout = nn.Dropout(0.5)\n",
    "\n",
    "        self.fc1 = nn.Linear(64*10*10, 1024)\n",
    "        self.bn_fc1 = nn.BatchNorm1d(1024) #1024 channles\n",
    "        self.fc2 = nn.Linear(1024, 256)\n",
    "        self.bn_fc2 = nn.BatchNorm1d(256) #2564 channles\n",
    "        self.fc3 = nn.Linear(256, 4)\n",
    "\n",
    "    def forward(self, x):\n",
    "        x = self.pool(F.relu(self.conv1(x)))\n",
    "        x = self.bn1(x)\n",
    "        x = self.pool(F.relu(self.conv2(x)))\n",
    "        x = self.bn2(x)\n",
    "        x = self.pool(F.relu(self.conv3(x)))\n",
    "        x = self.bn3(x)\n",
    "\n",
    "        x = nn.Flatten()(x)\n",
    "        # x = x.view(-1, 64*10*10)\n",
    "        x = F.relu(self.fc1(x))\n",
    "        x = self.bn_fc1(x)\n",
    "        x = self.dropout(x)\n",
    "        x = F.relu(self.fc2(x))\n",
    "        x = self.bn_fc2(x)\n",
    "        x = self.dropout(x)\n",
    "        x = self.fc3(x)\n",
    "        \n",
    "        return x"
   ]
  },
  {
   "cell_type": "code",
   "execution_count": 117,
   "id": "486a2835-4483-48cd-99f9-0d0350f88a40",
   "metadata": {},
   "outputs": [
    {
     "data": {
      "text/plain": [
       "Net(\n",
       "  (conv1): Conv2d(3, 16, kernel_size=(3, 3), stride=(1, 1))\n",
       "  (bn1): BatchNorm2d(16, eps=1e-05, momentum=0.1, affine=True, track_running_stats=True)\n",
       "  (pool): MaxPool2d(kernel_size=2, stride=2, padding=0, dilation=1, ceil_mode=False)\n",
       "  (conv2): Conv2d(16, 32, kernel_size=(3, 3), stride=(1, 1))\n",
       "  (bn2): BatchNorm2d(32, eps=1e-05, momentum=0.1, affine=True, track_running_stats=True)\n",
       "  (conv3): Conv2d(32, 64, kernel_size=(3, 3), stride=(1, 1))\n",
       "  (bn3): BatchNorm2d(64, eps=1e-05, momentum=0.1, affine=True, track_running_stats=True)\n",
       "  (dropout): Dropout(p=0.5, inplace=False)\n",
       "  (fc1): Linear(in_features=6400, out_features=1024, bias=True)\n",
       "  (bn_fc1): BatchNorm1d(1024, eps=1e-05, momentum=0.1, affine=True, track_running_stats=True)\n",
       "  (fc2): Linear(in_features=1024, out_features=256, bias=True)\n",
       "  (bn_fc2): BatchNorm1d(256, eps=1e-05, momentum=0.1, affine=True, track_running_stats=True)\n",
       "  (fc3): Linear(in_features=256, out_features=4, bias=True)\n",
       ")"
      ]
     },
     "execution_count": 117,
     "metadata": {},
     "output_type": "execute_result"
    }
   ],
   "source": [
    "model = Net()\n",
    "device = torch.device(\"mps\" if torch.backends.mps.is_available() else \"cpu\")\n",
    "model.to(device)"
   ]
  },
  {
   "cell_type": "code",
   "execution_count": 118,
   "id": "806f6b20-18fc-48e3-963f-e7fbd286036f",
   "metadata": {},
   "outputs": [],
   "source": [
    "optimizer = optim.Adam(model.parameters(), lr = 0.001)\n",
    "loss_fn = nn.CrossEntropyLoss()"
   ]
  },
  {
   "cell_type": "code",
   "execution_count": 119,
   "id": "8482203b-fd75-4df6-96ab-2deb7cca6406",
   "metadata": {},
   "outputs": [],
   "source": [
    "def fit (epoch, model, train_loader, test_loader):\n",
    "    correct = 0\n",
    "    total = 0\n",
    "    running_loss = 0\n",
    "\n",
    "    for x, y in train_loader:\n",
    "        #put the data to GPU\n",
    "        x, y = x.to(device), y.to(device)\n",
    "        y_pred = model(x)\n",
    "        loss = loss_fn(y_pred, y)\n",
    "        optimizer.zero_grad()\n",
    "        loss.backward()\n",
    "        optimizer.step()\n",
    "        \n",
    "        with torch.no_grad():\n",
    "            y_pred = torch.argmax(y_pred, dim = 1)\n",
    "            correct += (y_pred==y).sum().item()\n",
    "            total += y.size(0)\n",
    "            running_loss +=loss.item()\n",
    "            \n",
    "    epoch_loss = running_loss/len(train_loader.dataset)\n",
    "    epoch_acc = correct/total\n",
    "    \n",
    "    #test\n",
    "    test_correct = 0\n",
    "    test_running_loss = 0\n",
    "    test_total = 0\n",
    "\n",
    "    with torch.no_grad():\n",
    "        for x, y in test_loader:\n",
    "            #put the data to GPU\n",
    "            x, y = x.to(device), y.to(device)\n",
    "            y_pred = model(x)\n",
    "            loss = loss_fn(y_pred, y)\n",
    "            y_pred = torch.argmax(y_pred, dim = 1)\n",
    "            test_correct += (y_pred==y).sum().item()\n",
    "            test_total += y.size(0)\n",
    "            test_running_loss +=loss.item()\n",
    "    \n",
    "    test_epoch_loss = test_running_loss/len(test_loader.dataset)\n",
    "    test_epoch_acc = test_correct/test_total\n",
    "\n",
    "    print(f'Epoch: {epoch}, loss:{round(epoch_loss, 3)}, accuracy: {round(epoch_acc, 3)}, test_loss: {round(test_epoch_loss, 3)}, test_accuracy: {round(test_epoch_acc, 3)}')\n",
    "    \n",
    "    return  epoch_loss, epoch_acc, test_epoch_loss, test_epoch_acc  \n",
    "                "
   ]
  },
  {
   "cell_type": "code",
   "execution_count": 120,
   "id": "f9cde55c-f245-4a68-bab4-1e5ac121ef98",
   "metadata": {},
   "outputs": [
    {
     "name": "stdout",
     "output_type": "stream",
     "text": [
      "Epoch: 0, loss:0.02, accuracy: 0.741, test_loss: 0.044, test_accuracy: 0.416\n",
      "Epoch: 1, loss:0.012, accuracy: 0.863, test_loss: 0.05, test_accuracy: 0.439\n",
      "Epoch: 2, loss:0.009, accuracy: 0.909, test_loss: 0.051, test_accuracy: 0.462\n",
      "Epoch: 3, loss:0.007, accuracy: 0.916, test_loss: 0.047, test_accuracy: 0.484\n",
      "Epoch: 4, loss:0.005, accuracy: 0.954, test_loss: 0.05, test_accuracy: 0.498\n",
      "Epoch: 5, loss:0.005, accuracy: 0.946, test_loss: 0.053, test_accuracy: 0.48\n",
      "Epoch: 6, loss:0.005, accuracy: 0.943, test_loss: 0.051, test_accuracy: 0.462\n",
      "Epoch: 7, loss:0.004, accuracy: 0.952, test_loss: 0.055, test_accuracy: 0.466\n",
      "Epoch: 8, loss:0.003, accuracy: 0.97, test_loss: 0.051, test_accuracy: 0.493\n",
      "Epoch: 9, loss:0.003, accuracy: 0.977, test_loss: 0.055, test_accuracy: 0.498\n",
      "Epoch: 10, loss:0.004, accuracy: 0.95, test_loss: 0.059, test_accuracy: 0.502\n",
      "Epoch: 11, loss:0.003, accuracy: 0.968, test_loss: 0.06, test_accuracy: 0.502\n",
      "Epoch: 12, loss:0.003, accuracy: 0.966, test_loss: 0.059, test_accuracy: 0.489\n",
      "Epoch: 13, loss:0.003, accuracy: 0.974, test_loss: 0.06, test_accuracy: 0.466\n",
      "Epoch: 14, loss:0.002, accuracy: 0.975, test_loss: 0.061, test_accuracy: 0.502\n",
      "Epoch: 15, loss:0.001, accuracy: 0.99, test_loss: 0.066, test_accuracy: 0.48\n",
      "Epoch: 16, loss:0.001, accuracy: 0.986, test_loss: 0.062, test_accuracy: 0.471\n",
      "Epoch: 17, loss:0.002, accuracy: 0.974, test_loss: 0.066, test_accuracy: 0.516\n",
      "Epoch: 18, loss:0.002, accuracy: 0.976, test_loss: 0.065, test_accuracy: 0.48\n",
      "Epoch: 19, loss:0.003, accuracy: 0.969, test_loss: 0.069, test_accuracy: 0.48\n"
     ]
    }
   ],
   "source": [
    "epochs = 20\n",
    "train_loss = []\n",
    "train_acc = []\n",
    "test_loss = []\n",
    "test_acc = []\n",
    "for epoch in range(epochs):\n",
    "    epoch_loss, epoch_acc, test_epoch_loss, test_epoch_acc = fit(epoch, model, train_dl, test_dl)\n",
    "    train_loss.append(epoch_loss)\n",
    "    train_acc.append(epoch_acc)\n",
    "    test_loss.append(test_epoch_loss)\n",
    "    test_acc.append(test_epoch_acc)"
   ]
  },
  {
   "cell_type": "markdown",
   "id": "0bba73c9-c54f-4f16-9f70-4eea02aaa696",
   "metadata": {},
   "source": [
    "## Save the model's parameters"
   ]
  },
  {
   "cell_type": "code",
   "execution_count": 121,
   "id": "4eace49b-190c-4bd6-8ee6-12eb68e9eb03",
   "metadata": {},
   "outputs": [
    {
     "data": {
      "text/plain": [
       "['conv1.weight',\n",
       " 'conv1.bias',\n",
       " 'bn1.weight',\n",
       " 'bn1.bias',\n",
       " 'bn1.running_mean',\n",
       " 'bn1.running_var',\n",
       " 'bn1.num_batches_tracked',\n",
       " 'conv2.weight',\n",
       " 'conv2.bias',\n",
       " 'bn2.weight',\n",
       " 'bn2.bias',\n",
       " 'bn2.running_mean',\n",
       " 'bn2.running_var',\n",
       " 'bn2.num_batches_tracked',\n",
       " 'conv3.weight',\n",
       " 'conv3.bias',\n",
       " 'bn3.weight',\n",
       " 'bn3.bias',\n",
       " 'bn3.running_mean',\n",
       " 'bn3.running_var',\n",
       " 'bn3.num_batches_tracked',\n",
       " 'fc1.weight',\n",
       " 'fc1.bias',\n",
       " 'bn_fc1.weight',\n",
       " 'bn_fc1.bias',\n",
       " 'bn_fc1.running_mean',\n",
       " 'bn_fc1.running_var',\n",
       " 'bn_fc1.num_batches_tracked',\n",
       " 'fc2.weight',\n",
       " 'fc2.bias',\n",
       " 'bn_fc2.weight',\n",
       " 'bn_fc2.bias',\n",
       " 'bn_fc2.running_mean',\n",
       " 'bn_fc2.running_var',\n",
       " 'bn_fc2.num_batches_tracked',\n",
       " 'fc3.weight',\n",
       " 'fc3.bias']"
      ]
     },
     "execution_count": 121,
     "metadata": {},
     "output_type": "execute_result"
    }
   ],
   "source": [
    "list(model.state_dict())"
   ]
  },
  {
   "cell_type": "code",
   "execution_count": 122,
   "id": "13a2c644-05e5-422c-9953-ea5c8aef4048",
   "metadata": {},
   "outputs": [],
   "source": [
    "path = './weather_model.pth'\n",
    "torch.save(model.state_dict(), path)"
   ]
  },
  {
   "cell_type": "markdown",
   "id": "30867572-83ca-4d95-8637-54564e245361",
   "metadata": {},
   "source": [
    "### Load the saved parameters"
   ]
  },
  {
   "cell_type": "code",
   "execution_count": 125,
   "id": "8b0bec06-e606-45f1-99a0-901a25df5869",
   "metadata": {},
   "outputs": [
    {
     "data": {
      "text/plain": [
       "Net(\n",
       "  (conv1): Conv2d(3, 16, kernel_size=(3, 3), stride=(1, 1))\n",
       "  (bn1): BatchNorm2d(16, eps=1e-05, momentum=0.1, affine=True, track_running_stats=True)\n",
       "  (pool): MaxPool2d(kernel_size=2, stride=2, padding=0, dilation=1, ceil_mode=False)\n",
       "  (conv2): Conv2d(16, 32, kernel_size=(3, 3), stride=(1, 1))\n",
       "  (bn2): BatchNorm2d(32, eps=1e-05, momentum=0.1, affine=True, track_running_stats=True)\n",
       "  (conv3): Conv2d(32, 64, kernel_size=(3, 3), stride=(1, 1))\n",
       "  (bn3): BatchNorm2d(64, eps=1e-05, momentum=0.1, affine=True, track_running_stats=True)\n",
       "  (dropout): Dropout(p=0.5, inplace=False)\n",
       "  (fc1): Linear(in_features=6400, out_features=1024, bias=True)\n",
       "  (bn_fc1): BatchNorm1d(1024, eps=1e-05, momentum=0.1, affine=True, track_running_stats=True)\n",
       "  (fc2): Linear(in_features=1024, out_features=256, bias=True)\n",
       "  (bn_fc2): BatchNorm1d(256, eps=1e-05, momentum=0.1, affine=True, track_running_stats=True)\n",
       "  (fc3): Linear(in_features=256, out_features=4, bias=True)\n",
       ")"
      ]
     },
     "execution_count": 125,
     "metadata": {},
     "output_type": "execute_result"
    }
   ],
   "source": [
    "new_model = Net()\n",
    "new_model.load_state_dict(torch.load('./weather_model.pth'))\n",
    "new_model.to(device)"
   ]
  },
  {
   "cell_type": "markdown",
   "id": "f4e3e5d1-ab60-4462-981c-564a8281bf37",
   "metadata": {},
   "source": [
    "Test the newly loaded model"
   ]
  },
  {
   "cell_type": "code",
   "execution_count": 135,
   "id": "c3ea2976-9a86-4e37-8f83-6c1fecb5db5b",
   "metadata": {},
   "outputs": [
    {
     "name": "stdout",
     "output_type": "stream",
     "text": [
      "loss:0.003, accuracy: 0.969, test_loss: 0.005, test_accuracy: 0.91\n"
     ]
    }
   ],
   "source": [
    "test_correct = 0\n",
    "test_running_loss = 0\n",
    "test_total = 0\n",
    "new_model.eval()\n",
    "\n",
    "with torch.no_grad():\n",
    "    for x, y in test_dl:\n",
    "        #put the data to GPU\n",
    "        x, y = x.to(device), y.to(device)\n",
    "        y_pred = new_model(x)\n",
    "        loss = loss_fn(y_pred, y)\n",
    "        y_pred = torch.argmax(y_pred, dim = 1)\n",
    "        test_correct += (y_pred==y).sum().item()\n",
    "        test_total += y.size(0)\n",
    "        test_running_loss +=loss.item()\n",
    "\n",
    "test_epoch_loss = test_running_loss/len(test_dl.dataset)\n",
    "test_epoch_acc = test_correct/test_total\n",
    "\n",
    "print(f'loss:{round(epoch_loss, 3)}, accuracy: {round(epoch_acc, 3)}, test_loss: {round(test_epoch_loss, 3)}, test_accuracy: {round(test_epoch_acc, 3)}')\n"
   ]
  },
  {
   "cell_type": "code",
   "execution_count": 212,
   "id": "7ef64208-3f7b-41a4-bfd2-2803ba40fdf5",
   "metadata": {},
   "outputs": [
    {
     "data": {
      "text/plain": [
       "<torch.utils.data.dataloader.DataLoader at 0x17631a170>"
      ]
     },
     "execution_count": 212,
     "metadata": {},
     "output_type": "execute_result"
    }
   ],
   "source": [
    "test_dl"
   ]
  },
  {
   "cell_type": "markdown",
   "id": "c82c5099-901d-42ca-9c7a-0a41d5c9f649",
   "metadata": {},
   "source": [
    "## Save the best parameters"
   ]
  },
  {
   "cell_type": "code",
   "execution_count": 131,
   "id": "a0d21a65-44e4-4699-b2a8-e9af934c8161",
   "metadata": {},
   "outputs": [],
   "source": [
    "model = Net()\n",
    "model.to(device)\n",
    "optimizer = torch.optim.Adam(model.parameters(), lr = 0.001)"
   ]
  },
  {
   "cell_type": "code",
   "execution_count": 136,
   "id": "41c26002-5bf7-4022-af54-93a7d7399573",
   "metadata": {},
   "outputs": [],
   "source": [
    "import copy"
   ]
  },
  {
   "cell_type": "code",
   "execution_count": 139,
   "id": "11975c34-a525-4556-890b-d9f3edc383e6",
   "metadata": {},
   "outputs": [
    {
     "name": "stdout",
     "output_type": "stream",
     "text": [
      "Epoch: 0, loss:0.011, accuracy: 0.872, test_loss: 0.045, test_accuracy: 0.448\n",
      "Epoch: 1, loss:0.007, accuracy: 0.925, test_loss: 0.045, test_accuracy: 0.489\n",
      "Epoch: 2, loss:0.005, accuracy: 0.951, test_loss: 0.049, test_accuracy: 0.484\n",
      "Epoch: 3, loss:0.006, accuracy: 0.948, test_loss: 0.05, test_accuracy: 0.475\n",
      "Epoch: 4, loss:0.004, accuracy: 0.959, test_loss: 0.052, test_accuracy: 0.498\n",
      "Epoch: 5, loss:0.004, accuracy: 0.96, test_loss: 0.051, test_accuracy: 0.498\n",
      "Epoch: 6, loss:0.003, accuracy: 0.969, test_loss: 0.052, test_accuracy: 0.484\n",
      "Epoch: 7, loss:0.003, accuracy: 0.974, test_loss: 0.055, test_accuracy: 0.462\n",
      "Epoch: 8, loss:0.003, accuracy: 0.965, test_loss: 0.057, test_accuracy: 0.507\n",
      "Epoch: 9, loss:0.003, accuracy: 0.975, test_loss: 0.061, test_accuracy: 0.448\n"
     ]
    }
   ],
   "source": [
    "#parameters without training\n",
    "best_model_weight = model.state_dict()\n",
    "\n",
    "best_acc = 0\n",
    "\n",
    "train_loss = []\n",
    "train_acc = []\n",
    "test_loss = []\n",
    "test_acc = []\n",
    "\n",
    "for epoch in range(10):\n",
    "    epoch_loss, epoch_acc, epoch_test_loss, epoch_test_acc = fit(epoch, model, train_dl, test_dl)\n",
    "    \n",
    "    train_loss.append(epoch_loss)\n",
    "    train_acc.append(epoch_acc)\n",
    "    test_loss.append(epoch_test_loss)\n",
    "    test_acc.append(epoch_test_acc)\n",
    "\n",
    "    if epoch_test_acc>best_acc:\n",
    "        best_acc = epoch_test_acc\n",
    "        best_model_weight = copy.deepcopy(model.state_dict())\n",
    "    \n",
    "        "
   ]
  },
  {
   "cell_type": "code",
   "execution_count": 140,
   "id": "2a1fbcd7-4bc9-4080-95f5-32ea64cd5241",
   "metadata": {},
   "outputs": [
    {
     "data": {
      "text/plain": [
       "Net(\n",
       "  (conv1): Conv2d(3, 16, kernel_size=(3, 3), stride=(1, 1))\n",
       "  (bn1): BatchNorm2d(16, eps=1e-05, momentum=0.1, affine=True, track_running_stats=True)\n",
       "  (pool): MaxPool2d(kernel_size=2, stride=2, padding=0, dilation=1, ceil_mode=False)\n",
       "  (conv2): Conv2d(16, 32, kernel_size=(3, 3), stride=(1, 1))\n",
       "  (bn2): BatchNorm2d(32, eps=1e-05, momentum=0.1, affine=True, track_running_stats=True)\n",
       "  (conv3): Conv2d(32, 64, kernel_size=(3, 3), stride=(1, 1))\n",
       "  (bn3): BatchNorm2d(64, eps=1e-05, momentum=0.1, affine=True, track_running_stats=True)\n",
       "  (dropout): Dropout(p=0.5, inplace=False)\n",
       "  (fc1): Linear(in_features=6400, out_features=1024, bias=True)\n",
       "  (bn_fc1): BatchNorm1d(1024, eps=1e-05, momentum=0.1, affine=True, track_running_stats=True)\n",
       "  (fc2): Linear(in_features=1024, out_features=256, bias=True)\n",
       "  (bn_fc2): BatchNorm1d(256, eps=1e-05, momentum=0.1, affine=True, track_running_stats=True)\n",
       "  (fc3): Linear(in_features=256, out_features=4, bias=True)\n",
       ")"
      ]
     },
     "execution_count": 140,
     "metadata": {},
     "output_type": "execute_result"
    }
   ],
   "source": [
    "new_model = Net()\n",
    "new_model.load_state_dict(best_model_weight)\n",
    "new_model.to(device)"
   ]
  },
  {
   "cell_type": "markdown",
   "id": "974b22f4-6a1e-42b1-a5a6-34a131689951",
   "metadata": {},
   "source": [
    "## Save and load the full model"
   ]
  },
  {
   "cell_type": "code",
   "execution_count": 141,
   "id": "ff7c8c71-069f-4464-b3f8-1e3600f3b7b6",
   "metadata": {},
   "outputs": [],
   "source": [
    "torch.save(model, './my_whole_model.pth')"
   ]
  },
  {
   "cell_type": "code",
   "execution_count": 145,
   "id": "1f3ff712-732d-4c7c-8114-d5bd27fb2d9c",
   "metadata": {},
   "outputs": [],
   "source": [
    "new_model2 = torch.load('./my_whole_model.pth', weights_only=False)"
   ]
  },
  {
   "cell_type": "code",
   "execution_count": 146,
   "id": "3ad25bcc-8bfa-4ef7-ab99-1c15d45e8cfe",
   "metadata": {},
   "outputs": [
    {
     "data": {
      "text/plain": [
       "Net(\n",
       "  (conv1): Conv2d(3, 16, kernel_size=(3, 3), stride=(1, 1))\n",
       "  (bn1): BatchNorm2d(16, eps=1e-05, momentum=0.1, affine=True, track_running_stats=True)\n",
       "  (pool): MaxPool2d(kernel_size=2, stride=2, padding=0, dilation=1, ceil_mode=False)\n",
       "  (conv2): Conv2d(16, 32, kernel_size=(3, 3), stride=(1, 1))\n",
       "  (bn2): BatchNorm2d(32, eps=1e-05, momentum=0.1, affine=True, track_running_stats=True)\n",
       "  (conv3): Conv2d(32, 64, kernel_size=(3, 3), stride=(1, 1))\n",
       "  (bn3): BatchNorm2d(64, eps=1e-05, momentum=0.1, affine=True, track_running_stats=True)\n",
       "  (dropout): Dropout(p=0.5, inplace=False)\n",
       "  (fc1): Linear(in_features=6400, out_features=1024, bias=True)\n",
       "  (bn_fc1): BatchNorm1d(1024, eps=1e-05, momentum=0.1, affine=True, track_running_stats=True)\n",
       "  (fc2): Linear(in_features=1024, out_features=256, bias=True)\n",
       "  (bn_fc2): BatchNorm1d(256, eps=1e-05, momentum=0.1, affine=True, track_running_stats=True)\n",
       "  (fc3): Linear(in_features=256, out_features=4, bias=True)\n",
       ")"
      ]
     },
     "execution_count": 146,
     "metadata": {},
     "output_type": "execute_result"
    }
   ],
   "source": [
    "new_model2"
   ]
  },
  {
   "cell_type": "markdown",
   "id": "778d9c43-3b67-431d-94eb-12d37fc8c33a",
   "metadata": {},
   "source": [
    "## Save and load the model cross devices"
   ]
  },
  {
   "cell_type": "code",
   "execution_count": 147,
   "id": "de100b2e-bad5-40dd-86e1-3cfcd8da088c",
   "metadata": {},
   "outputs": [],
   "source": [
    "torch.save(model.state_dict(), './my_besst_weight')"
   ]
  },
  {
   "cell_type": "code",
   "execution_count": 148,
   "id": "4b5399f5-7107-467a-b7fd-5957095a2028",
   "metadata": {},
   "outputs": [
    {
     "data": {
      "text/plain": [
       "<All keys matched successfully>"
      ]
     },
     "execution_count": 148,
     "metadata": {},
     "output_type": "execute_result"
    }
   ],
   "source": [
    "model = Net()\n",
    "model.load_state_dict(torch.load('./my_besst_weight', map_location = device))"
   ]
  },
  {
   "cell_type": "code",
   "execution_count": null,
   "id": "0ee288ac-3200-4d29-bd5d-bf3fea580eab",
   "metadata": {},
   "outputs": [],
   "source": []
  }
 ],
 "metadata": {
  "kernelspec": {
   "display_name": "Python 3 (ipykernel)",
   "language": "python",
   "name": "python3"
  },
  "language_info": {
   "codemirror_mode": {
    "name": "ipython",
    "version": 3
   },
   "file_extension": ".py",
   "mimetype": "text/x-python",
   "name": "python",
   "nbconvert_exporter": "python",
   "pygments_lexer": "ipython3",
   "version": "3.10.18"
  }
 },
 "nbformat": 4,
 "nbformat_minor": 5
}
