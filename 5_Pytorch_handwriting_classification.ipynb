{
 "cells": [
  {
   "cell_type": "code",
   "execution_count": 3,
   "id": "dfab3b3a-4a4d-4b81-9314-6c1400d9f69d",
   "metadata": {},
   "outputs": [],
   "source": [
    "import torch\n",
    "import torch.nn as nn\n",
    "import torch.nn.functional as F\n",
    "import torch.optim as optim\n",
    "import numpy as np\n",
    "import matplotlib.pyplot as plt"
   ]
  },
  {
   "cell_type": "code",
   "execution_count": 4,
   "id": "5f704e2d-b88b-4e57-8787-98a36bfb87f2",
   "metadata": {},
   "outputs": [
    {
     "data": {
      "text/plain": [
       "'2.7.1'"
      ]
     },
     "execution_count": 4,
     "metadata": {},
     "output_type": "execute_result"
    }
   ],
   "source": [
    "torch.__version__"
   ]
  },
  {
   "cell_type": "code",
   "execution_count": 8,
   "id": "a54de8f2-23af-4144-ab3d-50679d91dbc1",
   "metadata": {},
   "outputs": [],
   "source": [
    "#use GPU on mac\n",
    "device = torch.device(\"mps\" if torch.backends.mps.is_available() else \"cpu\")"
   ]
  },
  {
   "cell_type": "markdown",
   "id": "3ae7907e-fb4e-4508-a536-b1e1658c95ba",
   "metadata": {},
   "source": [
    "## Use GPU to train\n",
    "- Put the model onto GPU\n",
    "- Put the training data of each batch onto GPU"
   ]
  },
  {
   "cell_type": "markdown",
   "id": "da83016d-e229-41ee-854e-494988fe80fe",
   "metadata": {},
   "source": [
    "In this project, we will use some stored data from torchvision.  \n",
    "torchvision has some default datasets.\n",
    "\n",
    "`transform.ToTensor`: convert data to tensor, values are between 0 and 1, put channel to the first dimension"
   ]
  },
  {
   "cell_type": "code",
   "execution_count": 48,
   "id": "bc1d1e8c-c4d2-4e60-be6b-24026a399f93",
   "metadata": {},
   "outputs": [],
   "source": [
    "from torchvision import datasets, transforms\n",
    "#transform is dedicated for data enforcement and preprocessing."
   ]
  },
  {
   "cell_type": "code",
   "execution_count": 49,
   "id": "078aadac-a078-4a24-9427-61ace4637f0c",
   "metadata": {},
   "outputs": [],
   "source": [
    "transformation = transforms.Compose([transforms.ToTensor()])\n",
    "tran_ds = datasets.MNIST('./data', train = True, transform=transformation, download=True) # the directory is where you download the data to"
   ]
  },
  {
   "cell_type": "code",
   "execution_count": 50,
   "id": "536d1990-283e-4a63-8699-b2f4140ed312",
   "metadata": {},
   "outputs": [],
   "source": [
    "test_ds = datasets.MNIST('./data', train = False, transform=transformation, download=True) # the directory is where you download the data to"
   ]
  },
  {
   "cell_type": "markdown",
   "id": "7dd3e936-ba8f-4d48-9182-9ac9d8fed932",
   "metadata": {},
   "source": [
    "The data is downaloaded to folder './data'"
   ]
  },
  {
   "cell_type": "markdown",
   "id": "db7978a4-895e-495b-9738-3254f3d352a0",
   "metadata": {},
   "source": [
    "### Convert the datat to DataLoad"
   ]
  },
  {
   "cell_type": "code",
   "execution_count": 51,
   "id": "3cad8f36-6bb0-4cdb-b193-0f0b81b91fd3",
   "metadata": {},
   "outputs": [],
   "source": [
    "train_dl = torch.utils.data.DataLoader(tran_ds, batch_size = 64, shuffle = True)\n",
    "test_dl = torch.utils.data.DataLoader(test_ds, batch_size = 256)"
   ]
  },
  {
   "cell_type": "code",
   "execution_count": 52,
   "id": "416f4994-47a2-4518-95d2-81e7d15b89d8",
   "metadata": {},
   "outputs": [
    {
     "data": {
      "text/plain": [
       "torch.Size([64, 1, 28, 28])"
      ]
     },
     "execution_count": 52,
     "metadata": {},
     "output_type": "execute_result"
    }
   ],
   "source": [
    "next(iter(train_dl))[0].shape\n",
    "#64 in batch, 1 channel, 28*28 picture"
   ]
  },
  {
   "cell_type": "code",
   "execution_count": 53,
   "id": "fa1323a0-6813-44ba-a8ec-ae1ad44647f5",
   "metadata": {},
   "outputs": [
    {
     "data": {
      "text/plain": [
       "torch.Size([64])"
      ]
     },
     "execution_count": 53,
     "metadata": {},
     "output_type": "execute_result"
    }
   ],
   "source": [
    "next(iter(train_dl))[1].shape"
   ]
  },
  {
   "cell_type": "markdown",
   "id": "12406232-fbea-4b72-bbab-47aafc53db50",
   "metadata": {},
   "source": [
    "Illustrate some examples."
   ]
  },
  {
   "cell_type": "code",
   "execution_count": 54,
   "id": "d6ec8e53-334e-4844-9eb9-fdd4782de3f2",
   "metadata": {},
   "outputs": [],
   "source": [
    "img = np.squeeze(next(iter(train_dl))[0][0])"
   ]
  },
  {
   "cell_type": "code",
   "execution_count": 55,
   "id": "6fb89f6d-38e0-4104-8539-3e90ac03aaf3",
   "metadata": {},
   "outputs": [
    {
     "data": {
      "text/plain": [
       "<matplotlib.image.AxesImage at 0x137ed9120>"
      ]
     },
     "execution_count": 55,
     "metadata": {},
     "output_type": "execute_result"
    },
    {
     "data": {
      "image/png": "[encoded data removed]",
      "text/plain": [
       "<Figure size 640x480 with 1 Axes>"
      ]
     },
     "metadata": {},
     "output_type": "display_data"
    }
   ],
   "source": [
    "plt.imshow(img, cmap = 'gray')"
   ]
  },
  {
   "cell_type": "markdown",
   "id": "75dd6764-d3c8-446a-893a-c3d87948cc9a",
   "metadata": {},
   "source": [
    "## Create the model"
   ]
  },
  {
   "cell_type": "code",
   "execution_count": 88,
   "id": "93a2f2cd-2445-491d-8a55-b41e6c263db9",
   "metadata": {},
   "outputs": [],
   "source": [
    "class Model1(nn.Module):\n",
    "    def __init__(self):\n",
    "        super().__init__()\n",
    "        self.conv1 = nn.Conv2d(in_channels=1, out_channels=32, kernel_size=3) #out 64, 32, 26, 26\n",
    "        self.pool1 = nn.MaxPool2d(2) #out 64, 32, 13, 13\n",
    "        self.conv2 = nn.Conv2d(in_channels=32, out_channels=64, kernel_size=3) #out 64, 64, 11, 11\n",
    "        #another layer of pooling: out 64, 64, 5, 5\n",
    "        \n",
    "        self.linear1 = nn.Linear(64*5*5, 256)\n",
    "        self.linear2 = nn.Linear(256, 10)\n",
    "\n",
    "    def forward(self, input):\n",
    "        x = F.relu(self.conv1(input))\n",
    "        x = self.pool1(x)\n",
    "        x = F.relu(self.conv2(x))\n",
    "        x = self.pool1(x)\n",
    "        #flatten\n",
    "        x = x.view(-1, 64*5*5)\n",
    "        x = F.relu(self.linear1(x))\n",
    "        x = self.linear2(x)\n",
    "        return x"
   ]
  },
  {
   "cell_type": "code",
   "execution_count": 89,
   "id": "c3d58e89-37c0-4e05-9254-4d2cdf68e2a9",
   "metadata": {},
   "outputs": [
    {
     "data": {
      "text/plain": [
       "Model1(\n",
       "  (conv1): Conv2d(1, 32, kernel_size=(3, 3), stride=(1, 1))\n",
       "  (pool1): MaxPool2d(kernel_size=2, stride=2, padding=0, dilation=1, ceil_mode=False)\n",
       "  (conv2): Conv2d(32, 64, kernel_size=(3, 3), stride=(1, 1))\n",
       "  (linear1): Linear(in_features=1600, out_features=256, bias=True)\n",
       "  (linear2): Linear(in_features=256, out_features=10, bias=True)\n",
       ")"
      ]
     },
     "execution_count": 89,
     "metadata": {},
     "output_type": "execute_result"
    }
   ],
   "source": [
    "model = Model1()\n",
    "model.to(device)"
   ]
  },
  {
   "cell_type": "code",
   "execution_count": 90,
   "id": "6f3e7e1c-777c-4770-a641-04988f4409d4",
   "metadata": {},
   "outputs": [],
   "source": [
    "loss_fn = torch.nn.CrossEntropyLoss()"
   ]
  },
  {
   "cell_type": "code",
   "execution_count": 91,
   "id": "8cf33832-9046-41df-8a28-3ffc52bfd0cb",
   "metadata": {},
   "outputs": [],
   "source": [
    "optimizer = optim.Adam(model.parameters(), lr = 0.001)"
   ]
  },
  {
   "cell_type": "code",
   "execution_count": 92,
   "id": "1bffff12-f3cb-4e96-a4c8-88e05b92d72c",
   "metadata": {},
   "outputs": [],
   "source": [
    "def fit (epoch, model, train_loader, test_loader):\n",
    "    correct = 0\n",
    "    total = 0\n",
    "    running_loss = 0\n",
    "\n",
    "    for x, y in train_loader:\n",
    "        #put the data to GPU\n",
    "        x, y = x.to(device), y.to(device)\n",
    "        y_pred = model(x)\n",
    "        loss = loss_fn(y_pred, y)\n",
    "        optimizer.zero_grad()\n",
    "        loss.backward()\n",
    "        optimizer.step()\n",
    "        \n",
    "        with torch.no_grad():\n",
    "            y_pred = torch.argmax(y_pred, dim = 1)\n",
    "            correct += (y_pred==y).sum().item()\n",
    "            total += y.size(0)\n",
    "            running_loss +=loss.item()\n",
    "            \n",
    "    epoch_loss = running_loss/len(train_loader.dataset)\n",
    "    epoch_acc = correct/total\n",
    "    \n",
    "    #test\n",
    "    test_correct = 0\n",
    "    test_running_loss = 0\n",
    "    test_total = 0\n",
    "\n",
    "    with torch.no_grad():\n",
    "        for x, y in train_loader:\n",
    "            #put the data to GPU\n",
    "            x, y = x.to(device), y.to(device)\n",
    "            y_pred = model(x)\n",
    "            loss = loss_fn(y_pred, y)\n",
    "            y_pred = torch.argmax(y_pred, dim = 1)\n",
    "            test_correct += (y_pred==y).sum().item()\n",
    "            test_total += y.size(0)\n",
    "            test_running_loss +=loss.item()\n",
    "    \n",
    "    test_epoch_loss = test_running_loss/len(test_loader.dataset)\n",
    "    test_epoch_acc = test_correct/test_total\n",
    "\n",
    "    print(f'Epoch: {epoch}, loss:{round(epoch_loss, 3)}, accuracy: {round(epoch_acc, 3)}, test_loss: {round(test_epoch_loss, 3)}, test_accuracy: {round(test_epoch_acc, 3)}')\n",
    "    \n",
    "    return  epoch_loss, epoch_acc, test_epoch_loss, test_epoch_acc  \n",
    "                \n",
    "            "
   ]
  },
  {
   "cell_type": "code",
   "execution_count": 93,
   "id": "c3eb202a-b8b5-4b73-aa22-fb6ef2cfaf0a",
   "metadata": {},
   "outputs": [
    {
     "name": "stdout",
     "output_type": "stream",
     "text": [
      "Epoch: 0, loss:0.003, accuracy: 0.948, test_loss: 0.005, test_accuracy: 0.983\n",
      "Epoch: 1, loss:0.001, accuracy: 0.983, test_loss: 0.004, test_accuracy: 0.988\n",
      "Epoch: 2, loss:0.001, accuracy: 0.988, test_loss: 0.002, test_accuracy: 0.992\n",
      "Epoch: 3, loss:0.0, accuracy: 0.991, test_loss: 0.002, test_accuracy: 0.994\n",
      "Epoch: 4, loss:0.0, accuracy: 0.994, test_loss: 0.001, test_accuracy: 0.997\n",
      "Epoch: 5, loss:0.0, accuracy: 0.995, test_loss: 0.001, test_accuracy: 0.996\n",
      "Epoch: 6, loss:0.0, accuracy: 0.996, test_loss: 0.001, test_accuracy: 0.997\n",
      "Epoch: 7, loss:0.0, accuracy: 0.997, test_loss: 0.001, test_accuracy: 0.996\n",
      "Epoch: 8, loss:0.0, accuracy: 0.997, test_loss: 0.001, test_accuracy: 0.998\n",
      "Epoch: 9, loss:0.0, accuracy: 0.997, test_loss: 0.001, test_accuracy: 0.998\n",
      "Epoch: 10, loss:0.0, accuracy: 0.998, test_loss: 0.0, test_accuracy: 0.999\n",
      "Epoch: 11, loss:0.0, accuracy: 0.998, test_loss: 0.001, test_accuracy: 0.997\n",
      "Epoch: 12, loss:0.0, accuracy: 0.998, test_loss: 0.0, test_accuracy: 0.998\n",
      "Epoch: 13, loss:0.0, accuracy: 0.998, test_loss: 0.0, test_accuracy: 0.999\n",
      "Epoch: 14, loss:0.0, accuracy: 0.999, test_loss: 0.0, test_accuracy: 0.999\n",
      "Epoch: 15, loss:0.0, accuracy: 0.999, test_loss: 0.0, test_accuracy: 0.999\n",
      "Epoch: 16, loss:0.0, accuracy: 0.999, test_loss: 0.0, test_accuracy: 0.999\n",
      "Epoch: 17, loss:0.0, accuracy: 0.999, test_loss: 0.001, test_accuracy: 0.998\n",
      "Epoch: 18, loss:0.0, accuracy: 0.999, test_loss: 0.0, test_accuracy: 1.0\n",
      "Epoch: 19, loss:0.0, accuracy: 0.999, test_loss: 0.0, test_accuracy: 0.999\n"
     ]
    }
   ],
   "source": [
    "epochs = 20\n",
    "train_loss = []\n",
    "train_acc = []\n",
    "test_loss = []\n",
    "test_acc = []\n",
    "for epoch in range(epochs):\n",
    "    epoch_loss, epoch_acc, test_epoch_loss, test_epoch_acc = fit(epoch, model, train_dl, test_dl)\n",
    "    train_loss.append(epoch_loss)\n",
    "    train_acc.append(epoch_acc)\n",
    "    test_loss.append(test_epoch_loss)\n",
    "    test_acc.append(test_epoch_acc)"
   ]
  },
  {
   "cell_type": "code",
   "execution_count": null,
   "id": "ba75418c-23fa-449f-b598-7db002c49c58",
   "metadata": {},
   "outputs": [],
   "source": []
  },
  {
   "cell_type": "code",
   "execution_count": null,
   "id": "d193cc54-26f9-4573-812a-9efcc8d5b2ef",
   "metadata": {},
   "outputs": [],
   "source": []
  },
  {
   "cell_type": "code",
   "execution_count": null,
   "id": "cad9ec65-ddde-4d44-98a4-a02a2279314c",
   "metadata": {},
   "outputs": [],
   "source": []
  }
 ],
 "metadata": {
  "kernelspec": {
   "display_name": "Python 3 (ipykernel)",
   "language": "python",
   "name": "python3"
  },
  "language_info": {
   "codemirror_mode": {
    "name": "ipython",
    "version": 3
   },
   "file_extension": ".py",
   "mimetype": "text/x-python",
   "name": "python",
   "nbconvert_exporter": "python",
   "pygments_lexer": "ipython3",
   "version": "3.10.18"
  }
 },
 "nbformat": 4,
 "nbformat_minor": 5
}
