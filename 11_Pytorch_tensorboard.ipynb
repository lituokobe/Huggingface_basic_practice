{
 "cells": [
  {
   "cell_type": "code",
   "execution_count": 4,
   "id": "403e67e9-fea0-4dac-afda-30a7d9b420b2",
   "metadata": {},
   "outputs": [
    {
     "name": "stderr",
     "output_type": "stream",
     "text": [
      "100%|██████████████████████████████████████| 26.4M/26.4M [00:03<00:00, 7.20MB/s]\n",
      "100%|███████████████████████████████████████| 29.5k/29.5k [00:00<00:00, 181kB/s]\n",
      "100%|██████████████████████████████████████| 4.42M/4.42M [00:01<00:00, 3.36MB/s]\n",
      "100%|██████████████████████████████████████| 5.15k/5.15k [00:00<00:00, 9.40MB/s]\n"
     ]
    }
   ],
   "source": [
    "import matplotlib.pyplot as plt\n",
    "import numpy as np\n",
    "\n",
    "import torch\n",
    "import torchvision\n",
    "import torchvision.transforms as transforms\n",
    "\n",
    "import torch.nn as nn\n",
    "import torch.nn.functional as F\n",
    "import torch.optim as optim\n",
    "\n",
    "# transforms\n",
    "transform = transforms.Compose(\n",
    "    [transforms.ToTensor(),\n",
    "    transforms.Normalize((0.5,), (0.5,))])\n",
    "\n",
    "# datasets\n",
    "trainset = torchvision.datasets.FashionMNIST('./data',\n",
    "    download=True,\n",
    "    train=True,\n",
    "    transform=transform)\n",
    "testset = torchvision.datasets.FashionMNIST('./data',\n",
    "    download=True,\n",
    "    train=False,\n",
    "    transform=transform)\n",
    "\n",
    "# dataloaders\n",
    "trainloader = torch.utils.data.DataLoader(trainset, batch_size=4,\n",
    "                                        shuffle=True, num_workers=2)\n",
    "\n",
    "\n",
    "testloader = torch.utils.data.DataLoader(testset, batch_size=4,\n",
    "                                        shuffle=False, num_workers=2)\n",
    "\n",
    "# constant for classes\n",
    "classes = ('T-shirt/top', 'Trouser', 'Pullover', 'Dress', 'Coat',\n",
    "        'Sandal', 'Shirt', 'Sneaker', 'Bag', 'Ankle Boot')\n",
    "\n",
    "\n",
    "def matplotlib_imshow(img, one_channel=False):\n",
    "    if one_channel:\n",
    "        img = img.mean(dim=0)\n",
    "    img = img / 2 + 0.5 # reverse normalization   \n",
    "    npimg = img.numpy()\n",
    "    if one_channel:\n",
    "        plt.imshow(npimg, cmap=\"Greys\")\n",
    "    else:\n",
    "        plt.imshow(np.transpose(npimg, (1, 2, 0)))"
   ]
  },
  {
   "cell_type": "code",
   "execution_count": 5,
   "id": "7a9525e7-d134-4933-b818-d80d732036f3",
   "metadata": {},
   "outputs": [],
   "source": [
    "# 定义模型\n",
    "class Net(nn.Module):\n",
    "    def __init__(self):\n",
    "        super(Net, self).__init__()\n",
    "        self.conv1 = nn.Conv2d(1, 6, 5)\n",
    "        self.pool = nn.MaxPool2d(2, 2)\n",
    "        self.conv2 = nn.Conv2d(6, 16, 5)\n",
    "        self.fc1 = nn.Linear(16 * 4 * 4, 120)\n",
    "        self.fc2 = nn.Linear(120, 84)\n",
    "        self.fc3 = nn.Linear(84, 10)\n",
    "\n",
    "    def forward(self, x):\n",
    "        x = self.pool(F.relu(self.conv1(x)))\n",
    "        x = self.pool(F.relu(self.conv2(x)))\n",
    "        x = x.view(-1, 16 * 4 * 4)\n",
    "        x = F.relu(self.fc1(x))\n",
    "        x = F.relu(self.fc2(x))\n",
    "        x = self.fc3(x)\n",
    "        return x\n",
    "\n",
    "\n",
    "net = Net()"
   ]
  },
  {
   "cell_type": "code",
   "execution_count": 6,
   "id": "3ac02adc-e0f5-44db-9776-1e8f00d9b984",
   "metadata": {},
   "outputs": [],
   "source": [
    "# 定义损失和优化器\n",
    "criterion = nn.CrossEntropyLoss()\n",
    "optimizer = optim.SGD(net.parameters(), lr=0.001, momentum=0.9)"
   ]
  },
  {
   "cell_type": "markdown",
   "id": "e0f33558-0e42-48db-ade9-2d0f558d4179",
   "metadata": {},
   "source": [
    "## Tensorboard"
   ]
  },
  {
   "cell_type": "markdown",
   "id": "1ab9595a-0bf1-42a2-80a5-eb56c0a32a65",
   "metadata": {},
   "source": [
    "### Add images"
   ]
  },
  {
   "cell_type": "code",
   "execution_count": 17,
   "id": "712b68eb-74fc-4d2b-86c3-8e93f7a1e42e",
   "metadata": {},
   "outputs": [],
   "source": [
    "dataiter = iter(trainloader)\n",
    "images, label = next(dataiter)"
   ]
  },
  {
   "cell_type": "code",
   "execution_count": 18,
   "id": "b7faeb1a-dbff-4602-91b1-f2bafd0e382a",
   "metadata": {},
   "outputs": [
    {
     "data": {
      "text/plain": [
       "tensor([[[[-1., -1., -1.,  ..., -1., -1., -1.],\n",
       "          [-1., -1., -1.,  ..., -1., -1., -1.],\n",
       "          [-1., -1., -1.,  ..., -1., -1., -1.],\n",
       "          ...,\n",
       "          [-1., -1., -1.,  ..., -1., -1., -1.],\n",
       "          [-1., -1., -1.,  ..., -1., -1., -1.],\n",
       "          [-1., -1., -1.,  ..., -1., -1., -1.]]],\n",
       "\n",
       "\n",
       "        [[[-1., -1., -1.,  ..., -1., -1., -1.],\n",
       "          [-1., -1., -1.,  ..., -1., -1., -1.],\n",
       "          [-1., -1., -1.,  ..., -1., -1., -1.],\n",
       "          ...,\n",
       "          [-1., -1., -1.,  ..., -1., -1., -1.],\n",
       "          [-1., -1., -1.,  ..., -1., -1., -1.],\n",
       "          [-1., -1., -1.,  ..., -1., -1., -1.]]],\n",
       "\n",
       "\n",
       "        [[[-1., -1., -1.,  ..., -1., -1., -1.],\n",
       "          [-1., -1., -1.,  ..., -1., -1., -1.],\n",
       "          [-1., -1., -1.,  ..., -1., -1., -1.],\n",
       "          ...,\n",
       "          [-1., -1., -1.,  ..., -1., -1., -1.],\n",
       "          [-1., -1., -1.,  ..., -1., -1., -1.],\n",
       "          [-1., -1., -1.,  ..., -1., -1., -1.]]],\n",
       "\n",
       "\n",
       "        [[[-1., -1., -1.,  ..., -1., -1., -1.],\n",
       "          [-1., -1., -1.,  ..., -1., -1., -1.],\n",
       "          [-1., -1., -1.,  ..., -1., -1., -1.],\n",
       "          ...,\n",
       "          [-1., -1., -1.,  ..., -1., -1., -1.],\n",
       "          [-1., -1., -1.,  ..., -1., -1., -1.],\n",
       "          [-1., -1., -1.,  ..., -1., -1., -1.]]]])"
      ]
     },
     "execution_count": 18,
     "metadata": {},
     "output_type": "execute_result"
    }
   ],
   "source": [
    "images"
   ]
  },
  {
   "cell_type": "code",
   "execution_count": 19,
   "id": "dce00385-eef6-47f0-a690-b7435c9586f6",
   "metadata": {},
   "outputs": [
    {
     "data": {
      "text/plain": [
       "torch.Size([3, 32, 122])"
      ]
     },
     "execution_count": 19,
     "metadata": {},
     "output_type": "execute_result"
    }
   ],
   "source": [
    "#torchvision's make_grid can merge multiple images into one\n",
    "img_grid = torchvision.utils.make_grid(images)\n",
    "img_grid.shape"
   ]
  },
  {
   "cell_type": "code",
   "execution_count": 20,
   "id": "b464e830-ad8f-4d1d-8216-d727bec2f7ee",
   "metadata": {},
   "outputs": [
    {
     "data": {
      "image/png": "[encoded data removed]",
      "text/plain": [
       "<Figure size 640x480 with 1 Axes>"
      ]
     },
     "metadata": {},
     "output_type": "display_data"
    }
   ],
   "source": [
    "matplotlib_imshow(img_grid, one_channel=True)"
   ]
  },
  {
   "cell_type": "code",
   "execution_count": 14,
   "id": "7b1ddd06-6517-437d-8c16-9bc3e3bedaf5",
   "metadata": {},
   "outputs": [],
   "source": [
    "from torch.utils.tensorboard import SummaryWriter"
   ]
  },
  {
   "cell_type": "code",
   "execution_count": 15,
   "id": "e5ffb414-3a69-49b4-b3eb-ea3daa356a37",
   "metadata": {},
   "outputs": [],
   "source": [
    "#new directory and file will be created\n",
    "writer = SummaryWriter('run/fashion_mnist_experiment_1')"
   ]
  },
  {
   "cell_type": "code",
   "execution_count": 16,
   "id": "e5903cba-e9f3-422d-8fce-5283953e3bed",
   "metadata": {},
   "outputs": [],
   "source": [
    "writer.add_image('four_fashipn_mnist_images', img_grid)"
   ]
  },
  {
   "cell_type": "markdown",
   "id": "80ae2894-86a1-42a0-9336-4a939181303c",
   "metadata": {},
   "source": [
    "#### Open terminal, change to the environment and the directory with the run folder, then execute:\n",
    "`tensorboard --logdir=run`\n",
    "\n",
    "Open the result local url, e.g. http://localhost:6006/"
   ]
  },
  {
   "cell_type": "code",
   "execution_count": 21,
   "id": "b01e2cce-f2fd-4515-9459-355491dc6aaa",
   "metadata": {},
   "outputs": [],
   "source": [
    "images2, label2 = next(dataiter)"
   ]
  },
  {
   "cell_type": "code",
   "execution_count": 22,
   "id": "79af84e0-c47c-4973-98ee-b42f7dc990ae",
   "metadata": {},
   "outputs": [],
   "source": [
    "img_grid = torchvision.utils.make_grid(images2)\n",
    "writer.add_image('four_fashipn_mnist_images2', img_grid)"
   ]
  },
  {
   "cell_type": "code",
   "execution_count": 23,
   "id": "c5ecb344-9e15-42d5-9936-abe985249fb5",
   "metadata": {},
   "outputs": [],
   "source": [
    "images3, label3 = next(dataiter)\n",
    "img_grid = torchvision.utils.make_grid(images3)\n",
    "writer.add_image('four_fashipn_mnist_images3', img_grid)"
   ]
  },
  {
   "cell_type": "markdown",
   "id": "5c06f461-9aaf-4c44-8d8b-7f3c770a526d",
   "metadata": {},
   "source": [
    "### Add model structure"
   ]
  },
  {
   "cell_type": "code",
   "execution_count": 24,
   "id": "ecccd81b-7302-4682-9a23-c113874ce610",
   "metadata": {},
   "outputs": [],
   "source": [
    "writer.add_graph(net, images)"
   ]
  },
  {
   "cell_type": "markdown",
   "id": "903c2864-aee9-49d6-92f9-d128f619f173",
   "metadata": {},
   "source": [
    "#### There will be a new tab generated in Tensorboard 'Graph', showing the structure of the model."
   ]
  },
  {
   "cell_type": "markdown",
   "id": "8e794bf4-e40c-409e-aea6-f06ca8f62e84",
   "metadata": {},
   "source": [
    "### Add the change of loss"
   ]
  },
  {
   "cell_type": "code",
   "execution_count": 26,
   "id": "1b2b9553-3080-4baa-a6c8-3570054470ef",
   "metadata": {},
   "outputs": [
    {
     "name": "stdout",
     "output_type": "stream",
     "text": [
      "Finished Training\n"
     ]
    }
   ],
   "source": [
    "running_loss = 0.0\n",
    "for epoch in range(1):  # loop over the dataset multiple times\n",
    "\n",
    "    for i, data in enumerate(trainloader, 0):\n",
    "\n",
    "        # get the inputs; data is a list of [inputs, labels]\n",
    "        inputs, labels = data\n",
    "\n",
    "        # zero the parameter gradients\n",
    "        optimizer.zero_grad()\n",
    "\n",
    "        # forward + backward + optimize\n",
    "        outputs = net(inputs)\n",
    "        loss = criterion(outputs, labels)\n",
    "        loss.backward()\n",
    "        optimizer.step()\n",
    "\n",
    "        running_loss += loss.item()\n",
    "        if i % 1000 == 999:    # every 1000 mini-batches...\n",
    "\n",
    "            # ...log the running loss\n",
    "            writer.add_scalar('training loss',\n",
    "                            running_loss / 1000,\n",
    "                            epoch * len(trainloader) + i)\n",
    "\n",
    "            running_loss = 0.0\n",
    "print('Finished Training')"
   ]
  },
  {
   "cell_type": "markdown",
   "id": "3fd5b997-fc27-4ea0-8022-3441e21aea3b",
   "metadata": {},
   "source": [
    "#### There will be a new tab generated in Tensorboard 'Scalar', showing the loss of the model calculated above."
   ]
  },
  {
   "cell_type": "code",
   "execution_count": null,
   "id": "618d5960-ea1a-45af-a139-806f60907eff",
   "metadata": {},
   "outputs": [],
   "source": []
  }
 ],
 "metadata": {
  "kernelspec": {
   "display_name": "Python 3 (ipykernel)",
   "language": "python",
   "name": "python3"
  },
  "language_info": {
   "codemirror_mode": {
    "name": "ipython",
    "version": 3
   },
   "file_extension": ".py",
   "mimetype": "text/x-python",
   "name": "python",
   "nbconvert_exporter": "python",
   "pygments_lexer": "ipython3",
   "version": "3.10.18"
  }
 },
 "nbformat": 4,
 "nbformat_minor": 5
}
