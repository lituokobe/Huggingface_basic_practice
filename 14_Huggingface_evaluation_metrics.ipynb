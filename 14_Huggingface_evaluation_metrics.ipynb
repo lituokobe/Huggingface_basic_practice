{
 "cells": [
  {
   "cell_type": "code",
   "execution_count": 4,
   "id": "4ff11731-2793-41b5-9662-305258f723d8",
   "metadata": {},
   "outputs": [
    {
     "name": "stdout",
     "output_type": "stream",
     "text": [
      "3.6.0\n"
     ]
    }
   ],
   "source": [
    "import datasets\n",
    "print(datasets.__version__)"
   ]
  },
  {
   "cell_type": "code",
   "execution_count": 6,
   "id": "18cf29ed-59d0-4874-ad16-d65948077b47",
   "metadata": {},
   "outputs": [],
   "source": [
    "from evaluate import load as load_metric"
   ]
  },
  {
   "cell_type": "code",
   "execution_count": 7,
   "id": "764bfa60-0ee6-4cf1-9a90-addda42501f1",
   "metadata": {},
   "outputs": [
    {
     "data": {
      "application/vnd.jupyter.widget-view+json": {
       "model_id": "441dfaadc62e41c1ae96947da0b21446",
       "version_major": 2,
       "version_minor": 0
      },
      "text/plain": [
       "Downloading builder script: 0.00B [00:00, ?B/s]"
      ]
     },
     "metadata": {},
     "output_type": "display_data"
    }
   ],
   "source": [
    "metric = load_metric(path = 'glue', config_name = 'mrpc')"
   ]
  },
  {
   "cell_type": "markdown",
   "id": "f80afeb6-4496-459a-be5b-7e25956857d5",
   "metadata": {},
   "source": [
    "#### Load the evaluation metric used for the MRPC task in the GLUE benchmark.\n",
    "GLUE: General Language Understanding Evaluation\n",
    "- It’s a benchmark suite designed to evaluate how well NLP models understand language.\n",
    "- GLUE includes multiple tasks like sentiment analysis, paraphrase detection, and natural language inference.\n",
    "- It’s widely used to compare models like BERT, RoBERTa, and GPT on a common set of challenges.\n",
    "- Think of GLUE as the NLP Olympics—a collection of events (tasks) that test different language skills.\n",
    "\n",
    "MRPC is one of the tasks in the GLUE benchmark.\n",
    "- It consists of sentence pairs, and the goal is to predict whether the two sentences are paraphrases (i.e., semantically equivalent).\n",
    "- So this line loads the evaluation metric used for the MRPC task, which typically includes:\n",
    "- Accuracy and F1 score These are commonly used to judge how well a model identifies whether two sentences are paraphrases."
   ]
  },
  {
   "cell_type": "code",
   "execution_count": 8,
   "id": "49fad2ed-cf45-4433-bd6b-488192c51ddb",
   "metadata": {},
   "outputs": [
    {
     "data": {
      "text/plain": [
       "EvaluationModule(name: \"glue\", module_type: \"metric\", features: {'predictions': Value(dtype='int64', id=None), 'references': Value(dtype='int64', id=None)}, usage: \"\"\"\n",
       "Compute GLUE evaluation metric associated to each GLUE dataset.\n",
       "Args:\n",
       "    predictions: list of predictions to score.\n",
       "        Each translation should be tokenized into a list of tokens.\n",
       "    references: list of lists of references for each translation.\n",
       "        Each reference should be tokenized into a list of tokens.\n",
       "Returns: depending on the GLUE subset, one or several of:\n",
       "    \"accuracy\": Accuracy\n",
       "    \"f1\": F1 score\n",
       "    \"pearson\": Pearson Correlation\n",
       "    \"spearmanr\": Spearman Correlation\n",
       "    \"matthews_correlation\": Matthew Correlation\n",
       "Examples:\n",
       "\n",
       "    >>> glue_metric = evaluate.load('glue', 'sst2')  # 'sst2' or any of [\"mnli\", \"mnli_mismatched\", \"mnli_matched\", \"qnli\", \"rte\", \"wnli\", \"hans\"]\n",
       "    >>> references = [0, 1]\n",
       "    >>> predictions = [0, 1]\n",
       "    >>> results = glue_metric.compute(predictions=predictions, references=references)\n",
       "    >>> print(results)\n",
       "    {'accuracy': 1.0}\n",
       "\n",
       "    >>> glue_metric = evaluate.load('glue', 'mrpc')  # 'mrpc' or 'qqp'\n",
       "    >>> references = [0, 1]\n",
       "    >>> predictions = [0, 1]\n",
       "    >>> results = glue_metric.compute(predictions=predictions, references=references)\n",
       "    >>> print(results)\n",
       "    {'accuracy': 1.0, 'f1': 1.0}\n",
       "\n",
       "    >>> glue_metric = evaluate.load('glue', 'stsb')\n",
       "    >>> references = [0., 1., 2., 3., 4., 5.]\n",
       "    >>> predictions = [0., 1., 2., 3., 4., 5.]\n",
       "    >>> results = glue_metric.compute(predictions=predictions, references=references)\n",
       "    >>> print({\"pearson\": round(results[\"pearson\"], 2), \"spearmanr\": round(results[\"spearmanr\"], 2)})\n",
       "    {'pearson': 1.0, 'spearmanr': 1.0}\n",
       "\n",
       "    >>> glue_metric = evaluate.load('glue', 'cola')\n",
       "    >>> references = [0, 1]\n",
       "    >>> predictions = [0, 1]\n",
       "    >>> results = glue_metric.compute(predictions=predictions, references=references)\n",
       "    >>> print(results)\n",
       "    {'matthews_correlation': 1.0}\n",
       "\"\"\", stored examples: 0)"
      ]
     },
     "execution_count": 8,
     "metadata": {},
     "output_type": "execute_result"
    }
   ],
   "source": [
    "metric"
   ]
  },
  {
   "cell_type": "code",
   "execution_count": 12,
   "id": "ba2cb56b-8538-4c10-ad17-e8a0a0da6e4a",
   "metadata": {},
   "outputs": [
    {
     "data": {
      "text/plain": [
       "{'accuracy': 0.625, 'f1': 0.5714285714285714}"
      ]
     },
     "execution_count": 12,
     "metadata": {},
     "output_type": "execute_result"
    }
   ],
   "source": [
    "predictions = [0,1,1,1,0,0,1,0]\n",
    "references = [1,0,0,1,0,0,1,0]\n",
    "metric.compute(predictions = predictions, references = references)"
   ]
  },
  {
   "cell_type": "code",
   "execution_count": 16,
   "id": "7ba41c97-db2e-4087-bc0c-12c616dad14b",
   "metadata": {},
   "outputs": [
    {
     "data": {
      "text/plain": [
       "{'accuracy': 0.5}"
      ]
     },
     "execution_count": 16,
     "metadata": {},
     "output_type": "execute_result"
    }
   ],
   "source": [
    "predictions = [2,32,1,-1,0,65,1,0]\n",
    "references = [1,32,0,-2,0,63.5,1,0]\n",
    "metric = load_metric('accuracy') #only use accuracy\n",
    "metric.compute(predictions = predictions, references = references)"
   ]
  },
  {
   "cell_type": "code",
   "execution_count": null,
   "id": "cb7c8b1e-f6c1-4a88-95b3-3daff71e69e3",
   "metadata": {},
   "outputs": [],
   "source": []
  }
 ],
 "metadata": {
  "kernelspec": {
   "display_name": "Python 3 (ipykernel)",
   "language": "python",
   "name": "python3"
  },
  "language_info": {
   "codemirror_mode": {
    "name": "ipython",
    "version": 3
   },
   "file_extension": ".py",
   "mimetype": "text/x-python",
   "name": "python",
   "nbconvert_exporter": "python",
   "pygments_lexer": "ipython3",
   "version": "3.10.18"
  }
 },
 "nbformat": 4,
 "nbformat_minor": 5
}
