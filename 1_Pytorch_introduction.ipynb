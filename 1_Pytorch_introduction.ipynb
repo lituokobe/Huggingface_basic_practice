{
 "cells": [
  {
   "cell_type": "code",
   "execution_count": 1,
   "id": "3de45715-bc21-4650-abb2-d88fd6461b34",
   "metadata": {},
   "outputs": [],
   "source": [
    "import torch"
   ]
  },
  {
   "cell_type": "code",
   "execution_count": 13,
   "id": "d7870e12-143e-4522-bbbd-8249a99ecc8c",
   "metadata": {},
   "outputs": [],
   "source": [
    "import numpy as np"
   ]
  },
  {
   "cell_type": "code",
   "execution_count": 3,
   "id": "27cbb04e-99e7-492c-8bba-ce57fa73d9b4",
   "metadata": {},
   "outputs": [
    {
     "data": {
      "text/plain": [
       "True"
      ]
     },
     "execution_count": 3,
     "metadata": {},
     "output_type": "execute_result"
    }
   ],
   "source": [
    "torch.backends.mps.is_available()"
   ]
  },
  {
   "cell_type": "code",
   "execution_count": 8,
   "id": "14246e5c-9f37-4ded-861d-bf8d9962c56b",
   "metadata": {},
   "outputs": [
    {
     "data": {
      "text/plain": [
       "<module 'torch.backends.mps' from '/opt/anaconda3/envs/Advanced_AI/lib/python3.10/site-packages/torch/backends/mps/__init__.py'>"
      ]
     },
     "execution_count": 8,
     "metadata": {},
     "output_type": "execute_result"
    }
   ],
   "source": [
    "torch.backends.mps"
   ]
  },
  {
   "cell_type": "markdown",
   "id": "e534440d-fde4-4da0-997a-c7d519e5da66",
   "metadata": {},
   "source": [
    "## 1. Pytorch tensor\n",
    "tensor is similar to ndarray in numpy, but can be used on GPU for accelerated computation."
   ]
  },
  {
   "cell_type": "markdown",
   "id": "4ef32173-51c5-415a-90be-4ecb74fd1bec",
   "metadata": {},
   "source": [
    "You can make pytorch tensor with tuple, list or ndarray.\n",
    "But if you're prototyping or just trying things out, list and tuple are great, when you're **scaling up or converting between libraries, ndarrays are your friend**."
   ]
  },
  {
   "cell_type": "code",
   "execution_count": 10,
   "id": "dcb7a94e-aa76-4002-b78c-7ffce0422fe8",
   "metadata": {},
   "outputs": [
    {
     "data": {
      "text/plain": [
       "tensor([6, 2])"
      ]
     },
     "execution_count": 10,
     "metadata": {},
     "output_type": "execute_result"
    }
   ],
   "source": [
    "torch.tensor([6,2])"
   ]
  },
  {
   "cell_type": "code",
   "execution_count": 11,
   "id": "edce430c-ae02-4377-8423-678b077f0287",
   "metadata": {},
   "outputs": [
    {
     "data": {
      "text/plain": [
       "tensor([6, 2])"
      ]
     },
     "execution_count": 11,
     "metadata": {},
     "output_type": "execute_result"
    }
   ],
   "source": [
    "torch.tensor((6,2))"
   ]
  },
  {
   "cell_type": "code",
   "execution_count": 14,
   "id": "7bceb65d-5ae9-4954-8578-edde3e35a83c",
   "metadata": {},
   "outputs": [
    {
     "data": {
      "text/plain": [
       "tensor([1, 2, 3])"
      ]
     },
     "execution_count": 14,
     "metadata": {},
     "output_type": "execute_result"
    }
   ],
   "source": [
    "torch.tensor(np.array([1,2,3]))"
   ]
  },
  {
   "cell_type": "markdown",
   "id": "f3d79e28-3ab8-4e87-a7f4-bc6300ca2c97",
   "metadata": {},
   "source": [
    "Quick methods to create tensor, like the routine methods in numpy: ones, zeros, full, eye, random....."
   ]
  },
  {
   "cell_type": "code",
   "execution_count": 15,
   "id": "b1693e39-459b-43e6-83fc-61cc0c26cf9f",
   "metadata": {},
   "outputs": [
    {
     "data": {
      "text/plain": [
       "tensor([[0.6186, 0.1565, 0.7201],\n",
       "        [0.8034, 0.7467, 0.1416]])"
      ]
     },
     "execution_count": 15,
     "metadata": {},
     "output_type": "execute_result"
    }
   ],
   "source": [
    "#2rows and 2 columns of random numbers\n",
    "torch.rand((2,3)) "
   ]
  },
  {
   "cell_type": "code",
   "execution_count": 16,
   "id": "970bd689-bbd9-4376-aad5-6b7c562aa431",
   "metadata": {},
   "outputs": [
    {
     "data": {
      "text/plain": [
       "tensor([[0.3854, 0.0727, 0.4925],\n",
       "        [0.4008, 0.7764, 0.4998]])"
      ]
     },
     "execution_count": 16,
     "metadata": {},
     "output_type": "execute_result"
    }
   ],
   "source": [
    "torch.rand(2,3)"
   ]
  },
  {
   "cell_type": "code",
   "execution_count": 17,
   "id": "e6374626-6c17-4260-99d0-2fe674f40fbd",
   "metadata": {},
   "outputs": [
    {
     "data": {
      "text/plain": [
       "tensor([[-0.1616, -0.5160, -0.6437],\n",
       "        [ 1.8353, -0.3077,  1.1880]])"
      ]
     },
     "execution_count": 17,
     "metadata": {},
     "output_type": "execute_result"
    }
   ],
   "source": [
    "#normal distribution, mean 0 and standard deviation 1.\n",
    "torch.randn(2,3)"
   ]
  },
  {
   "cell_type": "code",
   "execution_count": 20,
   "id": "28523a83-c5c0-4d87-88bb-22f78c0e01f1",
   "metadata": {},
   "outputs": [
    {
     "data": {
      "text/plain": [
       "tensor([4.6131])"
      ]
     },
     "execution_count": 20,
     "metadata": {},
     "output_type": "execute_result"
    }
   ],
   "source": [
    "#specify mean and sd of a normal distribution\n",
    "mean = torch.tensor([4.0])\n",
    "std = torch.tensor([0.5])\n",
    "torch.normal(mean, std)"
   ]
  },
  {
   "cell_type": "code",
   "execution_count": 21,
   "id": "8d9640c9-c763-470d-9f7a-513d49188fe4",
   "metadata": {},
   "outputs": [
    {
     "data": {
      "text/plain": [
       "tensor([[4.1373, 4.2235, 3.0460],\n",
       "        [4.2595, 4.0126, 4.0550]])"
      ]
     },
     "execution_count": 21,
     "metadata": {},
     "output_type": "execute_result"
    }
   ],
   "source": [
    "mean = torch.full((2, 3), 4.0)   # shape [2, 3] with all values = 4.0\n",
    "std = torch.full((2, 3), 0.5)    # shape [2, 3] with all values = 0.5\n",
    "torch.normal(mean, std)"
   ]
  },
  {
   "cell_type": "code",
   "execution_count": 23,
   "id": "4efa2204-361c-428f-8825-8230711c7bb4",
   "metadata": {},
   "outputs": [
    {
     "data": {
      "text/plain": [
       "tensor([[0., 0., 0.],\n",
       "        [0., 0., 0.]])"
      ]
     },
     "execution_count": 23,
     "metadata": {},
     "output_type": "execute_result"
    }
   ],
   "source": [
    "#generate zeros:\n",
    "torch.zeros(2,3)"
   ]
  },
  {
   "cell_type": "code",
   "execution_count": 25,
   "id": "f5b3e6cc-66a5-4188-8674-71f697867232",
   "metadata": {},
   "outputs": [
    {
     "data": {
      "text/plain": [
       "tensor([[1., 1., 1.],\n",
       "        [1., 1., 1.]])"
      ]
     },
     "execution_count": 25,
     "metadata": {},
     "output_type": "execute_result"
    }
   ],
   "source": [
    "#generat oens:\n",
    "torch.ones(2,3)"
   ]
  },
  {
   "cell_type": "code",
   "execution_count": 26,
   "id": "22c9f642-68da-47e9-93fb-88bd0218596f",
   "metadata": {},
   "outputs": [
    {
     "data": {
      "text/plain": [
       "torch.Size([2, 3, 4])"
      ]
     },
     "execution_count": 26,
     "metadata": {},
     "output_type": "execute_result"
    }
   ],
   "source": [
    "#shape of tensor\n",
    "x = torch.ones(2,3,4)\n",
    "x.shape"
   ]
  },
  {
   "cell_type": "code",
   "execution_count": 27,
   "id": "6dfc6145-6ffd-4423-a7e2-1c792e374578",
   "metadata": {},
   "outputs": [
    {
     "data": {
      "text/plain": [
       "torch.Size([2, 3, 4])"
      ]
     },
     "execution_count": 27,
     "metadata": {},
     "output_type": "execute_result"
    }
   ],
   "source": [
    "x.size()"
   ]
  },
  {
   "cell_type": "code",
   "execution_count": 29,
   "id": "afbb2093-4997-429a-ad8e-b6e72fc3fcb0",
   "metadata": {},
   "outputs": [
    {
     "data": {
      "text/plain": [
       "4"
      ]
     },
     "execution_count": 29,
     "metadata": {},
     "output_type": "execute_result"
    }
   ],
   "source": [
    "x.size(-1)"
   ]
  },
  {
   "cell_type": "markdown",
   "id": "e29d251d-44ef-4779-bc9c-e8817a6970cf",
   "metadata": {},
   "source": [
    "## 2. Basic data type in tensor\n",
    "- torch.float32\n",
    "- torch.float64\n",
    "- torch.int16\n",
    "- torch.int32\n",
    "- torch.int64"
   ]
  },
  {
   "cell_type": "code",
   "execution_count": 33,
   "id": "09023204-ac47-4383-ac9e-8e8b8d6c3288",
   "metadata": {},
   "outputs": [
    {
     "data": {
      "text/plain": [
       "tensor([2, 3, 4], dtype=torch.int32)"
      ]
     },
     "execution_count": 33,
     "metadata": {},
     "output_type": "execute_result"
    }
   ],
   "source": [
    "#we can assign datatype when creating a tensor\n",
    "torch.tensor([2.2,3.1,4.2],dtype=torch.int32)"
   ]
  },
  {
   "cell_type": "code",
   "execution_count": 34,
   "id": "cf2baf1c-2b01-4041-9a4f-a545466d83c8",
   "metadata": {},
   "outputs": [
    {
     "data": {
      "text/plain": [
       "tensor([ 3., 36.,  2.])"
      ]
     },
     "execution_count": 34,
     "metadata": {},
     "output_type": "execute_result"
    }
   ],
   "source": [
    "torch.tensor([3,36,2],dtype=torch.float32)"
   ]
  },
  {
   "cell_type": "code",
   "execution_count": 39,
   "id": "0a8279e7-76f3-4aec-99f8-df813969a139",
   "metadata": {},
   "outputs": [
    {
     "data": {
      "text/plain": [
       "array([[ 0.03003491,  0.445328  ,  1.63826447],\n",
       "       [ 1.82780283,  0.15699914, -1.12034901]])"
      ]
     },
     "execution_count": 39,
     "metadata": {},
     "output_type": "execute_result"
    }
   ],
   "source": [
    "a = np.random.randn(2,3)\n",
    "a"
   ]
  },
  {
   "cell_type": "code",
   "execution_count": 41,
   "id": "b3d024db-d3e8-4f4c-8547-fd405f6340a9",
   "metadata": {},
   "outputs": [
    {
     "data": {
      "text/plain": [
       "tensor([[ 0.0300,  0.4453,  1.6383],\n",
       "        [ 1.8278,  0.1570, -1.1203]], dtype=torch.float64)"
      ]
     },
     "execution_count": 41,
     "metadata": {},
     "output_type": "execute_result"
    }
   ],
   "source": [
    "#tensor and ndarray can be converted very conveniently\n",
    "torch.from_numpy(a)"
   ]
  },
  {
   "cell_type": "code",
   "execution_count": 42,
   "id": "30499557-2118-40de-a469-0fc252a467c6",
   "metadata": {},
   "outputs": [
    {
     "data": {
      "text/plain": [
       "array([[ 0.03003491,  0.445328  ,  1.63826447],\n",
       "       [ 1.82780283,  0.15699914, -1.12034901]])"
      ]
     },
     "execution_count": 42,
     "metadata": {},
     "output_type": "execute_result"
    }
   ],
   "source": [
    "torch.from_numpy(a).numpy()"
   ]
  },
  {
   "cell_type": "markdown",
   "id": "b3eb9194-a33b-4653-ae2a-b362a7744666",
   "metadata": {},
   "source": [
    "## 3. tensor calculation"
   ]
  },
  {
   "cell_type": "code",
   "execution_count": 43,
   "id": "05ccc482-0e85-455b-89ff-04f479dd07f9",
   "metadata": {},
   "outputs": [],
   "source": [
    "#very similar to ndarray calculation"
   ]
  },
  {
   "cell_type": "code",
   "execution_count": 44,
   "id": "006be466-21d2-4ed7-8264-c0ba9de8e253",
   "metadata": {},
   "outputs": [
    {
     "data": {
      "text/plain": [
       "tensor([[1., 1., 1.],\n",
       "        [1., 1., 1.]])"
      ]
     },
     "execution_count": 44,
     "metadata": {},
     "output_type": "execute_result"
    }
   ],
   "source": [
    "t= torch.ones(2,3)\n",
    "t"
   ]
  },
  {
   "cell_type": "code",
   "execution_count": 45,
   "id": "da08119f-a0e1-4c49-b832-4be663432d86",
   "metadata": {},
   "outputs": [
    {
     "data": {
      "text/plain": [
       "tensor([[4., 4., 4.],\n",
       "        [4., 4., 4.]])"
      ]
     },
     "execution_count": 45,
     "metadata": {},
     "output_type": "execute_result"
    }
   ],
   "source": [
    "t+3"
   ]
  },
  {
   "cell_type": "code",
   "execution_count": 47,
   "id": "ce179ef7-682c-46ba-921d-93944df98723",
   "metadata": {},
   "outputs": [
    {
     "data": {
      "text/plain": [
       "tensor([[4.3000, 4.3000, 4.3000],\n",
       "        [4.3000, 4.3000, 4.3000]])"
      ]
     },
     "execution_count": 47,
     "metadata": {},
     "output_type": "execute_result"
    }
   ],
   "source": [
    "torch.add(t,3.3)"
   ]
  },
  {
   "cell_type": "code",
   "execution_count": 48,
   "id": "f3586696-10ab-41c5-aaef-a6bd09672351",
   "metadata": {},
   "outputs": [
    {
     "data": {
      "text/plain": [
       "tensor([[-0.2800, -0.9281,  2.2013],\n",
       "        [-0.2760, -0.3447,  0.8974]])"
      ]
     },
     "execution_count": 48,
     "metadata": {},
     "output_type": "execute_result"
    }
   ],
   "source": [
    "s = torch.randn(2,3)\n",
    "s"
   ]
  },
  {
   "cell_type": "code",
   "execution_count": 50,
   "id": "0fb12bbf-7d24-4f7b-aad2-a762e11baa85",
   "metadata": {},
   "outputs": [
    {
     "data": {
      "text/plain": [
       "tensor([[0.7200, 0.0719, 3.2013],\n",
       "        [0.7240, 0.6553, 1.8974]])"
      ]
     },
     "execution_count": 50,
     "metadata": {},
     "output_type": "execute_result"
    }
   ],
   "source": [
    "#to add, 2 tensors must have same dimensions\n",
    "t+s"
   ]
  },
  {
   "cell_type": "code",
   "execution_count": 54,
   "id": "462c26cd-4568-45f3-ae28-c5affcdd6697",
   "metadata": {},
   "outputs": [
    {
     "data": {
      "text/plain": [
       "tensor([[0.7200, 0.0719, 3.2013],\n",
       "        [0.7240, 0.6553, 1.8974]])"
      ]
     },
     "execution_count": 54,
     "metadata": {},
     "output_type": "execute_result"
    }
   ],
   "source": [
    "t.add(s)"
   ]
  },
  {
   "cell_type": "code",
   "execution_count": 55,
   "id": "0ec7100a-0454-4d47-ba19-88963ea89da5",
   "metadata": {},
   "outputs": [
    {
     "data": {
      "text/plain": [
       "tensor([[1., 1., 1.],\n",
       "        [1., 1., 1.]])"
      ]
     },
     "execution_count": 55,
     "metadata": {},
     "output_type": "execute_result"
    }
   ],
   "source": [
    "t"
   ]
  },
  {
   "cell_type": "code",
   "execution_count": 57,
   "id": "44672ae3-cd73-45d5-978a-1835d4ace5a3",
   "metadata": {},
   "outputs": [
    {
     "data": {
      "text/plain": [
       "tensor([[0.7200, 0.0719, 3.2013],\n",
       "        [0.7240, 0.6553, 1.8974]])"
      ]
     },
     "execution_count": 57,
     "metadata": {},
     "output_type": "execute_result"
    }
   ],
   "source": [
    "#use add_ to make the result inplace\n",
    "t.add_(s)"
   ]
  },
  {
   "cell_type": "code",
   "execution_count": 58,
   "id": "b2cdae2d-2e1f-4d81-a199-74a17c491366",
   "metadata": {},
   "outputs": [
    {
     "data": {
      "text/plain": [
       "tensor([[0.7200, 0.0719, 3.2013],\n",
       "        [0.7240, 0.6553, 1.8974]])"
      ]
     },
     "execution_count": 58,
     "metadata": {},
     "output_type": "execute_result"
    }
   ],
   "source": [
    "t"
   ]
  },
  {
   "cell_type": "code",
   "execution_count": 63,
   "id": "808bcbda-04d2-4420-a7d1-6f211d0e8f0a",
   "metadata": {},
   "outputs": [
    {
     "data": {
      "text/plain": [
       "tensor([[0.7200, 0.0719, 3.2013],\n",
       "        [0.7240, 0.6553, 1.8974],\n",
       "        [1.2000, 0.5000, 3.3000]])"
      ]
     },
     "execution_count": 63,
     "metadata": {},
     "output_type": "execute_result"
    }
   ],
   "source": [
    "#add a row\n",
    "t = torch.cat((t, torch.tensor([[1.2, 0.5, 3.3]])), dim=0)\n",
    "t"
   ]
  },
  {
   "cell_type": "code",
   "execution_count": 64,
   "id": "a7c4e77d-2242-427a-b61b-bdc551fa2994",
   "metadata": {},
   "outputs": [
    {
     "data": {
      "text/plain": [
       "tensor([[-2.4638, -2.7675,  3.9814],\n",
       "        [ 0.2280,  2.9749, -1.9317],\n",
       "        [ 0.8614,  0.5556, -0.8521]])"
      ]
     },
     "execution_count": 64,
     "metadata": {},
     "output_type": "execute_result"
    }
   ],
   "source": [
    "#get inverse matrix\n",
    "torch.linalg.inv(t)"
   ]
  },
  {
   "cell_type": "code",
   "execution_count": 66,
   "id": "e2539549-bdc9-4e2b-8e63-5759bffb564e",
   "metadata": {},
   "outputs": [
    {
     "data": {
      "text/plain": [
       "tensor([[0.7200, 0.0719, 3.2013, 0.7240, 0.6553, 1.8974, 1.2000, 0.5000, 3.3000]])"
      ]
     },
     "execution_count": 66,
     "metadata": {},
     "output_type": "execute_result"
    }
   ],
   "source": [
    "#reshape the tensor\n",
    "t.reshape(1,9)"
   ]
  },
  {
   "cell_type": "code",
   "execution_count": 68,
   "id": "e15d7930-f528-45f4-b354-6bcb64f3dd75",
   "metadata": {},
   "outputs": [
    {
     "data": {
      "text/plain": [
       "tensor([[0.7200, 0.0719, 3.2013, 0.7240, 0.6553, 1.8974, 1.2000, 0.5000, 3.3000]])"
      ]
     },
     "execution_count": 68,
     "metadata": {},
     "output_type": "execute_result"
    }
   ],
   "source": [
    "t.view(1,9)"
   ]
  },
  {
   "cell_type": "code",
   "execution_count": 69,
   "id": "c3a9c85d-41aa-4609-9234-7e07b22b51ae",
   "metadata": {},
   "outputs": [
    {
     "data": {
      "text/plain": [
       "tensor(12.2699)"
      ]
     },
     "execution_count": 69,
     "metadata": {},
     "output_type": "execute_result"
    }
   ],
   "source": [
    "#group calculation\n",
    "t.sum()"
   ]
  },
  {
   "cell_type": "code",
   "execution_count": 72,
   "id": "a105bf7a-53dd-4d4a-8911-76b9d6aff966",
   "metadata": {},
   "outputs": [
    {
     "data": {
      "text/plain": [
       "tensor([3.9932, 3.2767, 5.0000])"
      ]
     },
     "execution_count": 72,
     "metadata": {},
     "output_type": "execute_result"
    }
   ],
   "source": [
    "#sum by column\n",
    "t.sum(dim=1)"
   ]
  },
  {
   "cell_type": "code",
   "execution_count": 71,
   "id": "3f324fb7-fad2-45d6-9f43-4e245a74a691",
   "metadata": {},
   "outputs": [
    {
     "data": {
      "text/plain": [
       "tensor([2.6440, 1.2272, 8.3987])"
      ]
     },
     "execution_count": 71,
     "metadata": {},
     "output_type": "execute_result"
    }
   ],
   "source": [
    "#sum by row\n",
    "t.sum(dim=0)"
   ]
  },
  {
   "cell_type": "code",
   "execution_count": 76,
   "id": "832ab9fd-70fe-45f5-a35a-990970c21185",
   "metadata": {},
   "outputs": [
    {
     "data": {
      "text/plain": [
       "tensor(0.6553)"
      ]
     },
     "execution_count": 76,
     "metadata": {},
     "output_type": "execute_result"
    }
   ],
   "source": [
    "#one number is scaler in tensor, a list in tensor is a vector\n",
    "#get the scaler in a vector\n",
    "t[1,1]"
   ]
  },
  {
   "cell_type": "code",
   "execution_count": 77,
   "id": "5a1f40bb-1abe-4d53-9cdd-1346e21dd9a4",
   "metadata": {},
   "outputs": [
    {
     "data": {
      "text/plain": [
       "tensor([0.6553, 0.5000])"
      ]
     },
     "execution_count": 77,
     "metadata": {},
     "output_type": "execute_result"
    }
   ],
   "source": [
    "t[1:,1]"
   ]
  },
  {
   "cell_type": "code",
   "execution_count": 78,
   "id": "521cf048-57bf-4241-b580-ba29d1363db8",
   "metadata": {},
   "outputs": [
    {
     "data": {
      "text/plain": [
       "tensor([[[[2.0061e-01, 7.9530e-01, 7.3930e-01],\n",
       "          [2.4570e-01, 2.2051e-01, 5.8009e-01],\n",
       "          [4.9909e-01, 3.4959e-01, 5.9674e-01],\n",
       "          ...,\n",
       "          [1.6430e-01, 7.9924e-01, 7.1956e-01],\n",
       "          [4.0765e-01, 2.3549e-01, 1.6730e-01],\n",
       "          [8.7160e-01, 4.0136e-01, 2.9066e-01]],\n",
       "\n",
       "         [[4.3076e-01, 3.5878e-01, 5.1189e-01],\n",
       "          [9.5760e-01, 3.7720e-01, 2.4108e-01],\n",
       "          [3.3484e-01, 4.0078e-01, 6.3168e-03],\n",
       "          ...,\n",
       "          [2.9728e-01, 2.0507e-01, 9.5897e-01],\n",
       "          [7.0334e-01, 1.8418e-01, 7.0403e-01],\n",
       "          [4.6337e-01, 4.0884e-01, 4.7130e-01]],\n",
       "\n",
       "         [[2.8847e-01, 2.6105e-01, 6.7080e-02],\n",
       "          [6.1003e-01, 7.0735e-01, 2.3956e-01],\n",
       "          [4.6404e-01, 6.1810e-01, 1.3958e-01],\n",
       "          ...,\n",
       "          [6.6332e-01, 1.1271e-01, 9.0695e-01],\n",
       "          [6.1870e-02, 3.9535e-01, 7.5297e-01],\n",
       "          [9.3660e-01, 8.4075e-01, 5.0868e-01]],\n",
       "\n",
       "         ...,\n",
       "\n",
       "         [[7.4214e-01, 7.7396e-01, 5.6260e-01],\n",
       "          [2.5839e-01, 1.4627e-01, 8.7150e-01],\n",
       "          [9.1516e-01, 5.3991e-01, 8.0391e-01],\n",
       "          ...,\n",
       "          [1.5004e-01, 5.0260e-01, 1.6977e-01],\n",
       "          [1.9361e-01, 3.6681e-02, 5.7496e-01],\n",
       "          [1.3398e-01, 3.2669e-01, 2.9134e-02]],\n",
       "\n",
       "         [[2.8560e-01, 3.9831e-01, 3.7617e-01],\n",
       "          [6.5378e-01, 3.5565e-01, 7.0714e-01],\n",
       "          [4.8948e-01, 1.7677e-01, 6.6505e-01],\n",
       "          ...,\n",
       "          [7.3982e-01, 2.6503e-01, 9.0929e-02],\n",
       "          [5.8409e-01, 6.6725e-01, 7.0155e-01],\n",
       "          [4.8997e-01, 1.6243e-01, 1.1262e-01]],\n",
       "\n",
       "         [[8.8520e-03, 7.3359e-01, 8.6542e-02],\n",
       "          [8.2499e-01, 1.1182e-01, 6.6268e-02],\n",
       "          [8.7392e-01, 6.4783e-01, 4.9815e-01],\n",
       "          ...,\n",
       "          [6.8129e-01, 4.6023e-01, 6.4115e-01],\n",
       "          [8.6002e-01, 6.9904e-01, 5.3845e-01],\n",
       "          [1.3294e-01, 6.4187e-01, 4.5244e-02]]],\n",
       "\n",
       "\n",
       "        [[[4.3132e-01, 7.5700e-01, 1.2909e-01],\n",
       "          [9.5134e-01, 6.1714e-01, 3.1374e-01],\n",
       "          [3.6958e-01, 1.6717e-01, 2.5112e-01],\n",
       "          ...,\n",
       "          [8.1553e-01, 6.4432e-01, 1.1368e-01],\n",
       "          [3.3091e-01, 7.1049e-01, 3.4625e-01],\n",
       "          [2.8519e-01, 4.2245e-01, 1.0357e-01]],\n",
       "\n",
       "         [[9.2489e-01, 3.4933e-01, 7.6550e-01],\n",
       "          [4.3576e-01, 4.3762e-01, 1.9159e-01],\n",
       "          [3.3563e-01, 6.5383e-01, 6.9232e-01],\n",
       "          ...,\n",
       "          [3.0137e-01, 6.6792e-02, 8.1253e-01],\n",
       "          [4.0103e-01, 2.1291e-01, 2.5199e-01],\n",
       "          [4.3846e-01, 1.1966e-01, 6.4024e-01]],\n",
       "\n",
       "         [[1.2052e-01, 3.2969e-01, 4.7587e-01],\n",
       "          [5.0103e-01, 4.6871e-01, 8.8614e-01],\n",
       "          [9.0971e-01, 2.7538e-01, 4.0667e-01],\n",
       "          ...,\n",
       "          [7.8452e-01, 4.8674e-01, 6.7537e-01],\n",
       "          [1.8645e-01, 6.7465e-01, 5.6651e-01],\n",
       "          [2.6797e-01, 5.3751e-01, 4.9873e-01]],\n",
       "\n",
       "         ...,\n",
       "\n",
       "         [[8.1635e-01, 4.6810e-01, 8.5035e-01],\n",
       "          [9.6025e-03, 7.0185e-01, 2.1329e-02],\n",
       "          [3.9640e-01, 5.9953e-01, 8.2303e-01],\n",
       "          ...,\n",
       "          [5.6381e-01, 4.0786e-01, 8.7042e-01],\n",
       "          [6.3972e-01, 6.5273e-01, 2.0408e-01],\n",
       "          [9.3532e-01, 3.4805e-01, 8.5608e-01]],\n",
       "\n",
       "         [[8.6097e-01, 6.5980e-01, 5.5961e-01],\n",
       "          [8.5097e-01, 8.7029e-01, 1.8256e-01],\n",
       "          [6.0446e-01, 8.8335e-01, 6.8816e-01],\n",
       "          ...,\n",
       "          [9.4610e-01, 7.5188e-01, 9.7616e-01],\n",
       "          [6.0602e-01, 4.9271e-01, 6.6676e-01],\n",
       "          [2.7884e-01, 8.4487e-01, 4.1787e-02]],\n",
       "\n",
       "         [[7.4585e-01, 9.0244e-02, 1.0047e-01],\n",
       "          [1.7356e-01, 2.5407e-01, 7.3819e-01],\n",
       "          [7.7476e-01, 6.9143e-01, 1.1601e-01],\n",
       "          ...,\n",
       "          [7.4140e-01, 6.9113e-01, 4.0447e-01],\n",
       "          [8.7041e-01, 1.7754e-03, 9.0966e-01],\n",
       "          [3.3963e-01, 6.7031e-01, 1.3738e-01]]],\n",
       "\n",
       "\n",
       "        [[[7.8941e-01, 4.1653e-01, 1.8868e-02],\n",
       "          [4.3217e-01, 6.2458e-01, 2.9578e-01],\n",
       "          [5.5685e-01, 3.1958e-01, 5.7397e-01],\n",
       "          ...,\n",
       "          [6.4295e-01, 4.9165e-01, 4.5990e-01],\n",
       "          [9.8309e-01, 8.6570e-01, 4.7519e-01],\n",
       "          [7.2097e-01, 7.1195e-01, 6.5962e-01]],\n",
       "\n",
       "         [[1.0204e-01, 4.7671e-01, 1.8822e-01],\n",
       "          [9.7024e-01, 4.9369e-01, 5.8772e-01],\n",
       "          [8.3780e-01, 7.8388e-01, 3.5380e-01],\n",
       "          ...,\n",
       "          [6.8300e-02, 7.1911e-01, 3.9744e-01],\n",
       "          [8.8497e-01, 7.8267e-01, 2.7514e-01],\n",
       "          [9.0689e-01, 4.0522e-01, 4.5328e-01]],\n",
       "\n",
       "         [[8.0668e-01, 5.1723e-01, 3.2927e-01],\n",
       "          [4.7111e-01, 6.8910e-01, 1.0091e-01],\n",
       "          [6.5017e-01, 7.3394e-01, 5.6532e-01],\n",
       "          ...,\n",
       "          [2.0093e-01, 5.0586e-01, 3.8293e-01],\n",
       "          [1.5880e-02, 5.0064e-01, 2.0729e-01],\n",
       "          [1.6744e-01, 2.4044e-01, 2.8288e-01]],\n",
       "\n",
       "         ...,\n",
       "\n",
       "         [[9.2457e-01, 7.6120e-01, 3.6713e-01],\n",
       "          [8.3814e-02, 4.4734e-01, 9.6029e-01],\n",
       "          [9.2184e-01, 8.2476e-01, 9.6077e-01],\n",
       "          ...,\n",
       "          [6.0452e-01, 5.7643e-01, 3.6192e-02],\n",
       "          [9.4386e-01, 1.4677e-01, 3.2682e-01],\n",
       "          [2.9501e-02, 8.8791e-01, 7.5342e-01]],\n",
       "\n",
       "         [[2.1764e-01, 8.5410e-01, 8.6083e-01],\n",
       "          [9.9447e-01, 4.1617e-01, 7.3770e-01],\n",
       "          [1.5823e-01, 7.6713e-01, 9.3450e-01],\n",
       "          ...,\n",
       "          [3.7619e-01, 4.8889e-01, 3.2835e-01],\n",
       "          [5.6462e-01, 9.3460e-01, 1.5023e-01],\n",
       "          [7.5746e-01, 1.4365e-05, 4.0906e-01]],\n",
       "\n",
       "         [[8.1107e-01, 3.4775e-01, 7.5735e-03],\n",
       "          [9.5955e-01, 4.1139e-02, 8.4831e-01],\n",
       "          [4.2563e-01, 6.9443e-01, 4.3032e-01],\n",
       "          ...,\n",
       "          [4.6705e-01, 9.6790e-01, 2.9433e-01],\n",
       "          [7.8307e-01, 3.5114e-01, 2.2325e-01],\n",
       "          [5.3481e-01, 3.0497e-01, 7.4263e-01]]],\n",
       "\n",
       "\n",
       "        ...,\n",
       "\n",
       "\n",
       "        [[[9.8699e-01, 2.1547e-01, 8.8297e-01],\n",
       "          [8.6786e-01, 8.2326e-01, 1.0361e-01],\n",
       "          [1.5915e-01, 1.4412e-01, 8.9194e-01],\n",
       "          ...,\n",
       "          [2.5673e-01, 6.6476e-01, 1.8620e-01],\n",
       "          [6.3095e-01, 4.6109e-02, 5.4984e-01],\n",
       "          [6.9207e-01, 7.0658e-01, 4.5526e-01]],\n",
       "\n",
       "         [[3.6521e-01, 9.9185e-01, 6.7447e-01],\n",
       "          [1.0922e-01, 3.2824e-02, 1.3919e-01],\n",
       "          [2.7481e-01, 5.6633e-01, 3.7129e-01],\n",
       "          ...,\n",
       "          [4.4051e-01, 3.3893e-01, 2.4060e-01],\n",
       "          [5.3977e-01, 8.7858e-01, 7.4702e-01],\n",
       "          [2.5292e-01, 2.4264e-01, 2.5853e-01]],\n",
       "\n",
       "         [[7.3596e-01, 2.6863e-01, 4.6512e-02],\n",
       "          [7.1604e-01, 4.0943e-01, 8.1832e-01],\n",
       "          [9.1335e-02, 5.3528e-01, 9.1259e-02],\n",
       "          ...,\n",
       "          [8.1542e-01, 3.1695e-01, 3.6825e-01],\n",
       "          [7.8663e-01, 5.6340e-01, 9.2821e-01],\n",
       "          [6.8081e-01, 1.3462e-01, 1.5137e-01]],\n",
       "\n",
       "         ...,\n",
       "\n",
       "         [[1.4903e-01, 9.0106e-01, 9.1154e-02],\n",
       "          [1.3612e-01, 4.2827e-01, 5.6320e-01],\n",
       "          [5.7453e-01, 5.8278e-01, 8.1888e-01],\n",
       "          ...,\n",
       "          [7.5184e-01, 5.7668e-01, 6.5622e-01],\n",
       "          [1.5723e-01, 3.4903e-01, 3.9518e-01],\n",
       "          [5.8960e-01, 3.1572e-01, 3.3979e-03]],\n",
       "\n",
       "         [[1.1499e-01, 4.8772e-01, 6.9269e-01],\n",
       "          [8.4595e-01, 3.1399e-02, 4.2536e-02],\n",
       "          [7.3507e-01, 6.6932e-01, 8.3318e-01],\n",
       "          ...,\n",
       "          [5.9781e-01, 7.2564e-01, 9.7132e-01],\n",
       "          [2.6910e-01, 4.2890e-01, 3.0682e-01],\n",
       "          [2.6458e-01, 8.0209e-01, 5.1913e-01]],\n",
       "\n",
       "         [[7.3484e-01, 6.5035e-01, 1.9285e-01],\n",
       "          [7.2446e-01, 6.7588e-01, 6.2961e-01],\n",
       "          [5.9973e-01, 9.2989e-01, 2.2253e-01],\n",
       "          ...,\n",
       "          [1.1890e-01, 2.6765e-01, 3.5260e-01],\n",
       "          [1.4750e-01, 9.9302e-01, 9.6293e-01],\n",
       "          [7.5977e-01, 5.7123e-01, 3.8081e-01]]],\n",
       "\n",
       "\n",
       "        [[[5.1348e-01, 8.3293e-01, 7.0894e-01],\n",
       "          [4.2444e-01, 7.7635e-01, 1.8558e-01],\n",
       "          [1.4766e-01, 5.9010e-01, 1.9149e-01],\n",
       "          ...,\n",
       "          [2.1760e-01, 1.9438e-01, 7.1608e-01],\n",
       "          [2.8118e-01, 4.4592e-01, 1.6938e-01],\n",
       "          [4.7696e-02, 4.8936e-01, 3.4055e-01]],\n",
       "\n",
       "         [[1.8199e-01, 3.8642e-02, 8.3759e-01],\n",
       "          [1.4770e-02, 4.1045e-01, 8.2123e-01],\n",
       "          [7.9816e-01, 7.4103e-01, 1.6636e-01],\n",
       "          ...,\n",
       "          [2.5234e-01, 5.6482e-01, 3.3804e-01],\n",
       "          [5.9558e-01, 7.7514e-01, 8.7594e-02],\n",
       "          [3.5984e-01, 3.1774e-01, 6.9818e-01]],\n",
       "\n",
       "         [[2.9064e-01, 4.7286e-01, 1.7270e-01],\n",
       "          [3.7520e-01, 4.4709e-01, 1.5862e-01],\n",
       "          [2.0107e-01, 2.7552e-02, 8.4060e-01],\n",
       "          ...,\n",
       "          [1.4004e-01, 8.5233e-01, 4.0761e-01],\n",
       "          [4.2210e-01, 9.3930e-01, 4.3177e-01],\n",
       "          [5.1740e-01, 5.4407e-01, 8.2581e-01]],\n",
       "\n",
       "         ...,\n",
       "\n",
       "         [[5.9710e-01, 4.2479e-01, 7.0150e-01],\n",
       "          [3.0796e-01, 9.0369e-01, 4.2793e-01],\n",
       "          [1.2331e-01, 3.0834e-01, 6.3573e-01],\n",
       "          ...,\n",
       "          [2.8176e-01, 5.1631e-02, 8.2864e-01],\n",
       "          [6.2885e-01, 9.9936e-01, 2.9814e-02],\n",
       "          [1.9943e-01, 8.2931e-01, 3.6001e-01]],\n",
       "\n",
       "         [[6.1869e-01, 3.4988e-01, 6.5875e-01],\n",
       "          [6.0450e-01, 6.1542e-01, 9.7880e-01],\n",
       "          [1.1449e-01, 2.0868e-01, 1.8370e-01],\n",
       "          ...,\n",
       "          [7.6995e-01, 3.9827e-01, 4.2980e-01],\n",
       "          [7.0397e-01, 2.3150e-02, 8.2368e-01],\n",
       "          [3.1041e-01, 6.2654e-01, 8.6043e-02]],\n",
       "\n",
       "         [[2.7330e-01, 6.7670e-01, 8.6111e-01],\n",
       "          [3.7379e-01, 3.9132e-01, 3.1544e-01],\n",
       "          [9.2671e-01, 6.9382e-01, 4.0008e-02],\n",
       "          ...,\n",
       "          [8.9164e-01, 6.7740e-01, 7.2747e-02],\n",
       "          [9.4246e-01, 5.3240e-01, 4.4746e-01],\n",
       "          [3.5446e-01, 6.7005e-01, 6.5687e-01]]],\n",
       "\n",
       "\n",
       "        [[[1.5042e-01, 2.2313e-01, 4.2786e-01],\n",
       "          [7.9462e-01, 7.2522e-01, 7.1668e-01],\n",
       "          [1.2690e-01, 2.2791e-01, 5.3982e-01],\n",
       "          ...,\n",
       "          [3.7639e-01, 5.2532e-01, 2.0533e-01],\n",
       "          [7.9486e-01, 1.7616e-01, 4.7511e-01],\n",
       "          [7.8098e-01, 6.5428e-01, 3.4710e-01]],\n",
       "\n",
       "         [[9.8760e-01, 3.5833e-01, 4.7483e-01],\n",
       "          [8.3764e-01, 1.0506e-01, 6.0313e-01],\n",
       "          [6.3551e-01, 7.6642e-01, 6.9016e-01],\n",
       "          ...,\n",
       "          [6.6555e-01, 3.3190e-01, 5.7477e-01],\n",
       "          [1.2674e-01, 2.0673e-01, 4.1147e-01],\n",
       "          [7.8721e-01, 7.9175e-01, 4.1691e-02]],\n",
       "\n",
       "         [[6.8349e-01, 6.1675e-01, 1.1050e-01],\n",
       "          [7.0359e-01, 6.0029e-01, 5.2960e-01],\n",
       "          [1.6982e-01, 1.4794e-02, 1.3278e-01],\n",
       "          ...,\n",
       "          [5.7504e-01, 2.1524e-01, 9.8354e-01],\n",
       "          [9.6231e-01, 1.1092e-02, 9.0289e-01],\n",
       "          [1.3970e-01, 1.9475e-02, 6.7988e-01]],\n",
       "\n",
       "         ...,\n",
       "\n",
       "         [[4.8085e-01, 3.2041e-01, 3.9377e-01],\n",
       "          [7.0442e-01, 8.9250e-01, 6.9270e-03],\n",
       "          [4.5386e-01, 9.9349e-01, 4.8180e-01],\n",
       "          ...,\n",
       "          [4.9441e-01, 2.4827e-01, 6.0414e-02],\n",
       "          [4.2248e-01, 2.0725e-01, 2.6435e-01],\n",
       "          [8.4323e-01, 8.2368e-01, 3.6601e-01]],\n",
       "\n",
       "         [[9.8925e-01, 6.0307e-01, 9.4100e-02],\n",
       "          [5.4619e-01, 2.6262e-01, 9.3420e-01],\n",
       "          [4.2618e-01, 4.7649e-02, 2.4299e-01],\n",
       "          ...,\n",
       "          [3.3890e-01, 8.0918e-01, 4.8781e-01],\n",
       "          [1.8883e-01, 3.5794e-01, 6.6806e-01],\n",
       "          [3.9406e-01, 1.4867e-01, 8.5328e-01]],\n",
       "\n",
       "         [[4.1945e-01, 1.1766e-01, 5.3460e-01],\n",
       "          [4.1475e-01, 7.0136e-01, 5.6867e-01],\n",
       "          [6.0836e-01, 1.9737e-01, 2.5682e-01],\n",
       "          ...,\n",
       "          [4.2686e-01, 2.4528e-01, 9.9149e-01],\n",
       "          [5.1372e-01, 1.7839e-02, 1.0236e-01],\n",
       "          [1.2041e-01, 3.4592e-01, 3.3051e-01]]]])"
      ]
     },
     "execution_count": 78,
     "metadata": {},
     "output_type": "execute_result"
    }
   ],
   "source": [
    "#get 2 vectors from a high dimension tensor\n",
    "y = torch.rand(32,224,224,3)\n",
    "y"
   ]
  },
  {
   "cell_type": "code",
   "execution_count": 84,
   "id": "17a75568-5e29-4600-8a3f-bfe7ebe4529f",
   "metadata": {},
   "outputs": [
    {
     "data": {
      "text/plain": [
       "tensor([[0.2006, 0.2457, 0.4991,  ..., 0.1643, 0.4076, 0.8716],\n",
       "        [0.4308, 0.9576, 0.3348,  ..., 0.2973, 0.7033, 0.4634],\n",
       "        [0.2885, 0.6100, 0.4640,  ..., 0.6633, 0.0619, 0.9366],\n",
       "        ...,\n",
       "        [0.7421, 0.2584, 0.9152,  ..., 0.1500, 0.1936, 0.1340],\n",
       "        [0.2856, 0.6538, 0.4895,  ..., 0.7398, 0.5841, 0.4900],\n",
       "        [0.0089, 0.8250, 0.8739,  ..., 0.6813, 0.8600, 0.1329]])"
      ]
     },
     "execution_count": 84,
     "metadata": {},
     "output_type": "execute_result"
    }
   ],
   "source": [
    "#get the first row only \n",
    "y[0,:,:,0]"
   ]
  },
  {
   "cell_type": "code",
   "execution_count": 85,
   "id": "b80a3cc8-f11d-4ae9-b68f-2bb2b4a0e7c8",
   "metadata": {},
   "outputs": [
    {
     "data": {
      "text/plain": [
       "tensor([[0.0395, 0.4420, 0.9425, 0.7827],\n",
       "        [0.0407, 0.3778, 0.5099, 0.4515],\n",
       "        [0.4273, 0.7993, 0.7548, 0.3881]])"
      ]
     },
     "execution_count": 85,
     "metadata": {},
     "output_type": "execute_result"
    }
   ],
   "source": [
    "z = torch.rand(3,4)\n",
    "z"
   ]
  },
  {
   "cell_type": "code",
   "execution_count": 88,
   "id": "5110932a-e1c1-4d8e-ba1e-2e1a77a62716",
   "metadata": {},
   "outputs": [
    {
     "data": {
      "text/plain": [
       "tensor([[0.0395, 0.4420, 0.9425, 0.7827],\n",
       "        [0.0407, 0.3778, 0.5099, 0.4515]])"
      ]
     },
     "execution_count": 88,
     "metadata": {},
     "output_type": "execute_result"
    }
   ],
   "source": [
    "z[0:2,:]"
   ]
  },
  {
   "cell_type": "code",
   "execution_count": 89,
   "id": "8fb12afd-d270-4f33-8db8-1a75e0187de9",
   "metadata": {},
   "outputs": [],
   "source": [
    "#matrix multipilcation"
   ]
  },
  {
   "cell_type": "code",
   "execution_count": 90,
   "id": "13a58f88-53c3-42dc-98a9-6608756ed011",
   "metadata": {},
   "outputs": [
    {
     "name": "stdout",
     "output_type": "stream",
     "text": [
      "torch.Size([3, 3]) torch.Size([3, 4])\n"
     ]
    }
   ],
   "source": [
    "print(t.shape, z.shape)"
   ]
  },
  {
   "cell_type": "code",
   "execution_count": 92,
   "id": "66cddcfd-8259-4b2e-97ab-d6915b470148",
   "metadata": {},
   "outputs": [
    {
     "data": {
      "text/plain": [
       "tensor([[1.3994, 2.9042, 3.1315, 1.8384],\n",
       "        [0.8661, 2.0842, 2.4486, 1.5989],\n",
       "        [1.4779, 3.3570, 3.8767, 2.4457]])"
      ]
     },
     "execution_count": 92,
     "metadata": {},
     "output_type": "execute_result"
    }
   ],
   "source": [
    "torch.matmul(t,z)"
   ]
  },
  {
   "cell_type": "code",
   "execution_count": 93,
   "id": "402b334c-11ea-43bc-b006-bbb3a0388214",
   "metadata": {},
   "outputs": [
    {
     "data": {
      "text/plain": [
       "tensor([[1.3994, 2.9042, 3.1315, 1.8384],\n",
       "        [0.8661, 2.0842, 2.4486, 1.5989],\n",
       "        [1.4779, 3.3570, 3.8767, 2.4457]])"
      ]
     },
     "execution_count": 93,
     "metadata": {},
     "output_type": "execute_result"
    }
   ],
   "source": [
    "t@z"
   ]
  },
  {
   "cell_type": "code",
   "execution_count": 94,
   "id": "54819c97-820f-4528-b9fc-4be30300e3e0",
   "metadata": {},
   "outputs": [
    {
     "data": {
      "text/plain": [
       "tensor([0.7200, 0.0719, 3.2013])"
      ]
     },
     "execution_count": 94,
     "metadata": {},
     "output_type": "execute_result"
    }
   ],
   "source": [
    "#dot only applies to one dimensional vectors\n",
    "t[0,:]"
   ]
  },
  {
   "cell_type": "code",
   "execution_count": 95,
   "id": "4f3f54a7-70d5-4c19-be92-610d64ea68c4",
   "metadata": {},
   "outputs": [
    {
     "data": {
      "text/plain": [
       "tensor([0.0395, 0.0407, 0.4273])"
      ]
     },
     "execution_count": 95,
     "metadata": {},
     "output_type": "execute_result"
    }
   ],
   "source": [
    "z[:,0]"
   ]
  },
  {
   "cell_type": "code",
   "execution_count": 96,
   "id": "c4e4d14d-dea9-4841-90c5-009e00791fbb",
   "metadata": {},
   "outputs": [
    {
     "data": {
      "text/plain": [
       "tensor(1.3994)"
      ]
     },
     "execution_count": 96,
     "metadata": {},
     "output_type": "execute_result"
    }
   ],
   "source": [
    "t[0,:].dot(z[:,0])"
   ]
  },
  {
   "cell_type": "markdown",
   "id": "dd6bdf09-1fb2-4303-864c-758912a63fac",
   "metadata": {},
   "source": [
    "## 4. Auto-differentiation"
   ]
  },
  {
   "cell_type": "code",
   "execution_count": 125,
   "id": "d32a1eb4-e769-4137-b711-a0bbed14a271",
   "metadata": {},
   "outputs": [
    {
     "data": {
      "text/plain": [
       "tensor([[3., 3.],\n",
       "        [3., 3.]], grad_fn=<AddBackward0>)"
      ]
     },
     "execution_count": 125,
     "metadata": {},
     "output_type": "execute_result"
    }
   ],
   "source": [
    "#allow to track x's grad/differentiation\n",
    "x = torch.ones(2, 2, requires_grad=True)\n",
    "y = x**2 + 2\n",
    "y"
   ]
  },
  {
   "cell_type": "code",
   "execution_count": 126,
   "id": "a16b83d6-1315-4acd-abd2-d4d21d5aafa6",
   "metadata": {},
   "outputs": [
    {
     "data": {
      "text/plain": [
       "True"
      ]
     },
     "execution_count": 126,
     "metadata": {},
     "output_type": "execute_result"
    }
   ],
   "source": [
    "x.requires_grad"
   ]
  },
  {
   "cell_type": "code",
   "execution_count": 127,
   "id": "4d7ab731-82e0-464e-9de0-5c03263d9f2c",
   "metadata": {},
   "outputs": [
    {
     "data": {
      "text/plain": [
       "True"
      ]
     },
     "execution_count": 127,
     "metadata": {},
     "output_type": "execute_result"
    }
   ],
   "source": [
    "y.requires_grad"
   ]
  },
  {
   "cell_type": "code",
   "execution_count": 128,
   "id": "cb0647f7-dcd1-49c0-a59f-61a4f3a19623",
   "metadata": {},
   "outputs": [
    {
     "data": {
      "text/plain": [
       "False"
      ]
     },
     "execution_count": 128,
     "metadata": {},
     "output_type": "execute_result"
    }
   ],
   "source": [
    "z= torch.ones(2,3)\n",
    "z.requires_grad"
   ]
  },
  {
   "cell_type": "code",
   "execution_count": 129,
   "id": "ffe08836-0738-411a-aa5d-ef3b4f73c7ea",
   "metadata": {},
   "outputs": [
    {
     "data": {
      "text/plain": [
       "tensor([[1., 1.],\n",
       "        [1., 1.]], requires_grad=True)"
      ]
     },
     "execution_count": 129,
     "metadata": {},
     "output_type": "execute_result"
    }
   ],
   "source": [
    "x"
   ]
  },
  {
   "cell_type": "code",
   "execution_count": 130,
   "id": "dab6cdba-b8ff-4496-9d0d-2e3794895305",
   "metadata": {},
   "outputs": [
    {
     "data": {
      "text/plain": [
       "tensor([[3., 3.],\n",
       "        [3., 3.]], grad_fn=<AddBackward0>)"
      ]
     },
     "execution_count": 130,
     "metadata": {},
     "output_type": "execute_result"
    }
   ],
   "source": [
    "y"
   ]
  },
  {
   "cell_type": "code",
   "execution_count": 131,
   "id": "b72eeb02-b908-46cf-910d-34da9e3f81e0",
   "metadata": {},
   "outputs": [],
   "source": [
    "#the target of differentiation must be scalar, not vector\n",
    "y.max().backward()"
   ]
  },
  {
   "cell_type": "code",
   "execution_count": 132,
   "id": "ef4a8fc6-7923-4059-9242-5fd63f687927",
   "metadata": {},
   "outputs": [
    {
     "data": {
      "text/plain": [
       "tensor([[0.5000, 0.5000],\n",
       "        [0.5000, 0.5000]])"
      ]
     },
     "execution_count": 132,
     "metadata": {},
     "output_type": "execute_result"
    }
   ],
   "source": [
    "#each value of x changes, how much y.max() will be affected, it is (1/4)*y'(x) = (1/4)*2x = 0.5x\n",
    "x.grad"
   ]
  },
  {
   "cell_type": "markdown",
   "id": "7bf3a29c-0508-413c-b6f7-8114f393fa0c",
   "metadata": {},
   "source": [
    "This auto differentiation is very convenient for back propagation."
   ]
  },
  {
   "cell_type": "code",
   "execution_count": 169,
   "id": "24f6590c-b1ff-440c-bb48-07668e001062",
   "metadata": {},
   "outputs": [],
   "source": [
    "x = torch.ones(2, 2, requires_grad=True)\n",
    "y = x + 2\n",
    "# y is not leaf node as x, to get differentiation, we must retain the grad of y\n",
    "y.retain_grad()\n",
    "z=y*y*3"
   ]
  },
  {
   "cell_type": "code",
   "execution_count": 170,
   "id": "c5be34a2-a381-48a0-a69c-e1094491dfe1",
   "metadata": {},
   "outputs": [
    {
     "data": {
      "text/plain": [
       "tensor([[27., 27.],\n",
       "        [27., 27.]], grad_fn=<MulBackward0>)"
      ]
     },
     "execution_count": 170,
     "metadata": {},
     "output_type": "execute_result"
    }
   ],
   "source": [
    "z"
   ]
  },
  {
   "cell_type": "code",
   "execution_count": 171,
   "id": "24570a66-4865-4a06-872b-0a3f4d85d832",
   "metadata": {},
   "outputs": [],
   "source": [
    "z.mean().backward()"
   ]
  },
  {
   "cell_type": "code",
   "execution_count": 172,
   "id": "545c0030-7aa4-482b-b42c-cbfd1fc84c28",
   "metadata": {},
   "outputs": [
    {
     "name": "stdout",
     "output_type": "stream",
     "text": [
      "tensor([[4.5000, 4.5000],\n",
      "        [4.5000, 4.5000]])\n"
     ]
    }
   ],
   "source": [
    "print(y.grad) "
   ]
  },
  {
   "cell_type": "code",
   "execution_count": 173,
   "id": "f4ce5865-a5cc-4fd8-86ae-21142c82f314",
   "metadata": {},
   "outputs": [
    {
     "data": {
      "text/plain": [
       "tensor([[4.5000, 4.5000],\n",
       "        [4.5000, 4.5000]])"
      ]
     },
     "execution_count": 173,
     "metadata": {},
     "output_type": "execute_result"
    }
   ],
   "source": [
    "x.grad"
   ]
  },
  {
   "cell_type": "code",
   "execution_count": 175,
   "id": "70b8d3e8-e0a3-4405-9a6c-98836231a62b",
   "metadata": {},
   "outputs": [
    {
     "name": "stdout",
     "output_type": "stream",
     "text": [
      "False\n"
     ]
    }
   ],
   "source": [
    "# use 'with torch.no_grad()' not to have differentiation temporarily\n",
    "with torch.no_grad():\n",
    "    print((x**2).requires_grad)"
   ]
  },
  {
   "cell_type": "code",
   "execution_count": 178,
   "id": "42ac53e3-e176-4785-8e8d-8431533b3c75",
   "metadata": {},
   "outputs": [
    {
     "data": {
      "text/plain": [
       "False"
      ]
     },
     "execution_count": 178,
     "metadata": {},
     "output_type": "execute_result"
    }
   ],
   "source": [
    "x = torch.ones(2, 2, requires_grad=True)\n",
    "#detach() will also disable the permit to differentiate when generating a new tensor\n",
    "y = (x + 2).detach()\n",
    "y.requires_grad"
   ]
  },
  {
   "cell_type": "code",
   "execution_count": 180,
   "id": "28862ccd-0222-42fe-bd9a-2f5ac8d1b7bc",
   "metadata": {},
   "outputs": [
    {
     "data": {
      "text/plain": [
       "tensor([[ 1.9235,  1.3625],\n",
       "        [-0.1835,  1.1163]], requires_grad=True)"
      ]
     },
     "execution_count": 180,
     "metadata": {},
     "output_type": "execute_result"
    }
   ],
   "source": [
    "a = torch.randn(2,2)\n",
    "#change a's permit to differentiate on the go\n",
    "a.requires_grad_(True)"
   ]
  },
  {
   "cell_type": "code",
   "execution_count": null,
   "id": "414f5581-1f5b-418c-9208-42de84faeaeb",
   "metadata": {},
   "outputs": [],
   "source": []
  }
 ],
 "metadata": {
  "kernelspec": {
   "display_name": "Python 3 (ipykernel)",
   "language": "python",
   "name": "python3"
  },
  "language_info": {
   "codemirror_mode": {
    "name": "ipython",
    "version": 3
   },
   "file_extension": ".py",
   "mimetype": "text/x-python",
   "name": "python",
   "nbconvert_exporter": "python",
   "pygments_lexer": "ipython3",
   "version": "3.10.18"
  }
 },
 "nbformat": 4,
 "nbformat_minor": 5
}
